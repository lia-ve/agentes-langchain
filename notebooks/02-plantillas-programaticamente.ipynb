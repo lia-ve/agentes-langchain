{
 "cells": [
  {
   "metadata": {},
   "cell_type": "markdown",
   "source": "# Plantillas de prompt programáticamente",
   "id": "cb74f29bc77cbd85"
  },
  {
   "metadata": {},
   "cell_type": "markdown",
   "source": [
    "## Instalación de paquetes\n",
    "Si estás corriendo este notebook en Google Colab, corre la siguiente celda para instalar los paquetes necesarios."
   ],
   "id": "590da4b6e9fe317c"
  },
  {
   "cell_type": "code",
   "execution_count": null,
   "id": "initial_id",
   "metadata": {
    "collapsed": true
   },
   "outputs": [],
   "source": "# %pip install langchain langchain_community langchain_openai"
  },
  {
   "metadata": {
    "ExecuteTime": {
     "end_time": "2024-10-17T22:36:37.244078Z",
     "start_time": "2024-10-17T22:36:37.228251Z"
    }
   },
   "cell_type": "code",
   "source": [
    "# Corre esta celda solo si tienes un archivo .env configurado\n",
    "from dotenv import load_dotenv\n",
    "load_dotenv()"
   ],
   "id": "c3f9a336959142bd",
   "outputs": [
    {
     "data": {
      "text/plain": [
       "True"
      ]
     },
     "execution_count": 1,
     "metadata": {},
     "output_type": "execute_result"
    }
   ],
   "execution_count": 1
  },
  {
   "metadata": {},
   "cell_type": "markdown",
   "source": "### Importemos las librerías necesarias",
   "id": "32b3b15e4e36cee"
  },
  {
   "metadata": {
    "ExecuteTime": {
     "end_time": "2024-10-17T22:36:40.421714Z",
     "start_time": "2024-10-17T22:36:39.463347Z"
    }
   },
   "cell_type": "code",
   "source": [
    "import os\n",
    "from openai import OpenAI"
   ],
   "id": "c451e35127dc8d67",
   "outputs": [],
   "execution_count": 2
  },
  {
   "metadata": {},
   "cell_type": "markdown",
   "source": "  Vamos a crear un prompt con la API de ChatCompletion (/chat/completions).",
   "id": "5e401501e2b07854"
  },
  {
   "metadata": {
    "ExecuteTime": {
     "end_time": "2024-10-17T22:36:47.076630Z",
     "start_time": "2024-10-17T22:36:47.019692Z"
    }
   },
   "cell_type": "code",
   "source": "client = OpenAI(api_key=os.getenv(\"LIA_API_KEY\"), base_url=os.getenv(\"LIA_BASE_URL\"))",
   "id": "1778638cb550644a",
   "outputs": [],
   "execution_count": 3
  },
  {
   "metadata": {
    "ExecuteTime": {
     "end_time": "2024-10-17T22:38:39.787268Z",
     "start_time": "2024-10-17T22:38:38.414505Z"
    }
   },
   "cell_type": "code",
   "source": [
    "prompt_input = \"\"\"Escribe un mensaje que te gustaría enviar a un amigo sobre un tema que te interese.\"\"\"\n",
    "response = client.chat.completions.create(\n",
    "  model=os.getenv(\"MODEL\"),\n",
    "  messages=[\n",
    "    {\"role\": \"system\", \"content\": \"Eres un asistente virtual respetuoso y amigable\"},\n",
    "    {\"role\": \"user\", \"content\": prompt_input}\n",
    "  ],\n",
    "  temperature= 0.7,\n",
    "  max_tokens= 100  \n",
    ")\n",
    " \n",
    "print(response.choices[0].message.content)"
   ],
   "id": "9dc5ab6f1fea79c6",
   "outputs": [
    {
     "name": "stdout",
     "output_type": "stream",
     "text": [
      "¡Hola [Nombre del Amigo]!\n",
      "\n",
      "Espero que estés teniendo un excelente día. Quería compartir contigo algo que me ha estado interesando mucho últimamente: la inteligencia artificial y su impacto en nuestra vida diaria. Es impresionante cómo está transformando industrias enteras, desde la salud hasta el entretenimiento. Por ejemplo, las IA ahora pueden ayudar a diagnosticar enfermedades con una precisión increíble o incluso componer música original.\n",
      "\n",
      "Me encantaría saber qué opinas sobre todo esto. ¿Crees que la\n"
     ]
    }
   ],
   "execution_count": 7
  },
  {
   "metadata": {},
   "cell_type": "markdown",
   "source": [
    "### Descripción de los parámetros\n",
    "\n",
    "- **model**: Se refiere al modelo de LLM que se va a utilizar, un servidor puede ofrecer varios modelos, cada uno con diferentes características y capacidades.\n",
    "  \n",
    "- **messages**: Un prompt se compone de una lista de mensajes, cada uno interpretado por un \"rol\" y con algún \"contenido\" con las instrucciones a seguir.\n",
    "\n",
    "- **temperature**: Este es un coeficiente de \"creatividad\" o \"entropía\", que varía de 0 (sin creatividad, lo que significa que el resultado será siempre el mismo dado el mismo prompt) a 1 (el resultado variará considerablemente en cada ejecución del mismo prompt).\n",
    "\n",
    "- **max_tokens**: Esto limita el número de tokens de salida, generalmente para reducir costos."
   ],
   "id": "2f933eb76e302de3"
  },
  {
   "metadata": {},
   "cell_type": "markdown",
   "source": "## Hagamos el prompt con el objeto de Langchain",
   "id": "4630ea8b57527094"
  },
  {
   "metadata": {
    "ExecuteTime": {
     "end_time": "2024-10-17T22:52:28.406058Z",
     "start_time": "2024-10-17T22:52:26.503476Z"
    }
   },
   "cell_type": "code",
   "source": [
    "from langchain_openai import ChatOpenAI \n",
    "\n",
    "llm = ChatOpenAI(\n",
    "    model=os.getenv(\"MODEL\"),\n",
    "    openai_api_key=os.getenv(\"LIA_API_KEY\"),\n",
    "    openai_api_base=os.getenv(\"LIA_API_BASE\"),\n",
    "    max_tokens=2000,\n",
    "    temperature=0.6,\n",
    ")"
   ],
   "id": "46f2130a00bac6f4",
   "outputs": [],
   "execution_count": 8
  },
  {
   "metadata": {
    "ExecuteTime": {
     "end_time": "2024-10-17T22:53:06.887283Z",
     "start_time": "2024-10-17T22:53:04.674234Z"
    }
   },
   "cell_type": "code",
   "source": [
    "prompt_input = \"\"\"Escribe un mensaje que te gustaría enviar a un amigo sobre un tema que te interese.\"\"\"\n",
    " \n",
    "response = llm.invoke(prompt_input)\n",
    "print(response.content)"
   ],
   "id": "f5378b47b77be9d2",
   "outputs": [
    {
     "name": "stdout",
     "output_type": "stream",
     "text": [
      "¡Hola [Nombre del Amigo]!\n",
      "\n",
      "Espero que estés muy bien. Quería contarte sobre un tema que me tiene súper entusiasmado últimamente: la exploración espacial y los avances recientes en esta área. ¿Sabías que hay planes para volver a la Luna en los próximos años con el programa Artemis de la NASA? ¡Es increíble pensar en lo que podríamos descubrir!\n",
      "\n",
      "Además, las misiones a Marte están avanzando de manera impresionante. La idea de que en un futuro no muy lejano podamos tener colonias humanas en otro planeta es fascinante. Me parece un tema apasionante porque no solo implica tecnología avanzada, sino también la posibilidad de expandir nuestro conocimiento sobre el universo y nuestro lugar en él.\n",
      "\n",
      "Me encantaría saber qué piensas al respecto y si también te interesa este tema. Quizás podríamos ver algún documental o charla sobre el tema juntos.\n",
      "\n",
      "¡Nos hablamos pronto!\n",
      "\n",
      "Un abrazo,\n",
      "[Tu Nombre]\n"
     ]
    }
   ],
   "execution_count": 9
  },
  {
   "metadata": {},
   "cell_type": "markdown",
   "source": "",
   "id": "34430569dbb0f50f"
  },
  {
   "metadata": {},
   "cell_type": "markdown",
   "source": "## Implementar una plantilla con una función",
   "id": "6067c8345a2c24e7"
  },
  {
   "metadata": {
    "ExecuteTime": {
     "end_time": "2024-10-17T22:58:06.509770Z",
     "start_time": "2024-10-17T22:58:06.505802Z"
    }
   },
   "cell_type": "code",
   "source": [
    "def generate_text_summary_prompt(text, num_words, tone):\n",
    "    return f'Eres un redactor experimentado. Escribe un resumen de {num_words} palabras del siguiente texto, usando un tono {tone}: {text}'"
   ],
   "id": "2a68c27883a2b164",
   "outputs": [],
   "execution_count": 10
  },
  {
   "metadata": {
    "ExecuteTime": {
     "end_time": "2024-10-17T22:59:09.184140Z",
     "start_time": "2024-10-17T22:59:09.179671Z"
    }
   },
   "cell_type": "code",
   "source": [
    "turing_text = \"\"\"Alan Turing (1912–1954) fue un matemático, lógico y criptógrafo británico, considerado uno de los padres de la informática moderna. Nació en Londres y desde una temprana edad mostró un talento excepcional para las matemáticas y las ciencias. Asistió a la Universidad de Cambridge, donde destacó en matemáticas puras, y más tarde obtuvo su doctorado en la Universidad de Princeton en Estados Unidos.\n",
    "\n",
    "Turing es más conocido por su trabajo durante la Segunda Guerra Mundial en Bletchley Park, donde jugó un papel crucial en la ruptura de los códigos de la máquina Enigma, utilizada por las fuerzas alemanas para cifrar sus comunicaciones. Su invención, la \"bomba de Turing\", fue un dispositivo mecánico diseñado para descifrar estos códigos, y se le atribuye haber acortado la guerra en varios años y haber salvado innumerables vidas.\n",
    "\n",
    "Además de su contribución a la criptografía, Turing hizo importantes avances en la teoría de la computación. En 1936, antes de la guerra, publicó su célebre artículo \"On Computable Numbers,\" donde introdujo el concepto de la \"máquina de Turing\", un modelo teórico que describe los principios de una computadora y que es fundamental para la informática teórica. Este trabajo sentó las bases para la creación de las primeras computadoras modernas.\n",
    "\n",
    "Turing también reflexionó sobre la inteligencia artificial, proponiendo en 1950 lo que hoy se conoce como el \"Test de Turing,\" un experimento mental para evaluar la capacidad de una máquina para exhibir comportamiento inteligente indistinguible del de un ser humano.\n",
    "\n",
    "A pesar de sus logros, la vida personal de Turing estuvo marcada por la tragedia. En 1952, fue procesado en Reino Unido por su homosexualidad, entonces considerada un delito. Como parte de su condena, fue sometido a una castración química, lo que afectó profundamente su salud mental. Dos años después, en 1954, Turing fue encontrado muerto en su casa, aparentemente por suicidio.\n",
    "\n",
    "Hoy, Alan Turing es reconocido como un pionero de la informática y un héroe de guerra. Su vida y trabajo han sido revalorizados, y en 2013 recibió un indulto póstumo por su condena. Su legado sigue vivo en el campo de la tecnología, y su impacto en la ciencia y la sociedad es incalculable.\"\"\""
   ],
   "id": "38d5fd624b4e91d6",
   "outputs": [],
   "execution_count": 12
  },
  {
   "metadata": {
    "ExecuteTime": {
     "end_time": "2024-10-17T22:59:28.839721Z",
     "start_time": "2024-10-17T22:59:27.977509Z"
    }
   },
   "cell_type": "code",
   "source": [
    "input_prompt = generate_text_summary_prompt(text=turing_text, num_words=20, tone=\"formal y académico\")\n",
    " \n",
    "response = llm.invoke(input_prompt)\n",
    "print(response.content)"
   ],
   "id": "e77ee379ec1a515e",
   "outputs": [
    {
     "name": "stdout",
     "output_type": "stream",
     "text": [
      "Alan Turing, matemático británico, revolucionó la criptografía y computación. Su legado perdura, pese a la injusticia sufrida. Indultado póstumamente.\n"
     ]
    }
   ],
   "execution_count": 13
  },
  {
   "metadata": {},
   "cell_type": "markdown",
   "source": "### Usando PromptTemplate",
   "id": "9dcbca8484ed32bf"
  },
  {
   "metadata": {
    "ExecuteTime": {
     "end_time": "2024-10-17T23:12:26.839424Z",
     "start_time": "2024-10-17T23:12:26.836493Z"
    }
   },
   "cell_type": "code",
   "source": [
    "from langchain_core.prompts import PromptTemplate\n",
    " \n",
    "prompt_template = PromptTemplate.from_template(\"Eres un redactor experimentado. Escribe un resumen de {num_words} palabras del siguiente texto, usando un tono {tone}: {text}\")"
   ],
   "id": "fa30446457ec03df",
   "outputs": [],
   "execution_count": 14
  },
  {
   "metadata": {
    "ExecuteTime": {
     "end_time": "2024-10-17T23:12:44.745677Z",
     "start_time": "2024-10-17T23:12:44.743133Z"
    }
   },
   "cell_type": "code",
   "source": "prompt = prompt_template.format(text=turing_text, num_words=20, tone=\"formal y académico\")",
   "id": "a784dffd273563af",
   "outputs": [],
   "execution_count": 15
  },
  {
   "metadata": {
    "ExecuteTime": {
     "end_time": "2024-10-17T23:12:52.496288Z",
     "start_time": "2024-10-17T23:12:51.781764Z"
    }
   },
   "cell_type": "code",
   "source": [
    "response = llm.invoke(prompt)\n",
    "print(response.content)"
   ],
   "id": "f0855724e1c5ab8e",
   "outputs": [
    {
     "name": "stdout",
     "output_type": "stream",
     "text": [
      "Alan Turing, matemático británico, revolucionó la informática y la criptografía; su legado perdura pese a la injusticia sufrida.\n"
     ]
    }
   ],
   "execution_count": 16
  },
  {
   "metadata": {},
   "cell_type": "markdown",
   "source": "### Ejecutando un Prompt con LCEL",
   "id": "3613521eb8d3871f"
  },
  {
   "metadata": {
    "ExecuteTime": {
     "end_time": "2024-10-17T23:14:18.786799Z",
     "start_time": "2024-10-17T23:14:17.794813Z"
    }
   },
   "cell_type": "code",
   "source": [
    "chain = prompt_template | llm\n",
    "\n",
    "response = chain.invoke({\"text\": turing_text, \n",
    "              \"num_words\": 20, \n",
    "              \"tone\": \"conocedor y motivador\"})\n",
    "\n",
    "print(response.content)"
   ],
   "id": "ae32b21709e13d3",
   "outputs": [
    {
     "name": "stdout",
     "output_type": "stream",
     "text": [
      "Alan Turing, pionero de la informática, descifró códigos Enigma, revolucionó la computación y reflexionó sobre inteligencia artificial, dejando un legado perdurable.\n"
     ]
    }
   ],
   "execution_count": 17
  },
  {
   "metadata": {},
   "cell_type": "code",
   "outputs": [],
   "execution_count": null,
   "source": "",
   "id": "4f07214b3eb7171d"
  }
 ],
 "metadata": {
  "kernelspec": {
   "display_name": "Python 3",
   "language": "python",
   "name": "python3"
  },
  "language_info": {
   "codemirror_mode": {
    "name": "ipython",
    "version": 2
   },
   "file_extension": ".py",
   "mimetype": "text/x-python",
   "name": "python",
   "nbconvert_exporter": "python",
   "pygments_lexer": "ipython2",
   "version": "2.7.6"
  }
 },
 "nbformat": 4,
 "nbformat_minor": 5
}

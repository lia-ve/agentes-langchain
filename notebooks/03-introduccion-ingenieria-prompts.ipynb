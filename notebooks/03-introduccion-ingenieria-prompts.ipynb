{
 "cells": [
  {
   "metadata": {},
   "cell_type": "markdown",
   "source": "# Introducción a la Ingeniería de Prompt",
   "id": "18f49d7a15b2e303"
  },
  {
   "metadata": {},
   "cell_type": "markdown",
   "source": [
    "## Instalación de paquetes\n",
    "Si estás corriendo este notebook en Google Colab, corre la siguiente celda para instalar los paquetes necesarios."
   ],
   "id": "10cec04f2c1ade93"
  },
  {
   "cell_type": "code",
   "id": "initial_id",
   "metadata": {
    "collapsed": true,
    "ExecuteTime": {
     "end_time": "2024-10-18T21:32:31.451558Z",
     "start_time": "2024-10-18T21:32:31.448217Z"
    }
   },
   "source": "# %pip install langchain langchain_community langchain_openai",
   "outputs": [],
   "execution_count": 1
  },
  {
   "metadata": {
    "ExecuteTime": {
     "end_time": "2024-10-18T22:07:42.060041Z",
     "start_time": "2024-10-18T22:07:42.046295Z"
    }
   },
   "cell_type": "code",
   "source": [
    "# Corre esta celda solo si tienes un archivo .env configurado\n",
    "from dotenv import load_dotenv\n",
    "load_dotenv()"
   ],
   "id": "77b0e701324da688",
   "outputs": [
    {
     "data": {
      "text/plain": [
       "True"
      ]
     },
     "execution_count": 2,
     "metadata": {},
     "output_type": "execute_result"
    }
   ],
   "execution_count": 2
  },
  {
   "metadata": {},
   "cell_type": "markdown",
   "source": "## Concepto",
   "id": "1ad09d8956966d05"
  },
  {
   "metadata": {},
   "cell_type": "markdown",
   "source": "La Ingeniería de Prompts se refiere a las técnicas y metodologías empleadas en la construcción de prompts efectivos para guiar a los Modelos de Lenguaje de Gran Escala (LLMs) en la generación de resultados impactantes. Esto incluye el prompting basado en aprendizaje (In-context Learning (Brown et al., 2020; Wei et al., 2022)) y el prompting específico para tareas (zero-shot Chain-of-Thought (Kojima et al., 2022)).",
   "id": "7a83f18033b54495"
  },
  {
   "metadata": {},
   "cell_type": "markdown",
   "source": "## Ejemplos básicos de Prompt",
   "id": "5a47adf63d6cf4cf"
  },
  {
   "metadata": {
    "ExecuteTime": {
     "end_time": "2024-10-18T22:07:45.809549Z",
     "start_time": "2024-10-18T22:07:44.176741Z"
    }
   },
   "cell_type": "code",
   "source": [
    "import os\n",
    "from langchain_openai import ChatOpenAI \n",
    "from langchain_core.messages import HumanMessage, SystemMessage\n",
    "\n",
    "llm = ChatOpenAI(\n",
    "    model=os.getenv(\"MODEL\"),\n",
    "    openai_api_key=os.getenv(\"LIA_API_KEY\"),\n",
    "    openai_api_base=os.getenv(\"LIA_API_BASE\"),\n",
    "    max_tokens=2000,\n",
    "    temperature=0.6,\n",
    ")"
   ],
   "id": "dc7a666101d9d96",
   "outputs": [],
   "execution_count": 3
  },
  {
   "metadata": {},
   "cell_type": "markdown",
   "source": [
    "El formato de **chat completions** sigue un esquema de interacción entre un sistema y un humano. \n",
    "\n",
    "En este caso, el mensaje de entrada tiene distintos tipos pero los más comunes son:\n",
    "\n",
    "1. **SystemMessage**: Define el contexto o las instrucciones iniciales para la conversación.\n",
    "   \n",
    "2. **HumanMessage**: Representa la entrada del usuario o humano.\n",
    "\n",
    "\n",
    "3. **AIMessage**: Representa la salida del sistema o IA. "
   ],
   "id": "122b023ced43cb2f"
  },
  {
   "metadata": {
    "ExecuteTime": {
     "end_time": "2024-10-18T22:07:46.309200Z",
     "start_time": "2024-10-18T22:07:45.820352Z"
    }
   },
   "cell_type": "code",
   "source": [
    "# Clasificación de texto\n",
    "\n",
    "messages = [\n",
    "    SystemMessage(\n",
    "        content=\"Clasifica el siguiente texto en una de estas categorías: historia, tecnología, jardinería.\"\n",
    "    ),\n",
    "    HumanMessage(\n",
    "        content=\"Los auriculares proporcionan experiencias de audio inmersivas tanto para los amantes de la música como para los jugadores.\"\n",
    "    ),\n",
    "]\n",
    "\n",
    "llm.invoke(messages).content"
   ],
   "id": "83da0bb604d3017c",
   "outputs": [
    {
     "data": {
      "text/plain": [
       "'Tecnología'"
      ]
     },
     "execution_count": 4,
     "metadata": {},
     "output_type": "execute_result"
    }
   ],
   "execution_count": 4
  },
  {
   "metadata": {
    "ExecuteTime": {
     "end_time": "2024-10-18T22:12:25.343449Z",
     "start_time": "2024-10-18T22:12:24.744290Z"
    }
   },
   "cell_type": "code",
   "source": [
    "# Análisis de sentimientos\n",
    "\n",
    "messages = [\n",
    "    SystemMessage(\n",
    "        content=\"Analiza el siguiente texto y determina si es positivo, negativo o neutral.\"\n",
    "    ),\n",
    "    HumanMessage(\n",
    "        content=\"Me encanta la comida de este restaurante.\"\n",
    "    ),\n",
    "]\n",
    "\n",
    "llm.invoke(messages).content"
   ],
   "id": "48be1d6aa84db81e",
   "outputs": [
    {
     "data": {
      "text/plain": [
       "'Positivo'"
      ]
     },
     "execution_count": 5,
     "metadata": {},
     "output_type": "execute_result"
    }
   ],
   "execution_count": 5
  },
  {
   "metadata": {
    "ExecuteTime": {
     "end_time": "2024-10-18T22:15:09.176999Z",
     "start_time": "2024-10-18T22:15:08.394102Z"
    }
   },
   "cell_type": "code",
   "source": [
    "# Análisis de sentimiento de varios textos (+JSON)\n",
    "\n",
    "messages = [\n",
    "    SystemMessage(\n",
    "        content=\"Clasifica el sentimiento de los siguientes reportes de acciones como positivo, neutral o negativo. Responde en formato JSON.\"\n",
    "    ),\n",
    "    HumanMessage(\n",
    "        content=\"\"\"\n",
    "Reporte 1: Apple: el lanzamiento del nuevo iPhone ha sido un éxito\n",
    "\n",
    "Reporte 2: Nvidia: las ventas están siendo impulsadas por la demanda de consumidores en LLMs\n",
    "\n",
    "Reporte 3: GX oil: la demanda de energía basada en carbono está disminuyendo gracias al aumento de la energía renovable\n",
    "\"\"\"\n",
    "    ),\n",
    "]\n",
    "\n",
    "llm.invoke(messages).content\n"
   ],
   "id": "2056739cb77f0632",
   "outputs": [
    {
     "data": {
      "text/plain": [
       "'```json\\n{\\n  \"Reporte 1\": \"positivo\",\\n  \"Reporte 2\": \"positivo\",\\n  \"Reporte 3\": \"negativo\"\\n}\\n```'"
      ]
     },
     "execution_count": 6,
     "metadata": {},
     "output_type": "execute_result"
    }
   ],
   "execution_count": 6
  },
  {
   "metadata": {
    "ExecuteTime": {
     "end_time": "2024-10-18T22:16:08.093052Z",
     "start_time": "2024-10-18T22:16:07.277590Z"
    }
   },
   "cell_type": "code",
   "source": [
    "# Resumen de texto\n",
    "\n",
    "messages = [\n",
    "    SystemMessage(\n",
    "        content=\"Escribe un resumen de 30 palabras para el siguiente texto.\"\n",
    "    ),\n",
    "    HumanMessage(\n",
    "        content=\"\"\"\n",
    "Las PCs domésticas de los años 80 fueron pioneras icónicas de la computación personal. Computadoras como el Apple II, IBM PC y Commodore 64 revolucionaron cómo vivimos y trabajamos. Introdujeron el procesamiento de textos, los juegos y las posibilidades de la computación en el hogar. La interfaz gráfica, vista en el Apple Macintosh, cambió la forma en que interactuamos con las máquinas. Estas PCs, aunque menos potentes según los estándares actuales, encendieron una revolución digital, dando forma al paisaje tecnológico actual. Ocupan un lugar especial en la historia, simbolizando el amanecer de una nueva era en la computación que sentó las bases de la era digital moderna.\n",
    "\"\"\"\n",
    "    ),\n",
    "]\n",
    "\n",
    "llm.invoke(messages).content"
   ],
   "id": "8daf339581f4395e",
   "outputs": [
    {
     "data": {
      "text/plain": [
       "'Las PCs de los años 80, como el Apple II y Commodore 64, revolucionaron la computación personal, introduciendo procesamiento de textos y juegos, y sentaron las bases de la era digital moderna.'"
      ]
     },
     "execution_count": 7,
     "metadata": {},
     "output_type": "execute_result"
    }
   ],
   "execution_count": 7
  },
  {
   "metadata": {
    "ExecuteTime": {
     "end_time": "2024-10-18T22:18:19.386721Z",
     "start_time": "2024-10-18T22:18:12.245882Z"
    }
   },
   "cell_type": "code",
   "source": [
    "# Componer texto\n",
    "\n",
    "messages = [\n",
    "    SystemMessage(\n",
    "        content=\"Escribe un texto sobre los relojes de buceo, mencionando los siguientes hechos:\"\n",
    "    ),\n",
    "    HumanMessage(\n",
    "        content=\"\"\"\n",
    "- El Rolex Oyster Perpetual fue uno de los primeros en ser resistente al agua.\n",
    "- Omega produjo el Seamaster en 1948 como el primer reloj de buceo diseñado específicamente.\n",
    "- El Seamaster estableció un récord mundial de inmersión de 62.5m en 1955.\n",
    "- Rolex produjo el primer Submariner en 1953.\n",
    "- El Submariner se hizo popular también por la asociación con James Bond hasta 1995.\n",
    "- James Bond comenzó a usar el Seamaster en 1995.\n",
    "\"\"\"\n",
    "    ),\n",
    "]\n",
    "\n",
    "llm.invoke(messages).content\n",
    "    "
   ],
   "id": "2c42d1577925ea05",
   "outputs": [
    {
     "data": {
      "text/plain": [
       "'Los relojes de buceo no solo son herramientas esenciales para aventureros submarinos, sino que también han capturado la imaginación del público en general gracias a su diseño robusto y su asociación con personajes icónicos. Entre los pioneros en la creación de relojes resistentes al agua se encuentra el Rolex Oyster Perpetual, uno de los primeros modelos en ofrecer esta característica esencial para los amantes del buceo y los deportes acuáticos.\\n\\nSin embargo, fue Omega quien dio un paso significativo en la historia de los relojes de buceo con el lanzamiento del Seamaster en 1948. Diseñado específicamente para el buceo, el Seamaster no solo ofrecía resistencia al agua, sino que también estableció un récord mundial en 1955, cuando logró una inmersión de 62.5 metros, demostrando su fiabilidad y durabilidad bajo condiciones extremas.\\n\\nPor otro lado, Rolex continuó su legado de innovación con la introducción del Submariner en 1953. Este reloj se convirtió en un icono, no solo por sus características técnicas, sino también por su aparición en las muñecas de personajes tan legendarios como James Bond. Desde su debut, el Submariner fue el reloj elegido por el famoso espía en numerosas películas, hasta que en 1995, el Seamaster de Omega tomó el relevo como el reloj oficial de Bond, consolidando así su estatus en la cultura popular.\\n\\nAmbos relojes, el Rolex Submariner y el Omega Seamaster, no solo simbolizan la excelencia en la relojería para el buceo, sino que también representan una fusión de funcionalidad y estilo que ha conquistado tanto a entusiastas del buceo como a coleccionistas alrededor del mundo.'"
      ]
     },
     "execution_count": 8,
     "metadata": {},
     "output_type": "execute_result"
    }
   ],
   "execution_count": 8
  },
  {
   "metadata": {
    "ExecuteTime": {
     "end_time": "2024-10-18T22:22:55.940518Z",
     "start_time": "2024-10-18T22:22:55.375036Z"
    }
   },
   "cell_type": "code",
   "source": [
    "# Responder preguntas (Question Answering)\n",
    "\n",
    "messages = [\n",
    "    SystemMessage(\n",
    "        content=\"Eres un asistente que responde preguntas. Responde en menos de 30 palabras. Apóyate en el siguiente contexto: Las PCs domésticas de los años 80 fueron pioneras icónicas de la computación personal. Computadoras como el Apple II, IBM PC y Commodore 64 revolucionaron cómo vivimos y trabajamos. Introdujeron el procesamiento de textos, los juegos y las posibilidades de la computación en el hogar. La interfaz gráfica, vista en el Apple Macintosh, cambió la forma en que interactuamos con las máquinas. Estas PCs, aunque menos potentes según los estándares actuales, encendieron una revolución digital, dando forma al paisaje tecnológico actual. Ocupan un lugar especial en la historia, simbolizando el amanecer de una nueva era en la computación que sentó las bases de la era digital moderna.\"\n",
    "    ),\n",
    "    HumanMessage(\n",
    "        content=\"\"\"Dime qué computadoras domésticas fueron populares en los años 80\"\"\"\n",
    "    ),\n",
    "]\n",
    "\n",
    "llm.invoke(messages).content"
   ],
   "id": "9a7108940ac8bc62",
   "outputs": [
    {
     "data": {
      "text/plain": [
       "'Apple II, IBM PC, Commodore 64 y Apple Macintosh fueron populares en los años 80.'"
      ]
     },
     "execution_count": 11,
     "metadata": {},
     "output_type": "execute_result"
    }
   ],
   "execution_count": 11
  },
  {
   "metadata": {},
   "cell_type": "markdown",
   "source": [
    "## Referencias\n",
    "\n",
    "- Tom Brown, Benjamin Mann, Nick Ryder, Melanie Subbiah, Jared D Kaplan, Prafulla Dhariwal,\n",
    "Arvind Neelakantan, Pranav Shyam, Girish Sastry, Amanda Askell, et al. Language models are\n",
    "few-shot learners. Advances in neural information processing systems, 33:1877–1901, 2020.\n",
    "\n",
    "- Takeshi Kojima, Shixiang Shane Gu, Machel Reid, Yutaka Matsuo, and Yusuke Iwasawa. Large\n",
    "language models are zero-shot reasoners. Advances in neural information processing systems, 35:\n",
    "22199–22213, 2022.\n",
    "\n",
    "- Jason Wei, Xuezhi Wang, Dale Schuurmans, Maarten Bosma, Fei Xia, Ed Chi, Quoc V Le, Denny\n",
    "Zhou, et al. Chain-of-thought prompting elicits reasoning in large language models. Advances in\n",
    "neural information processing systems, 35:24824–24837, 2022."
   ],
   "id": "39b6aae8e4ef5fd9"
  },
  {
   "metadata": {},
   "cell_type": "code",
   "outputs": [],
   "execution_count": null,
   "source": "",
   "id": "c5225f1caa0b85cb"
  }
 ],
 "metadata": {
  "kernelspec": {
   "display_name": "Python 3",
   "language": "python",
   "name": "python3"
  },
  "language_info": {
   "codemirror_mode": {
    "name": "ipython",
    "version": 2
   },
   "file_extension": ".py",
   "mimetype": "text/x-python",
   "name": "python",
   "nbconvert_exporter": "python",
   "pygments_lexer": "ipython2",
   "version": "2.7.6"
  }
 },
 "nbformat": 4,
 "nbformat_minor": 5
}

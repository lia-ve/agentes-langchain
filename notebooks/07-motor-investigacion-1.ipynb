{
 "cells": [
  {
   "metadata": {},
   "cell_type": "markdown",
   "source": "# Motor de Investigación",
   "id": "27c58daa8b2fcb43"
  },
  {
   "metadata": {},
   "cell_type": "markdown",
   "source": [
    "## Instalación de paquetes\n",
    "Si estás corriendo este notebook en Google Colab, corre la siguiente celda para instalar los paquetes necesarios."
   ],
   "id": "f6a03e2c713a224d"
  },
  {
   "cell_type": "code",
   "id": "initial_id",
   "metadata": {
    "collapsed": true,
    "ExecuteTime": {
     "end_time": "2024-10-22T20:22:36.174719Z",
     "start_time": "2024-10-22T20:22:36.154611Z"
    }
   },
   "source": "# %pip install langchain langchain_community langchain_openai duckduckgo-search",
   "outputs": [],
   "execution_count": 12
  },
  {
   "metadata": {
    "ExecuteTime": {
     "end_time": "2024-10-22T20:22:36.280727Z",
     "start_time": "2024-10-22T20:22:36.267139Z"
    }
   },
   "cell_type": "code",
   "source": [
    "# Corre esta celda solo si tienes un archivo .env configurado\n",
    "from dotenv import load_dotenv\n",
    "load_dotenv()"
   ],
   "id": "b423b1521bdb0410",
   "outputs": [
    {
     "data": {
      "text/plain": [
       "True"
      ]
     },
     "execution_count": 13,
     "metadata": {},
     "output_type": "execute_result"
    }
   ],
   "execution_count": 13
  },
  {
   "metadata": {},
   "cell_type": "markdown",
   "source": [
    "## Búsqueda en la web\n",
    "\n",
    "Pasos a realizar:\n",
    "1. Crear una herramienta de búsqueda en la web.\n",
    "2. Crear una herramienta de web scraping.\n",
    "3. Crear los prompts.\n",
    "4. Implementar la arquitectura."
   ],
   "id": "6ed7ca30ee8bfbbc"
  },
  {
   "metadata": {},
   "cell_type": "markdown",
   "source": "### Paso 1: Crear una herramienta de búsqueda en la web",
   "id": "c5dcc43eae433ed0"
  },
  {
   "metadata": {
    "ExecuteTime": {
     "end_time": "2024-10-22T20:22:36.318674Z",
     "start_time": "2024-10-22T20:22:36.310228Z"
    }
   },
   "cell_type": "code",
   "source": [
    "# Herramienta de búsqueda en la web\n",
    "\n",
    "from langchain_community.utilities import DuckDuckGoSearchAPIWrapper\n",
    "from typing import List\n",
    " \n",
    "def web_search(web_query: str, num_results: int) -> List[str]:\n",
    "    return [r[\"link\"] for r in DuckDuckGoSearchAPIWrapper().results(web_query, num_results)]"
   ],
   "id": "6aa71933a1cbb0c0",
   "outputs": [],
   "execution_count": 14
  },
  {
   "metadata": {
    "ExecuteTime": {
     "end_time": "2024-10-22T20:22:37.887650Z",
     "start_time": "2024-10-22T20:22:36.341517Z"
    }
   },
   "cell_type": "code",
   "source": [
    "# Hagamos una prueba del buscador\n",
    " \n",
    "result = web_search(web_query=\"Cuántos balones de oro tiene Messi?\", num_results=5)\n",
    "print(result)"
   ],
   "id": "fd2f07da62fe7f86",
   "outputs": [
    {
     "name": "stdout",
     "output_type": "stream",
     "text": [
      "['https://www.ole.com.ar/messi/8-balones-oro-messi-titulos-goles-asistencias_0_wY0tK0XVIf.html', 'https://www.dazn.com/es-ES/news/fútbol/cuantos-balones-oro-leo-messi/lqeidd5kuq1111h3n3zxixkyu', 'https://cnnespanol.cnn.com/2023/10/30/lionel-messi-cuantos-balones-de-oro-ganado-orix/', 'https://www.sport.es/es/noticias/balon-oro/balones-oro-messi-total-12264298', 'https://tn.com.ar/deportes/futbol/2023/10/30/cuantos-balones-de-oro-tiene-lionel-messi-el-mejor-de-la-historia/']\n"
     ]
    }
   ],
   "execution_count": 15
  },
  {
   "metadata": {},
   "cell_type": "markdown",
   "source": [
    "Nota \n",
    "--- \n",
    "LangChain también ofrece otros wrappers para motores de búsqueda web, como **TavilySearchResults** y **GoogleSearchAPIWrapper**. Pero ambos requieren una clave API, por practicidad decidimos usar **DuckDuckGoSearchAPIWrapper**."
   ],
   "id": "fff62d05c2938e0d"
  },
  {
   "metadata": {},
   "cell_type": "markdown",
   "source": "### Paso 2: Crear una herramienta de web scraping",
   "id": "b36d824f10fbcc01"
  },
  {
   "metadata": {
    "ExecuteTime": {
     "end_time": "2024-10-22T20:22:37.913237Z",
     "start_time": "2024-10-22T20:22:37.907859Z"
    }
   },
   "cell_type": "code",
   "source": [
    "# Herramienta de web scraping\n",
    "\n",
    "import requests\n",
    "from bs4 import BeautifulSoup\n",
    " \n",
    "def web_scrape(url: str) -> str:\n",
    "    try:\n",
    "        response = requests.get(url)\n",
    " \n",
    "        if response.status_code == 200:\n",
    "            soup = BeautifulSoup(response.text, \"html.parser\")\n",
    "            page_text = soup.get_text(separator=\" \", strip=True)\n",
    " \n",
    "            return page_text\n",
    "        else:\n",
    "            return f\"No se pudo recuperar la página web: Código {response.status_code}\"\n",
    "    except Exception as e:\n",
    "        print(e)\n",
    "        return f\"No se pudo recuperar la página web: {e}\""
   ],
   "id": "2b67f8a82431dd6d",
   "outputs": [],
   "execution_count": 16
  },
  {
   "metadata": {
    "ExecuteTime": {
     "end_time": "2024-10-22T20:22:38.856893Z",
     "start_time": "2024-10-22T20:22:37.963104Z"
    }
   },
   "cell_type": "code",
   "source": [
    "# Vamos a probar la herramienta de web scraping\n",
    "\n",
    "result = web_scrape('https://www.sport.es/es/noticias/balon-oro/balones-oro-messi-total-12264298')\n",
    "print(result)"
   ],
   "id": "22ca294e79e3f9ce",
   "outputs": [
    {
     "name": "stdout",
     "output_type": "stream",
     "text": [
      "¿Cuántos Balones de Oro tiene Messi en total? Temas Real Madrid - Borussia Dortmund Girona Slovan Bratislava Champions hoy Clasificación Champions Madrid - Dortmund horario Bronca Bernabéu Raphinha Nico Williams Topuria - Holloway horario Xavi United Barcelona Youth League Balón de Oro Ceciarmy NBA 24-25 Entradas Clásico Mundial de Clubes Clasificación Euroliga Gonzalo Bernardos Programación DAZN Clasificación Grupo España Últimas noticias Clasificación LaLiga Clasificación Champions F Formato Champions Dinero Champions Worlds LoL 2024 Fichajes Barça Dónde ver LaLiga Clasificación F1 Clasificación MotoGP Próxima carrera F1 Suscripción sport ÚLTIMA HORA Barça Barça Clásico Fichajes Última hora Femenino Baloncesto Balonmano Fútbol Sala Hockey Cantera Real Madrid Real Madrid Clásico Calendario Fichajes Última hora Plantilla Vídeos Real Madrid Galerías Real Madrid Fútbol Fútbol LaLiga EA Sports Liga F Fútbol Internacional LaLiga Hypermotion Copa del Rey Selección Champions League Europa League Premier League Liga Francesa Bundesliga Calcio Copa de la Reina Supercopa de España Calendario Motor Motor Fórmula 1 Moto GP Moto 2 Moto 3 Rallies Dakar NeoMotor +Deportes +Deportes Baloncesto Tenis Ciclismo Balonmano UFC Atletismo Natación Pádel Golf Esport Català Outdoor NBA Rugby NFL Juegos Olímpicos Juegos Paralímpicos Hockey Nieve e-Sports Deporte Extremo Boxeo Running WWE Sport TV Actualidad Actualidad FDJ FDJ Gente Televisión Kings League Tecnología Preguntas Moda y belleza Directos Iniciar sesión ÚLTIMA HORA Barça Últimas noticias Fichajes Barça FC Barcelona Plantilla Barça Clásico Barça Atlètic Cantera Juvenil Peñas FCB Vídeos Barça Galerías Barça Femenino Liga F Copa de la Reina Champions Femenina Mundial 2023 Palau Blaugrana Baloncesto Balonmano Fútbol Sala Hockey Champions La jornada Resultados Clasificación Calendario Estadísticas Máximos goleadores Porteros menos goleados Campus Barça Academy Sport Noticias Campus Barça Real Madrid Últimas noticias Fichajes Plantilla Vídeos Real Madrid Galerías Real Madrid Fútbol Fútbol Nacional LaLiga EA Sports Liga F Espanyol Girona LaLiga Hypermotion Supercopa de España Copa del Rey Copa de la Reina Primera RFEF Fútbol catalán Selección Mercado de fichajes Fútbol Internacional Premier League Calcio Bundesliga Liga Francesa Champions League Europa League Eurocopa Nations League Fútbol América Libertadores MLS Japón Copa África Femenino Liga F Champions League Selección femenina Mundial Motor Fórmula 1 Calendario Clasificación Próxima carrera Directo Horarios Moto GP Calendario y resultados Clasificación Próxima carrera Directo Horarios Moto 2 Calendario y resultados Clasificación Próxima carrera Moto 3 Calendario y resultados Clasificación Próxima carrera Dakar Carlos Sainz Clasificaciones Palmarés Coches Palmarés Motos Dónde ver por TV Más Motor Dakar Rallies WEC Automoción NeoMotor Actualidad Coches Motos Industria Innovación Trending Ocasión Baloncesto Euroliga Resultados Clasificación Calendario Liga Endesa Resultados Clasificación Baloncesto Femenino Liga Femenina Copa de la Reina Copa del Rey Eurobasket Eurobasket NBA Resultados Clasificación Calendario Estadísticas Tenis Tenis Copa Davis Open de Australia Roland Garros Wimbledon US Open Barcelona Open Mutua Madrid Open Finales ATP Billie Jean King Ciclismo Ciclismo La Vuelta Tour Francia Giro Italia Volta Catalunya Itzulia Lieja Bastoña Lieja París Niza Milán - San Remo Tirreno Adriático Strade Bianche O Gran Camiño UAE Tour Vuelta Asturias Vuelta Andalucía Clásica Jaén Vuelta Comunidad Valenciana Vuelta Burgos Tour Romandía Critérium Dauphiné París Roubaix Tour Alpes Vuelta San Juan Tour de Turquía +Deportes +Sport Atletismo Balonmano Fútbol Sala Natación Golf UFC Vela Padel Rugby NFL Boxeo Juegos Olímpicos Juegos Paralímpicos Deporte Extremo Hockey Esport Català Outdoor Running Nieve e-Sports WWE Opinión Opinión Joan Vehils Albert Masnou Lluís Miguelsanz Xavier Ortuño David Boti Joan María Batlle Carles Sans Ernest Folch Carme Barceló Enric Jové David Bernabeu 45 Aniversario 45 Aniversario Multimedia Actualidad Actualidad Eurovisión 2024 Nacional Internacional Economía Sociedad Sucesos Salud Cultura Shopping Lotería Navidad Fuera de Juego Fuera de Juego Gente Televisión Sorteos y Loterías Kings League Tecnología Medio Ambiente Preguntas Moda y belleza iOS Android Aplicaciones Entrevistas de SPORT Newsletters Galerías Últimas galerías Actualidad Fichajes Barça Real Madrid Fútbol Baloncesto SportTV Últimos vídeos Barça Real Madrid La Liga Champions Europa League Euroliga Portadas Campus Barça Academy Sport Noticias Campus Barça Fútbol Balón Oro ¿Cuántos Balones de Oro tiene Messi en total? El crack argentino ha ganado el trofeo al mejor jugador del mundo en ocho ocasiones Además, en su palmarés figura un FIFA World Player , un The Best y seis Botas de Oro El jugador de oro: así se ha coronado Messi desde 2009 El jugador de oro: así se ha coronado Messi desde 2009 / Joan Represa SPORT.es 30 OCT 2023 21:02 Actualizada 30 OCT 2023 21:24 Leo Messi , con ocho victorias, posee el récord en el prestigioso Balón de Oro , un premio otorgado anualmente por la revista francesa France Football que distingue al mejor jugador del mundo. El crack argentino, actualmente en las filas del Inter Miami, también es el único que logró encadenar cuatro galardones y en este 2023 aspira a un nuevo récord caso de ganar su séptima estatuilla. El palmarés del Balón de Oro masculino La primera aparición de Messi en el podio del Balón de Oro data de 2007 (tercero, por detrás de Kaká –Milan– y Cristiano Ronaldo –Manchester United–). En 2008 fue segundo, por detrás de Cristiano Ronaldo –Manchester United–) y en 2009 sumó su primera victoria , imponiéndose precisamente a Cristiano Ronaldo, entonces ya jugador del Real Madrid. Noticias relacionadas ¿Cuántos títulos tiene Lionel Messi? ¿Cuántos goles lleva Messi en los Mundiales? ¿Cuántas finales ha ganado y ha perdido Messi en su carrera? A partir de 2009 el Balón de Oro se fusionó con el premio homólogo del FIFA World Player hasta que los caminos de ambos premios volvieron a separarse en 2016. En este periodo, Messi fue designado mejor jugador del mundo en tres ocasiones: 2010, 2011 y 2012, superando a Andrés Iniesta el primer año y a Cristiano Ronaldo los dos siguientes. En 2015 se hizo con su quinto trofeo, por delante de Cristiano Ronaldo –Real Madrid– y Neymar –FC Barcelona–. En 2019 fue campeón, por delante de Virgil van Dijk –Liverpool– y Cristiano Ronaldo –Juventus–. En 2020, a causa de la crisis sanitaria provocada por el coronavirus, France Football no concedió el premio a ningún futbolista . En 2021 y en 2023, Leo lo ha vuelto a ganar. Con cinco Balones de Oro se encuentra Cristiano Ronaldo (2008, 2013, 2014, 2016 y 2017) y con tres: Michel Platini (1983, 1984 y 1985), Johan Cruyff (1971, 1973 y 1974) y Marco van Basten (1988, 1989 y 1992). El Balón de Oro se entrega desde 1956 y el primer galardonado fue Stanley Matthews , del Blackpool FC, que superó por solo tres votos a Alfredo Di Stéfano (Real Madrid). PALMARÉS LEO MESSI [8] Balón de Oro (2009, 2010, 2011, 2012, 2015, 2019, 2021 2023) [1] FIFA World Player (2009) [1] The Best (2019) [6] Bota de Oro (2009-10, 2011-12, 2012-13, 2016-17, 2017-18 y 2018-19) TEMAS Balón de Oro Cristiano Ronaldo Leo Messi Comenta esta noticia RRSS WhatsApp RRSS Facebook RRSS Twitter RRSS email Copiar URL Cerrar Noticia guardada en tu perfil Ver noticias guardadas 0 Lo más leído Lo último El diagnóstico rotundo de García Pimienta sobre Ansu Fati La 'hiperexigencia' de Flick: 'No me gusta... Toque de atención de Flick a De Jong Un error de Hacienda provoca que algunos pensionistas vayan a recibir un ingreso de entre 3.000 y 4.000: las fechas Nadie quiere a Joao Félix Primer comunicado médico oficial sobre la lesión de Laprovittola 10 posibles sustitutos de Nico Laprovittola en el Barça tras su grave lesión de rodilla De titular a ausente: De Jong, una incógnita por despejar Esta es la vitamina que debes tomar si te sientes cansado física o mentalmente 22:15 Bruno Génésio: \"Griezmann es una de las claves, pero hay muchos jugadores\" 22:08 'First dates' tiene que intervenir ante la mentira de una soltera: \"¿De qué año eres?\" 22:07 Champions hoy, en directo: partidos y resultados de la jornada 3, en vivo 22:03 Bronca monumental en el Santiago Bernabéu 21:59 Girona - Slovan Bratislava, en directo: Sigue el partido de Champions desde Montilivi 21:58 Real Madrid - Borussia Dortmund, en directo: resultado y goles en vivo del partido de la Champions League 21:54 Mundial Pádel 2024: cuándo se juega, países, formato y sede 21:53 Cerrar Cerrar Quienes somos Mapa web Aviso legal Contactar Publicidad RSS Política de privacidad y cookies Preferencias de Privacidad Legal advice Ediciones Deportivas Catalanas, S.A.U Otras webs de Prensa Ibérica Media: Prensa Diari de Girona Diario Córdoba Diario de Ibiza Diario de Mallorca El Correo de Andalucía El Correo Gallego El Día El Periódico de Aragón El Periódico El Periódico de España El Periódico Extremadura El Periódico Mediterráneo Empordà Faro de Vigo INFORMACIÓN La Crónica de Badajoz La Nueva España La Opinión A Coruña La Opinión de Málaga La Opinión de Murcia La Opinión - El Correo de Zamora La Provincia - Diario de Las Palmas Levante - El Mercantil Valenciano Mallorca Zeitung Regió 7 Sport Superdeporte Radio y televisión Información TV Levante TV MediTV Revistas Cuore Stilo Viajar Woman Madame Figaro Canales temáticos Cambalache Casa Gourmet Coches de ocasión Código Nuevo Compramejor Fórmula 1 Iberempleos Lotería de Navidad 2023 Medio Ambiente Neomotor Premios Goya Premios Oscars Tendencias 21 Tu casa\n"
     ]
    }
   ],
   "execution_count": 17
  },
  {
   "metadata": {},
   "cell_type": "markdown",
   "source": "### Paso 3: Crear los prompts",
   "id": "6046a3a75991021e"
  },
  {
   "metadata": {
    "ExecuteTime": {
     "end_time": "2024-10-22T20:22:38.989480Z",
     "start_time": "2024-10-22T20:22:38.984883Z"
    }
   },
   "cell_type": "code",
   "source": [
    "from langchain.prompts import PromptTemplate\n",
    "\n",
    "instrucciones_asistente_seleccion = \"\"\"\n",
    "Eres experto en asignar una pregunta de investigación al asistente de investigación correcto.\n",
    "Hay varios asistentes de investigación disponibles, cada uno especializado en un área de experiencia.\n",
    "Cada asistente está identificado por un tipo específico y tiene instrucciones específicas para llevar a cabo la investigación.\n",
    "\n",
    "Cómo seleccionar el asistente correcto: debes seleccionar el asistente relevante dependiendo del tema de la pregunta, que debe coincidir con el área de experiencia del asistente.\n",
    "\n",
    "------\n",
    "Aquí tienes algunos ejemplos de cómo devolver la información correcta del asistente, según la pregunta realizada.\n",
    "\n",
    "Ejemplos:\n",
    "Pregunta: \"¿Debería invertir en títulos de cobertura?\"\n",
    "Respuesta: \n",
    "{{\n",
    "    \"tipo_asistente\": \"Asistente analista financiero\",\n",
    "    \"instrucciones_asistente\": \"Eres un asistente de inteligencia artificial experto en análisis financiero. Tu objetivo principal es elaborar informes financieros completos, perspicaces, imparciales y organizados metódicamente basados en los datos y tendencias proporcionados.\",\n",
    "    \"pregunta_usuario\": {pregunta_usuario}\n",
    "}}\n",
    "Pregunta: \"¿Cuáles son los sitios más interesantes en Río de Janeiro?\"\n",
    "Respuesta: \n",
    "{{\n",
    "    \"tipo_asistente\": \"Asistente de guía turístico\",\n",
    "    \"instrucciones_asistente\": \"Eres un asistente de guía turístico con experiencia global. Tu propósito principal es redactar informes de viaje atractivos, perspicaces, imparciales y bien estructurados sobre ubicaciones específicas, incluyendo historia, atracciones y conocimientos culturales.\",\n",
    "    \"pregunta_usuario\": \"{pregunta_usuario}\"\n",
    "}}\n",
    "\n",
    "Pregunta: \"¿Es Messi un buen jugador de fútbol?\"\n",
    "Respuesta: \n",
    "{{\n",
    "    \"tipo_asistente\": \"Asistente experto en deportes\",\n",
    "    \"instrucciones_asistente\": \"Eres un asistente de inteligencia artificial especializado en deportes. Tu propósito principal es redactar informes deportivos atractivos, perspicaces, imparciales y bien estructurados sobre personalidades deportivas o eventos deportivos, incluyendo detalles factuales, estadísticas y análisis.\",\n",
    "    \"pregunta_usuario\": \"{pregunta_usuario}\"\n",
    "}}\n",
    "\n",
    "------\n",
    "Ahora que has entendido todo lo anterior, selecciona el asistente de investigación correcto para la siguiente pregunta.\n",
    "Pregunta: {pregunta_usuario}\n",
    "Respuesta:\n",
    "\n",
    "\"\"\" \n",
    "\n",
    "plantilla_asistente_seleccion = PromptTemplate.from_template(\n",
    "    template=instrucciones_asistente_seleccion\n",
    ")\n"
   ],
   "id": "31a06739c2ad144d",
   "outputs": [],
   "execution_count": 20
  },
  {
   "metadata": {
    "ExecuteTime": {
     "end_time": "2024-10-22T20:22:39.001398Z",
     "start_time": "2024-10-22T20:22:38.998226Z"
    }
   },
   "cell_type": "code",
   "source": [
    "instrucciones_busqueda_web = \"\"\"\n",
    "{instrucciones_asistente}\n",
    "\n",
    "Escribe {num_consultas_busqueda} consultas de búsqueda web para recopilar la mayor cantidad de información posible \n",
    "sobre la siguiente pregunta: {pregunta_usuario}. Tu objetivo es escribir un informe basado en la información que encuentres.\n",
    "Debes responder con una lista de consultas como consulta1, consulta2, consulta3 en el siguiente formato: \n",
    "[\n",
    "    {{\"consulta_busqueda\": \"consulta1\", \"pregunta_usuario\": \"{pregunta_usuario}\" }},\n",
    "    {{\"consulta_busqueda\": \"consulta2\", \"pregunta_usuario\": \"{pregunta_usuario}\" }},\n",
    "    {{\"consulta_busqueda\": \"consulta3\", \"pregunta_usuario\": \"{pregunta_usuario}\" }}\n",
    "]\n",
    "\"\"\"\n",
    "\n",
    "plantilla_busqueda_web = PromptTemplate.from_template(\n",
    "    template=instrucciones_busqueda_web\n",
    ")\n"
   ],
   "id": "d7dd005cdf47d74f",
   "outputs": [],
   "execution_count": 21
  },
  {
   "metadata": {
    "ExecuteTime": {
     "end_time": "2024-10-22T20:54:21.762141Z",
     "start_time": "2024-10-22T20:54:21.757842Z"
    }
   },
   "cell_type": "code",
   "source": [
    "instrucciones_resumen = \"\"\"\n",
    "Lee el siguiente texto:\n",
    "Texto: {texto_resultado_busqueda}\n",
    "\n",
    "-----------\n",
    "\n",
    "Usando el texto anterior, responde brevemente la siguiente pregunta.\n",
    "Pregunta: {consulta_busqueda}\n",
    "\n",
    "Si no puedes responder la pregunta anterior usando el texto proporcionado, simplemente resume el texto.\n",
    "\n",
    "Incluye toda la información factual, números, estadísticas, etc., si están disponibles.\n",
    "\"\"\"\n",
    "\n",
    "plantilla_resumen = PromptTemplate.from_template(\n",
    "    template=instrucciones_resumen\n",
    ")\n"
   ],
   "id": "74a2a556d64979c3",
   "outputs": [],
   "execution_count": 22
  },
  {
   "metadata": {
    "ExecuteTime": {
     "end_time": "2024-10-22T22:09:48.998047Z",
     "start_time": "2024-10-22T22:09:48.994363Z"
    }
   },
   "cell_type": "code",
   "source": [
    "# Prompt de informe de investigación adaptado de https://github.com/assafelovic/gpt-researcher/blob/master/gpt_researcher/master/prompts.py\n",
    "\n",
    "instrucciones_informe_investigacion = \"\"\"\n",
    "Eres un asistente de investigación de pensamiento crítico impulsado por IA. Tu único propósito es escribir informes bien redactados, aclamados críticamente, objetivos y estructurados sobre el texto proporcionado.\n",
    "\n",
    "Información: \n",
    "--------\n",
    "{resumen_investigacion}\n",
    "--------\n",
    "\n",
    "Usando la información anterior, responde la siguiente pregunta o tema: \"{pregunta_usuario}\" en un informe detallado -- \\\n",
    "El informe debe centrarse en la respuesta a la pregunta, estar bien estructurado, ser informativo, \\\n",
    "profundo, con hechos y cifras si están disponibles, y tener un mínimo de 1,200 palabras.\n",
    "\n",
    "Debes esforzarte por escribir el informe lo más extenso posible utilizando toda la información relevante y necesaria proporcionada.\n",
    "Debes escribir el informe con sintaxis de markdown.\n",
    "DEBES determinar tu propia opinión concreta y válida basada en la información proporcionada. NO infieras conclusiones generales y sin sentido.\n",
    "Escribe todas las URLs de las fuentes utilizadas al final del informe y asegúrate de no agregar fuentes duplicadas, solo una referencia por cada una.\n",
    "Debes escribir el informe en formato APA.\"\"\"\n",
    " \n",
    "plantilla_informe_investigacion = PromptTemplate.from_template(\n",
    "    template=instrucciones_informe_investigacion\n",
    ")\n"
   ],
   "id": "64e1c16d3ef69108",
   "outputs": [],
   "execution_count": 50
  },
  {
   "metadata": {},
   "cell_type": "markdown",
   "source": "### Paso 4: Implementar la arquitectura",
   "id": "c53169d5c143ab3d"
  },
  {
   "metadata": {
    "ExecuteTime": {
     "end_time": "2024-10-22T21:11:42.389978Z",
     "start_time": "2024-10-22T21:11:42.292190Z"
    }
   },
   "cell_type": "code",
   "source": [
    "# Creemos la instancia del LLM\n",
    "import os\n",
    "from langchain_openai import ChatOpenAI\n",
    "\n",
    "llm = ChatOpenAI(\n",
    "    model=os.getenv(\"MODEL\"),\n",
    "    openai_api_key=os.getenv(\"LIA_API_KEY\"),\n",
    "    openai_api_base=os.getenv(\"LIA_API_BASE\"),\n",
    "    temperature=0.6,\n",
    ")"
   ],
   "id": "ab012c53b3e208b",
   "outputs": [],
   "execution_count": 24
  },
  {
   "metadata": {
    "ExecuteTime": {
     "end_time": "2024-10-22T21:12:40.553511Z",
     "start_time": "2024-10-22T21:12:40.550430Z"
    }
   },
   "cell_type": "code",
   "source": [
    "# Constantes\n",
    "\n",
    "NUMERO_CONSULTAS_BUSQUEDA = 2\n",
    "NUMERO_RESULTADOS_POR_CONSULTA = 3\n",
    "MAXIMO_CARACTERES_TEXTO_RESULTADO = 10000"
   ],
   "id": "d98b34a70229c6f4",
   "outputs": [],
   "execution_count": 26
  },
  {
   "metadata": {
    "ExecuteTime": {
     "end_time": "2024-10-22T21:14:19.160356Z",
     "start_time": "2024-10-22T21:14:19.157860Z"
    }
   },
   "cell_type": "code",
   "source": [
    "# El único input que necesitamos es la pregunta del usuario\n",
    "\n",
    "pregunta = \"Qué se puede hacer en la Isla de Margarita?\""
   ],
   "id": "6f299972f5ab84cf",
   "outputs": [],
   "execution_count": 27
  },
  {
   "metadata": {},
   "cell_type": "markdown",
   "source": "El primer paso de la arquitectura es ejecutar el prompt del LLM para determinar el asistente de investigación correcto basadas en la pregunta de investigación del usuario",
   "id": "360b5ae1e5dbfc74"
  },
  {
   "metadata": {
    "ExecuteTime": {
     "end_time": "2024-10-22T21:35:27.987071Z",
     "start_time": "2024-10-22T21:35:26.656086Z"
    }
   },
   "cell_type": "code",
   "source": [
    "prompt_asistente_seleccion = plantilla_asistente_seleccion.format(pregunta_usuario=pregunta)\n",
    "\n",
    "instrucciones_asistente = llm.invoke(prompt_asistente_seleccion)\n",
    "\n",
    "# Veamos el resultado\n",
    "print(instrucciones_asistente.content)"
   ],
   "id": "8752d109f80d0043",
   "outputs": [
    {
     "name": "stdout",
     "output_type": "stream",
     "text": [
      "{\n",
      "    \"tipo_asistente\": \"Asistente de guía turístico\",\n",
      "    \"instrucciones_asistente\": \"Eres un asistente de guía turístico con experiencia global. Tu propósito principal es redactar informes de viaje atractivos, perspicaces, imparciales y bien estructurados sobre ubicaciones específicas, incluyendo historia, atracciones y conocimientos culturales.\",\n",
      "    \"pregunta_usuario\": \"Qué se puede hacer en la Isla de Margarita?\"\n",
      "}\n"
     ]
    }
   ],
   "execution_count": 29
  },
  {
   "metadata": {
    "ExecuteTime": {
     "end_time": "2024-10-22T21:38:52.906587Z",
     "start_time": "2024-10-22T21:38:52.902103Z"
    }
   },
   "cell_type": "code",
   "source": [
    "# Convertimos el resultado en un objeto\n",
    "import json\n",
    "\n",
    "dict_instrucciones_asistente = json.loads(instrucciones_asistente.content)\n",
    "dict_instrucciones_asistente"
   ],
   "id": "8044c93bd764e685",
   "outputs": [
    {
     "data": {
      "text/plain": [
       "{'tipo_asistente': 'Asistente de guía turístico',\n",
       " 'instrucciones_asistente': 'Eres un asistente de guía turístico con experiencia global. Tu propósito principal es redactar informes de viaje atractivos, perspicaces, imparciales y bien estructurados sobre ubicaciones específicas, incluyendo historia, atracciones y conocimientos culturales.',\n",
       " 'pregunta_usuario': 'Qué se puede hacer en la Isla de Margarita?'}"
      ]
     },
     "execution_count": 31,
     "metadata": {},
     "output_type": "execute_result"
    }
   ],
   "execution_count": 31
  },
  {
   "metadata": {},
   "cell_type": "markdown",
   "source": "El siguiente paso en la arquitectura es ejecutar el prompt de búsqueda web para recopilar información relevante sobre la pregunta de investigación del usuario",
   "id": "3ce21403facb9cf5"
  },
  {
   "metadata": {
    "ExecuteTime": {
     "end_time": "2024-10-22T21:39:28.085822Z",
     "start_time": "2024-10-22T21:39:26.660982Z"
    }
   },
   "cell_type": "code",
   "source": [
    "prompt_busqueda_web = plantilla_busqueda_web.format(instrucciones_asistente=dict_instrucciones_asistente['instrucciones_asistente'],\n",
    "                                                    num_consultas_busqueda=NUMERO_CONSULTAS_BUSQUEDA,\n",
    "                                                    pregunta_usuario=dict_instrucciones_asistente['pregunta_usuario'])\n",
    "consultas_busqueda_web = llm.invoke(prompt_busqueda_web)\n",
    "lista_consultas_busqueda_web = json.loads(consultas_busqueda_web.content)\n",
    "lista_consultas_busqueda_web\n"
   ],
   "id": "7155ed397f12e836",
   "outputs": [
    {
     "data": {
      "text/plain": [
       "[{'consulta_busqueda': 'actividades turísticas Isla de Margarita',\n",
       "  'pregunta_usuario': 'Qué se puede hacer en la Isla de Margarita?'},\n",
       " {'consulta_busqueda': 'atracciones principales Isla de Margarita',\n",
       "  'pregunta_usuario': 'Qué se puede hacer en la Isla de Margarita?'},\n",
       " {'consulta_busqueda': 'guía de viaje Isla de Margarita',\n",
       "  'pregunta_usuario': 'Qué se puede hacer en la Isla de Margarita?'}]"
      ]
     },
     "execution_count": 32,
     "metadata": {},
     "output_type": "execute_result"
    }
   ],
   "execution_count": 32
  },
  {
   "metadata": {
    "ExecuteTime": {
     "end_time": "2024-10-22T21:46:44.116084Z",
     "start_time": "2024-10-22T21:46:40.087543Z"
    }
   },
   "cell_type": "code",
   "source": [
    "# Vamos a realizar la búsqueda web\n",
    "resultados_busquedas = [{'urls_resultado': web_search(web_query=wq['consulta_busqueda'], \n",
    "                                     num_results=NUMERO_RESULTADOS_POR_CONSULTA), \n",
    "                           'consulta_busqueda': wq['consulta_busqueda']} \n",
    "                           for wq in lista_consultas_busqueda_web]\n"
   ],
   "id": "6925f22f7b93825f",
   "outputs": [],
   "execution_count": 33
  },
  {
   "metadata": {
    "ExecuteTime": {
     "end_time": "2024-10-22T21:46:47.279804Z",
     "start_time": "2024-10-22T21:46:47.274792Z"
    }
   },
   "cell_type": "code",
   "source": "resultados_busquedas",
   "id": "babd434ef07e83ec",
   "outputs": [
    {
     "data": {
      "text/plain": [
       "[{'urls_resultado': ['https://www.dviaje.com.ve/margarita/',\n",
       "   'https://www.tripadvisor.com/Attractions-g316061-Activities-oa30-Margarita_Island_Coastal_Islands_Insular_Region.html',\n",
       "   'https://www.cosasdeviajes.com/que-ver-en-isla-margarita/'],\n",
       "  'consulta_busqueda': 'actividades turísticas Isla de Margarita'},\n",
       " {'urls_resultado': ['https://www.ldhoteles.com/guia-de-viaje-para-la-isla-de-margarita',\n",
       "   'https://www.01centralamerica.com/america_central/turismo/isla-margarita-venezuela/',\n",
       "   'https://www.dviaje.com.ve/margarita/'],\n",
       "  'consulta_busqueda': 'atracciones principales Isla de Margarita'},\n",
       " {'urls_resultado': ['https://www.ldhoteles.com/guia-de-viaje-para-la-isla-de-margarita',\n",
       "   'https://www.01centralamerica.com/america_central/turismo/isla-margarita-venezuela/',\n",
       "   'https://www.dviaje.com.ve/margarita/'],\n",
       "  'consulta_busqueda': 'guía de viaje Isla de Margarita'}]"
      ]
     },
     "execution_count": 34,
     "metadata": {},
     "output_type": "execute_result"
    }
   ],
   "execution_count": 34
  },
  {
   "metadata": {},
   "cell_type": "markdown",
   "source": "Cada consulta de búsqueda web tiene una lista de URLs de resultados. Ahora, necesitamos extraer el texto de cada URL para resumirlo y responder a la pregunta de investigación del usuario.",
   "id": "e81200ac27a43191"
  },
  {
   "metadata": {
    "ExecuteTime": {
     "end_time": "2024-10-22T21:49:05.549222Z",
     "start_time": "2024-10-22T21:49:05.545959Z"
    }
   },
   "cell_type": "code",
   "source": [
    "# Vamos a \"aplanar\" la lista de resultados de búsqueda\n",
    "\n",
    "resultados_busquedas_aplanado = []\n",
    "for qr in resultados_busquedas:\n",
    "    resultados_busquedas_aplanado.extend([{'consulta_busqueda': qr['consulta_busqueda'], \n",
    "                                    'urls_resultado': r\n",
    "                                    } for r in qr['urls_resultado']])"
   ],
   "id": "4748ab2e446f7b94",
   "outputs": [],
   "execution_count": 35
  },
  {
   "metadata": {
    "ExecuteTime": {
     "end_time": "2024-10-22T21:49:08.742282Z",
     "start_time": "2024-10-22T21:49:08.737611Z"
    }
   },
   "cell_type": "code",
   "source": "resultados_busquedas_aplanado",
   "id": "f3c63f113f094bbf",
   "outputs": [
    {
     "data": {
      "text/plain": [
       "[{'consulta_busqueda': 'actividades turísticas Isla de Margarita',\n",
       "  'urls_resultado': 'https://www.dviaje.com.ve/margarita/'},\n",
       " {'consulta_busqueda': 'actividades turísticas Isla de Margarita',\n",
       "  'urls_resultado': 'https://www.tripadvisor.com/Attractions-g316061-Activities-oa30-Margarita_Island_Coastal_Islands_Insular_Region.html'},\n",
       " {'consulta_busqueda': 'actividades turísticas Isla de Margarita',\n",
       "  'urls_resultado': 'https://www.cosasdeviajes.com/que-ver-en-isla-margarita/'},\n",
       " {'consulta_busqueda': 'atracciones principales Isla de Margarita',\n",
       "  'urls_resultado': 'https://www.ldhoteles.com/guia-de-viaje-para-la-isla-de-margarita'},\n",
       " {'consulta_busqueda': 'atracciones principales Isla de Margarita',\n",
       "  'urls_resultado': 'https://www.01centralamerica.com/america_central/turismo/isla-margarita-venezuela/'},\n",
       " {'consulta_busqueda': 'atracciones principales Isla de Margarita',\n",
       "  'urls_resultado': 'https://www.dviaje.com.ve/margarita/'},\n",
       " {'consulta_busqueda': 'guía de viaje Isla de Margarita',\n",
       "  'urls_resultado': 'https://www.ldhoteles.com/guia-de-viaje-para-la-isla-de-margarita'},\n",
       " {'consulta_busqueda': 'guía de viaje Isla de Margarita',\n",
       "  'urls_resultado': 'https://www.01centralamerica.com/america_central/turismo/isla-margarita-venezuela/'},\n",
       " {'consulta_busqueda': 'guía de viaje Isla de Margarita',\n",
       "  'urls_resultado': 'https://www.dviaje.com.ve/margarita/'}]"
      ]
     },
     "execution_count": 36,
     "metadata": {},
     "output_type": "execute_result"
    }
   ],
   "execution_count": 36
  },
  {
   "metadata": {},
   "cell_type": "markdown",
   "source": "",
   "id": "6e7cad603653910d"
  },
  {
   "metadata": {
    "ExecuteTime": {
     "end_time": "2024-10-22T22:00:38.284003Z",
     "start_time": "2024-10-22T22:00:34.944277Z"
    }
   },
   "cell_type": "code",
   "source": [
    "# Ahora usaremos la función de web scraping para extraer el texto de cada URL\n",
    "\n",
    "textos_resultados = [ {'texto_resultado_busqueda': web_scrape(url=re['urls_resultado'])[:MAXIMO_CARACTERES_TEXTO_RESULTADO],\n",
    "                     'urls_resultado': re['urls_resultado'],\n",
    "                     'consulta_busqueda': re['consulta_busqueda']}\n",
    "                   for re in resultados_busquedas_aplanado]"
   ],
   "id": "c856776a6057582d",
   "outputs": [],
   "execution_count": 39
  },
  {
   "metadata": {
    "ExecuteTime": {
     "end_time": "2024-10-22T22:00:38.301069Z",
     "start_time": "2024-10-22T22:00:38.295825Z"
    }
   },
   "cell_type": "code",
   "source": "textos_resultados",
   "id": "f8c82d5cf116b3ad",
   "outputs": [
    {
     "data": {
      "text/plain": [
       "[{'texto_resultado_busqueda': 'Margarita | La Perla del Caribe ⭐ Dias del sol y playa esperan La Perla del Caribe Margarita Playas hermosas y hoteles todo incluido esperan Enviar un Email La Perla del Caribe Margarita Playas hermosas y hoteles todo incluido esperan Enviar un Email La Isla de Margarita , conocida como La Perla del Caribe , es uno de los destinos turísticos más importantes y encantadores de Venezuela. Ubicada en el mar Caribe, Margarita ofrece una combinación única de playas paradisíacas, una vibrante vida nocturna y una oferta hotelera variada que se adapta a todo tipo de viajeros. Si estás considerando un lugar para tus próximas vacaciones, esta isla tiene todo lo que necesitas para vivir una experiencia inolvidable. ¿Por Qué Elegir Margarita? Margarita es mucho más que un destino de sol y playa. Además de sus paisajes espectaculares, la isla cuenta con una rica historia, cultura local, actividades de aventura y una infraestructura hotelera que abarca desde opciones de lujo hasta paquetes accesibles de «todo incluido» o «sólo desayunos». Ya sea que busques relajarte en la playa, explorar la cultura local o disfrutar de deportes acuáticos, Margarita tiene algo para cada tipo de viajero. 1. Playas Increíbles y Variedad de Ambientes La isla cuenta con una vasta gama de playas para todos los gustos. Entre las más conocidas se encuentran: Playa El Yaque : Famosa por ser uno de los mejores lugares del mundo para practicar windsurf y kitesurf debido a sus constantes vientos. Es el sitio ideal para los amantes de los deportes acuáticos. Playa Parguito : Con su oleaje fuerte, es el lugar preferido por los surfistas. A su alrededor, encontrarás chiringuitos y restaurantes donde disfrutar de comida típica local. Playa Caribe : Con un ambiente más relajado, es perfecta para quienes buscan descansar y disfrutar de aguas tranquilas y cristalinas. 2. Oferta Hotelera Variada Uno de los puntos fuertes de Margarita es su oferta hotelera , que va desde lujosos resorts todo incluido hasta acogedores hoteles boutique que ofrecen desayuno incluido. Muchos hoteles están ubicados estratégicamente cerca de las playas más populares, lo que facilita disfrutar de todo lo que la isla tiene para ofrecer. Mi experiencia personal me ha mostrado que los hoteles en Margarita están diseñados para todo tipo de viajeros, desde aquellos que buscan un retiro de lujo hasta quienes prefieren opciones más económicas sin sacrificar la comodidad. Pampatar , una de las ciudades más atractivas de la isla, es famosa por sus hoteles frente al mar, restaurantes gourmet y su vida nocturna vibrante. 3. Actividades Turísticas para Todos los Gustos – Tours por la Isla Existen numerosos tours organizados para recorrer los principales atractivos de la isla. Una visita a la Basílica de Nuestra Señora del Valle es obligatoria para quienes desean conocer más sobre la devoción mariana en Venezuela. Además, se pueden hacer excursiones al Castillo de San Carlos de Borromeo , ubicado en Pampatar, desde donde se obtienen vistas panorámicas increíbles de la costa. – Parques Temáticos y Diversión Familiar Margarita también ofrece una amplia gama de actividades familiares. El Parque El Agua es uno de los más grandes parques acuáticos del país, ideal para pasar un día de diversión en familia, mientras que el Parque Temático Diverland es perfecto para los más pequeños con su variedad de atracciones y juegos mecánicos. – Deportes Acuáticos Además del windsurf y kitesurf en El Yaque , las aguas de Margarita son perfectas para practicar buceo y snorkeling. Existen operadores turísticos que organizan excursiones a los mejores sitios de buceo donde puedes admirar la vida marina del Caribe. También puedes disfrutar de paseos en catamarán o hacer kayak en las aguas tranquilas de La Restinga , un parque nacional lleno de canales rodeados de manglares. 4. Compras y Vida Nocturna Margarita es una zona libre de impuestos , lo que la convierte en un excelente lugar para hacer compras. En la ciudad de Porlamar encontrarás centros comerciales donde adquirir desde ropa hasta productos electrónicos a precios competitivos. Por otro lado, Pampatar es conocida por su animada vida nocturna. La ciudad alberga una gran cantidad de restaurantes, bares y discotecas, donde podrás disfrutar de buena música, excelentes comidas y bebidas locales. 5. Gastronomía Local La gastronomía en Margarita es otro de los grandes atractivos. Los restaurantes de la isla ofrecen platos que destacan por el uso de productos frescos del mar, como mariscos, pescados y langostas. Entre los platos típicos se encuentran: Empanadas Margariteñas : Rellenas de cazón (un tipo de tiburón), queso o mariscos. Arepas Asadas : Aunque la arepa es un plato típico venezolano, en Margarita tienen un toque especial al prepararse con ingredientes locales. Dulces de Coco : Un postre tradicional hecho con coco fresco y papelón. ¿Cómo Llegar a Margarita? Para llegar a Margarita, puedes tomar un vuelo desde Caracas u otras ciudades venezolanas, ya que la isla cuenta con el Aeropuerto Internacional Santiago Mariño . Además, existe la opción de llegar en ferry desde el puerto de La Guaira o Puerto La Cruz, lo que hace que el viaje sea una experiencia más completa. Conclusión La Isla de Margarita es uno de los destinos más completos del Caribe. Con sus impresionantes playas, actividades emocionantes y excelente oferta hotelera, se posiciona como un lugar perfecto para disfrutar de unas vacaciones inolvidables. Ya sea que viajes en familia, con amigos o en pareja, Margarita tiene algo para ofrecerte. Si estás buscando un lugar que combine aventura, relax y cultura, no busques más: Margarita es tu destino. ¡Planifica tu viaje hoy mismo y descubre por qué es llamada La Perla del Caribe ! Playas de Venezuela octubre 3, 2024 No hay comentarios Paquetes a Margarita con boleto aéreo incluido 2024 septiembre 30, 2024 No hay comentarios Los Roques septiembre 22, 2024 No hay comentarios Siitios turisticos del Estado Trujillo septiembre 1, 2024 No hay comentarios 40 sitios turisticos en Venezuela septiembre 1, 2024 No hay comentarios Turismo Estado Sucre agosto 28, 2024 No hay comentarios Turismo Estado Miranda agosto 28, 2024 No hay comentarios Turismo Estado Lara agosto 28, 2024 No hay comentarios Caracas Turismo agosto 28, 2024 No hay comentarios Canaima Venezuela agosto 20, 2024 No hay comentarios La Colonia Tovar agosto 20, 2024 No hay comentarios Salto Angel agosto 20, 2024 No hay comentarios Sitios turísticos de Venezuela agosto 20, 2024 No hay comentarios Playas Los Roques Venezuela agosto 19, 2024 No hay comentarios Vuelve a Turismo en Venezuela Ir a WhatsApp 1 ¡Contáctanos Ahora! ¡Aquí estamos! ¿Buscando destinos de viaje? No descartes a la isla de Margarita en Venezuela',\n",
       "  'urls_resultado': 'https://www.dviaje.com.ve/margarita/',\n",
       "  'consulta_busqueda': 'actividades turísticas Isla de Margarita'},\n",
       " {'texto_resultado_busqueda': 'No se pudo recuperar la página web: Código 403',\n",
       "  'urls_resultado': 'https://www.tripadvisor.com/Attractions-g316061-Activities-oa30-Margarita_Island_Coastal_Islands_Insular_Region.html',\n",
       "  'consulta_busqueda': 'actividades turísticas Isla de Margarita'},\n",
       " {'texto_resultado_busqueda': '¿Qué ver en Isla Margarita? - Cosas de Viajes Buscar: General Cultura Hoteles España Playas Guías Turismo cultural Cruceros Caribe Argentina Chile México Salud Educacion Mujer Legales Belleza Bebes Viajes Moda Decoración Madrid Tecnología Motor Lujo Hombres Cine Ofertas Bodas Barcelona Sevilla Televisión Valencia Deportes Crisis Finanzas Cosas de Viajes Cosas de Viajes Buscar: General Cultura Hoteles España Playas Guías Turismo cultural Cruceros Caribe Argentina Chile México Cosas de Viajes Cosas de Viajes Menú móvil ¿Qué ver en Isla Margarita? La isla de Margarita , ubicada en la zona este del paradisiaco mar Caribe , es uno de los destinos turísticos más populares y recomendados para quienes deseen disfrutar del sol , el mar y la arena con todo el esplendor de la naturaleza caribeña . 0 comentarios martes, 20 agosto, 2024 Adentrémonos en esta fascinante aventura y descubramos los puntos más atractivos de la tropical isla Margarita . Dicha isla está ubicada en el mar Caribe , al Noreste de la ciudad de Caracas (Venezuela). Llegar hasta esta paradisiaca isla no es difícil, bastará con tomar un vuelo de una media de 30 minutos desde la capital venezolana. I sla Margarita nos ofrecerá una vista panorámica sin precedente, con lo mejor de sus playas blancas y una serie de actividades turísticas que podemos realizar durante nuestra estancia. Si estás aburrido y quieres salir de la rutina no hay nada mejor que darse una vuelta por el mar caribeño de Margarita y acudir a cualquiera de sus playas de excelente calidad, eso sin mencionar un buen número de restaurantes, hoteles y complejos de entretenimiento para disfrutar de una experiencia inolvidable y donde podremos degustar lo mejor de tanto de la gastronomía tropical como de la internacional . La isla de Margarita es ideal para viajar con toda la familia, amigos, pareja e incluso solo. Usted podrá elegir entre diferentes playas, privadas, exclusivas, pequeñas, con olas grandes, profundas, tibias, calientes o con viento; en Margarita hay una playa para todo tipo de turista que la visita. Entre las principales atracciones que podemos hallar en Margarita tenemos paseos turísticos, vista a iglesias, castillos, una gran variedad de flora y fauna, zonas de vegetación, excursiones por islas cercanas, deportes acuáticos, eventos festivos y mucho más. Los días en la isla caribeña de Margarita están llenos de diversión y tranquilidad. Siéntete como en casa y prepárate para unas vacaciones de ensueño . Imagen de Gidsicki Contenidos relacionados Crucero a la Isla del Volcán Actualizado el martes, 20 agosto, 2024\\nLas siguientes líneas te desvelarán algunos secretos en el caso de que quieras llevar adelante un crucero a la Isla del Volcán, un lugar lleno de misterio.\\n\\n\\n\\nEstos cruceros buscan seguir el mismo camino que llevaron adelante los indios Arawak hace cientos de años. Mediante el viaje se puede arribar a diferentes islas de Granada en el sur del volcán más al norte de Saba.\\n\\n\\n\\n\\n\\n\\n\\nEl barco,\\xa0 con el que se realiza el paseo,\\xa0 es de acero y tiene 140 pies de galota. Además,\\xa0 este tipo de embarcación te permite viajar al Caribe y el Mediterráneo. El encargado de que tu crucero sea estupendo es Sir Robert Baden Powell. En estas embarcaciones se puede navegar con 12 a 16 personas.\\n\\n\\n\\n\\n\\n\\n\\nEl viaje dura 10 días y al llegar a la isla,\\xa0 los turistas cuentan con el asesoramiento de vulcanólogos que explican a la perfección el funcionamiento de los volcanes.\\n\\n\\n\\nLos cruceros pueden ser programados en diferentes días del año y con distintas actividades. Se pueden hacer actividades como canyoning, en Guadalupe. Además de caminar por la selva y llegar a una cascada. Si te gusta la aventura,\\xa0 podrás recorrer estos torrente... Los mejores Destinos turísticos en El Caribe Actualizado el martes, 20 agosto, 2024\\n¿Quieres viajar al Caribe pero aún no sabes qué destino turístico elegir? A continuación te presentamos una lista con los lugares más recomendados según sea tu necesidad, presupuesto o intención.\\n\\n\\n\\nEl área del Caribe se extiende a muy diversas ofertas y destinos para todos los gustos y estilos, ya sea para un viaje familiar, solitario, romántico, económico entre otros. Nadie pierde en un lugar como El Caribe, donde el sol sale para todos, sin excepción.\\n\\n\\n\\n\\n\\n\\n\\n\\n\\n\\n\\nDependiendo de cuál sea tu intención, las ofertas del mercado comprenden cruceros, deportes acuáticos, actividades para niños, reservas para fechas especiales como un matrimonio o luna de miel, agencias de viajes, cadenas de hoteles, restaurantes, islas, playas y una infinidad de posibilidades para disfrutar del clima caribeño.\\n\\n\\n\\nLas ofertas más tentativas se encuentran en destinos como Belice, Cancún, Cuba, Riviera Maya, Jamaica, Aruba, Punta Cana y República Dominicana, que son los sitios más concurridos por miles de turistas de diferentes partes. Aunque, todos son reconocidos por sus playas, naturaleza, calidez de su gente e inmensa oferta de ocio.\\n\\n\\n\\nSi se ... Medidas preventivas para viajar al Caribe Actualizado el martes, 20 agosto, 2024\\nSi piensas viajar al Caribe puede que te convenga tomar algunas medidas preventivas que no perjudiquen ni obstaculicen tu estancia en uno de los mejores destinos tropicales del planeta. A continuación te presentamos una lista con algunas recomendaciones que deberías incluir en tu lista antes de empacar las maletas a zonas caribeñas:\\n\\n\\n\\n\\n\\n\\n\\nLo primero que debemos saber es que la mejor época del año para viajar al Caribe se concentra durante las vacaciones de verano, donde los precios suelen disminuir entre mayo y mediados de diciembre. Sin embargo, el único inconveniente durante la estación de verano es que coinciden con la época de huracanes. Para el invierno europeo, los precios son más caros debido a la gran demanda del público por alejarse del frío y disfrutar del clima caribeño.\\n\\n\\n\\n\\n\\n\\n\\n\\nLa estación de huracanes en destinos de Caribe se registra a partir del primero de junio en un período de oscila entre cinco y seis meses, aproximadamente hasta\\xa0 finales del mes de noviembre, especialmente en las zonas de las Islas del Caribe, las costas de Florida e incluso Texas. Por el mes de agosto,\\xa0 las posibilidades de un mayor... Musha Cay, lo mejor del Caribe Actualizado el martes, 20 agosto, 2024\\nEl mago más famoso del mundo, ha vuelto a demostrar sus poderes al crear un paraíso fuera de serie en las islas de la Bahía Copperfield en Bahamas.\\n\\n\\n\\nDavid Cooperfield adquirió 11 islas privadas para hacer aparecer Musha Cay, un auténtico edén en medio del Caribe, con más de 40 playas de blanca y fina arena.\\n\\n\\n\\n\\n\\n\\n\\n\\n\\n\\n\\nDesde el firmamento, según los comentarios de astronautas americanos, se ve perfectamente esa cruz en el Caribe, que se forma al trazar dos líneas que unen los monumentos de Stone Henge en Inglaterra con Isla de Pascua y la pirámide del sol en México con el valle de los Reyes en Egipto. Desde allí arriba,\\xa0 se distingue perfectamente Musha Cay, como dicen estos astronautas, lo más bello del planeta.\\n\\n\\n\\nLa forma más sencilla para llegar es volando hora y media desde Miami, para llegar a Georgetwon en la isla de Gran Axuma, Bahamas. También se puede viajar en barco durante 45 minutos.\\n\\n\\n\\nEste paraíso del Caribe tiene 12 dormitorios para albergar a 24 personas. Todo es lujo, la comida se diseña y prepara según las preferencias del grupo de visitantes. Cuenta con una Cava de más de 500 botellas de primera.\\n\\n\\n... General Caribe Publicado en Caribe • No hay comentarios en ¿Qué ver en Isla Margarita? Deja una respuesta Cancelar la respuesta Tu dirección de correo electrónico no será publicada. Los campos obligatorios están marcados con * Comentario * Nombre * Correo electrónico * Web He leído y acepto el aviso legal * Websdirect © ️2024 Todos los derechos reservados Aviso legal y Política de Privacidad | Política de Cookies | Contacto y Publicidad Gestionar el consentimiento de Cookies Para ofrecer las mejores experiencias, nosotros y nuestros socios utilizamos tecnologías como cookies para almacenar y/o acceder a la información del dispositivo. La aceptación de estas tecnologías nos permitirá a nosotros y a nuestros socios procesar datos personales como el comportamiento de navegación o identificaciones únicas (IDs) en este sitio y mostrar anuncios (no-) personalizados. No consentir o retirar el consentimiento, puede afectar negativamente a ciertas características y funciones. Haz clic a continuación para aceptar lo anterior o realizar elecciones más detalladas.\\xa0Tus elecciones se aplicarán solo en este sitio.\\xa0Puedes cambiar tus ajustes en cualquier momento, incluso retirar tu consentimiento, utilizando los botones de la Política de cookies o haciendo clic en el icono de Privacidad situado en la parte inferior de la pantalla. Functional Functional Siempre activo The technical storage or access is strictly necessary for the legitimate purpose of enabling the use of a specific service explicitly requested by the subscriber or user, or for the sole purpose of carrying out the transmission of a communication over an electronic communications network. Preferences Preferences The technical storage or access is necessary for the legitimate purpose of storing preferences that are not requested by the subscriber or user. Statistics Statistics The technical storage or access that is used exclusively for statistical purposes. The technical storage or access that is used exclusively for anonymous statistical purposes. Without a subpoena, voluntary compliance on the part of your Internet Service Provider, or additional records from a third party, information stored or retrieved for this purpose alone cannot usually be used to identify you. Marketing Marketing The technical storage or access is required to create user profiles to send advertising, or to track the user on a website or across several websites for similar marketing purposes. Estadísticas Marketing Características Siempre activo Siempre activo Administrar opciones Gestionar los servicios Gestionar {vendor_count} proveedores Leer más sobre',\n",
       "  'urls_resultado': 'https://www.cosasdeviajes.com/que-ver-en-isla-margarita/',\n",
       "  'consulta_busqueda': 'actividades turísticas Isla de Margarita'},\n",
       " {'texto_resultado_busqueda': 'No se pudo recuperar la página web: Código 403',\n",
       "  'urls_resultado': 'https://www.ldhoteles.com/guia-de-viaje-para-la-isla-de-margarita',\n",
       "  'consulta_busqueda': 'atracciones principales Isla de Margarita'},\n",
       " {'texto_resultado_busqueda': 'Guía de Viaje a Isla Margarita, Venezuela. Una joya en el Caribe Ir al contenido América Central y el Caribe Información y Consejos para Viajar América Central y el Caribe Información y Consejos para Viajar Main Menu America Central e Islas del Caribe Belice Alternar menú Información Práctica de Belice Ciudades de Belice Belice Continental La Costa de Belice Parque Nacionales de Belice Sitios Arqueologicos Mayas de Belice Cuando viajar a Belice Como viajar a Belice Historia de Belice Mapa de Belice Mujeres de Belice Música de Belice Costa Rica Alternar menú Ciudades de Costa Rica Alajuela, Costa Rica Heredia, Costa Rica Liberia, Costa Rica Puerto Limon, Costa Rica San José de Costa Rica Cuando viajar a Costa Rica Como viajar a Costa Rica Historia de Costa Rica Información práctica de Costa Rica Mapa de Costa Rica Mujeres de Costa Rica Musica de Costa Rica Cuba Alternar menú Ciudades de Cuba Baracoa Cayo Largo Cayo Santa Maria Holguin La Habana Santiago de Cuba Trinidad Varadero Vinales Como viajar a Cuba Cuando viajar a Cuba Historia de Cuba Información practica de Cuba Mapa de Cuba Mujeres de Cuba Música de Cuba El Salvador Alternar menú Ciudades de El Salvador Ahuachapan La Costa de El Salvador Nejapa San Miguel San Salvador San Vicente Santa Ana Sonsonate Como viajar a El Salvador Cuando viajar a El Salvador Historia de El Salvador Información práctica de El Salvador Mapa de El Salvador Mujeres de El Salvador Música de El Salvador Guatemala Alternar menú Ciudades de Guatemala Antigua Atitlan en Guatemala Chichicastenango Flores Guatemala Ciudad Panajachel Parque Nacional Tikal Quetzaltenango Santa Catarina Palopo Santo Tomas de Castilla Como viajar a Guatemala Cuando viajar a Guatemala Historia de Guatemala Información práctica de Guatemala Mapa de Guatemala Mujeres de Guatemala Música de Guatemala Haiti Alternar menú Ciudades de Haití Jacmel Les Cayes Montrouis Petionville Port au Prince Port de Paix Como viajar a Haiti Cuando viajar a Haiti Historia de Haiti Información práctica de Haiti Mapa de Haiti Mujeres de Haiti Música de Haití Honduras Alternar menú Ciudades de Honduras Choluteca Copan Ruinas Guanaja Island La Ceiba Puerto Cortes Roatan San Pedro Sula Santa Rosa de Copan Tegucigalpa Tela Como viajar a Honduras Cuando viajar a Honduras Historia de Honduras Información práctica de Honduras Mapa de Honduras Mujeres de Honduras Música de Honduras Jamaica Alternar menú Ciudades de Jamaica Discovery Bay Irish Town Kingston Mandeville Montego Bay Negril Ocho Rios Port Antonio Runaway Bay St. Ann’s Bay Cuando viajar a Jamaica Como viajar a Jamaica Historia de Jamaica Información práctica de Jamaica Mapa de Jamaica Mujeres de Jamaica Música de Jamaica Nicaragua Alternar menú Ciudades de Nicaragua Atlantico Norte Atlantico Sur Chinandega Granada Leon Managua Masaya Como viajar a Nicaragua Cuando viajar a Nicaragua Historia de Nicaragua Información práctica de Nicaragua Mapa de Nicaragua Mujeres de Nicaragua Música de Nicaragua Panama Alternar menú Ciudades de Panamá Boquete Cerro Punta Colon Contadora Island David Farallon Panama City Pinas Bay San Blas Gulf Taboga Island Como viajar a Panama Cuando viajar a Panama Historia de Panamá Información práctica de Panama Mapa de Panama Mujeres de Panama Música de Panamá Puerto Rico Alternar menú Ciudades de Puerto Rico Aguadilla Cabo Rojo Culebra Fajardo Guayama Mayaguez Ponce Rincon San Juan Vieques Island Como viajar a Puerto Rico Cuando viajar a Puerto Rico Historia de Puerto Rico Información práctica de Puerto Rico Mapa de Puerto Rico Mujeres de Puerto Rico Música de Puerto Rico Dominicana República Alternar menú Ciudades de República Dominicana La Romana Puerto Plata Punta Cana San Pedro de Macoris Santo Domingo Cómo Viajar a República Dominicana: Llegada y Primeros Pasos Cuando Viajar a la República Dominicana Información práctica de República Dominicana Historia de República Dominicana Mapa de República Dominicana Mujeres de República Dominicana Música de República Dominicana Otras islas del caribe Alternar menú Viajar a Trinidad y Tobago Viajar a Bahamas Viajar a Martinica Viajar a Barbados Antillas Neerlandesas Viajar a Santa Lucía Viajar a San Vicente y las Granadinas Viajar a Islas Vírgenes de los Estados Unidos Viajar a Granada Viajar a Guadalupe Viajar a Aruba Lugares para visitar en Aruba Viajar a Antigua y Barbuda Viajar a Dominica Viajar a Islas Caimán Viajar a Bermudas Viajar a San Cristóbal y Nieves Viajar a Islas Turcas y Caicos Viajar a Islas Vírgenes Británicas Viajar a Anguila Viajar a Montserrat Recetas Caribeñas Preparar Recetas Típicas del Caribe Recetas Típicas de América Central Contactarse Política de Privacidad Guía de Viaje a Isla Margarita, Venezuela. Una joya en el Caribe Por america-central / 29 enero, 2024 Descubriendo la Isla de Margarita: Bienvenido a nuestra “Guía de Viajes a Isla Margarita”, el destino perfecto para quienes buscan una escapada tropical en el corazón del Caribe. La Isla Margarita, ubicada al noreste de Venezuela, es conocida por su clima cálido durante todo el año, playas de arena blanca y una rica cultura que mezcla tradiciones caribeñas y venezolanas. Isla Margarita, Venezuela Ubicación y Geografía La Isla Margarita está ubicada en el Mar Caribe, siendo la más grande de las islas del estado Nueva Esparta en Venezuela. Con una superficie aproximada de 1.020 km², esta isla ofrece una impresionante diversidad geográfica, desde hermosas playas hasta montañas y fértiles valles. Su ubicación privilegiada lo convierte en un destino accesible para viajeros de todo el mundo. Historia y cultura La historia de Isla Margarita está llena de historias fascinantes. Descubierta en 1498 por Cristóbal Colón, la isla ha sido influenciada a lo largo de los siglos por diversas culturas, incluidas la española, la africana y la aborigen. Esta mezcla cultural se refleja en la arquitectura colonial de sus pueblos, sus tradiciones y, por supuesto, su gastronomía. Un Destino Turístico por Excelencia La Isla Margarita no es sólo un paraíso para los amantes de la playa. Es un centro de actividades culturales, deportivas y de ocio. Con sus centros comerciales, campos de golf y su vibrante vida nocturna, la isla ofrece algo para cada tipo de viajero. Además, su población local es conocida por su cálida y amigable hospitalidad, lo que hace que cada visita sea aún más memorable. Con esta introducción a nuestra “Guía de Viaje de Isla Margarita”, te invitamos a sumergirte en un viaje detallado por esta hermosa isla. Descubre con nosotros los secretos, bellezas y aventuras que Isla Margarita tiene para ofrecerte. Explorando los atractivos turísticos de la Isla Margarita Siguiendo con nuestra “Guía de Viaje a Isla Margarita”, profundicemos en los atractivos turísticos que hacen de esta isla un destino incomparable. La Isla Margarita no es sólo un refugio para quienes buscan sol y playa; Es un lugar donde historia, cultura y naturaleza se entrelazan para ofrecer una experiencia única. Playa El Agua Comenzamos nuestro recorrido en Playa El Agua, una de las playas más famosas y visitadas de Isla Margarita. Con aproximadamente 4 kilómetros de suave arena dorada y palmeras meciéndose al ritmo del Caribe, Playa El Agua es el lugar ideal para relajarse, tomar el sol o disfrutar de una variedad de deportes acuáticos. Los visitantes pueden encontrar numerosos restaurantes y bares a lo largo del paseo marítimo, que ofrecen deliciosos platos locales y refrescantes cócteles. Parque Nacional Laguna de La Restinga Para los amantes de la naturaleza, el Parque Nacional Laguna de La Restinga es una parada obligatoria. Este parque es famoso por su extensa laguna, hogar de una impresionante biodiversidad, que incluye aves exóticas y manglares. Los visitantes podrán explorar la laguna en bote, guiados por expertos locales, quienes compartirán historias sobre la flora y fauna del lugar, así como leyendas de la isla. El Valle del Espíritu Santo Este sitio es profundamente significativo para los habitantes de Isla Margarita. Aquí se encuentra la Basílica de Nuestra Señora del Valle, patrona de la isla. La iglesia es un hermoso ejemplo de arquitectura religiosa y un centro de peregrinación para creyentes de todo el país. Los visitantes pueden disfrutar de la serenidad del lugar y aprender sobre las tradiciones religiosas y culturales de la isla. Castillo de San Carlos de Borromeo Ubicado en la ciudad de Pampatar, el Castillo de San Carlos de Borromeo es una fortificación del siglo XVII que ofrece una ventana al pasado colonial de la isla. Este castillo histórico no sólo es un impresionante ejemplo de la arquitectura militar de la época, sino que también ofrece vistas panorámicas del Mar Caribe y la ciudad. Hoy alberga un museo que exhibe artefactos históricos y relatos de las batallas y eventos que tuvieron lugar en la isla. Pueblos coloniales y mercados locales Un viaje a Isla Margarita no está completo sin visitar sus encantadores pueblos coloniales, como Pampatar, La Asunción y Juan Griego. Estos pueblos ofrecen una mezcla de historia, con sus calles adoquinadas y arquitectura colonial, y modernidad, con sus coloridos mercados y tiendas de artesanía. Aquí, los visitantes pueden sumergirse en la cultura local, comprar recuerdos únicos y probar la cocina tradicional. Actividades recreativas Además de sus playas y atractivos culturales, Isla Margarita ofrece una amplia gama de actividades recreativas. Desde golf en campos de clase mundial hasta emocionantes deportes acuáticos como windsurf y kitesurf, la isla tiene algo para cada gusto y nivel de aventura. Las excursiones de buceo y snorkeling son particularmente populares, dada la rica vida marina y los arrecifes de coral que rodean la isla. En esta sección de la “Guía de viaje de la Isla Margarita”, hemos explorado solo algunas de las muchas atracciones que esta hermosa isla tiene para ofrecer. Cada lugar es una oportunidad para crear recuerdos inolvidables y vivir experiencias únicas. La Isla Margarita espera a todo',\n",
       "  'urls_resultado': 'https://www.01centralamerica.com/america_central/turismo/isla-margarita-venezuela/',\n",
       "  'consulta_busqueda': 'atracciones principales Isla de Margarita'},\n",
       " {'texto_resultado_busqueda': 'Margarita | La Perla del Caribe ⭐ Dias del sol y playa esperan La Perla del Caribe Margarita Playas hermosas y hoteles todo incluido esperan Enviar un Email La Perla del Caribe Margarita Playas hermosas y hoteles todo incluido esperan Enviar un Email La Isla de Margarita , conocida como La Perla del Caribe , es uno de los destinos turísticos más importantes y encantadores de Venezuela. Ubicada en el mar Caribe, Margarita ofrece una combinación única de playas paradisíacas, una vibrante vida nocturna y una oferta hotelera variada que se adapta a todo tipo de viajeros. Si estás considerando un lugar para tus próximas vacaciones, esta isla tiene todo lo que necesitas para vivir una experiencia inolvidable. ¿Por Qué Elegir Margarita? Margarita es mucho más que un destino de sol y playa. Además de sus paisajes espectaculares, la isla cuenta con una rica historia, cultura local, actividades de aventura y una infraestructura hotelera que abarca desde opciones de lujo hasta paquetes accesibles de «todo incluido» o «sólo desayunos». Ya sea que busques relajarte en la playa, explorar la cultura local o disfrutar de deportes acuáticos, Margarita tiene algo para cada tipo de viajero. 1. Playas Increíbles y Variedad de Ambientes La isla cuenta con una vasta gama de playas para todos los gustos. Entre las más conocidas se encuentran: Playa El Yaque : Famosa por ser uno de los mejores lugares del mundo para practicar windsurf y kitesurf debido a sus constantes vientos. Es el sitio ideal para los amantes de los deportes acuáticos. Playa Parguito : Con su oleaje fuerte, es el lugar preferido por los surfistas. A su alrededor, encontrarás chiringuitos y restaurantes donde disfrutar de comida típica local. Playa Caribe : Con un ambiente más relajado, es perfecta para quienes buscan descansar y disfrutar de aguas tranquilas y cristalinas. 2. Oferta Hotelera Variada Uno de los puntos fuertes de Margarita es su oferta hotelera , que va desde lujosos resorts todo incluido hasta acogedores hoteles boutique que ofrecen desayuno incluido. Muchos hoteles están ubicados estratégicamente cerca de las playas más populares, lo que facilita disfrutar de todo lo que la isla tiene para ofrecer. Mi experiencia personal me ha mostrado que los hoteles en Margarita están diseñados para todo tipo de viajeros, desde aquellos que buscan un retiro de lujo hasta quienes prefieren opciones más económicas sin sacrificar la comodidad. Pampatar , una de las ciudades más atractivas de la isla, es famosa por sus hoteles frente al mar, restaurantes gourmet y su vida nocturna vibrante. 3. Actividades Turísticas para Todos los Gustos – Tours por la Isla Existen numerosos tours organizados para recorrer los principales atractivos de la isla. Una visita a la Basílica de Nuestra Señora del Valle es obligatoria para quienes desean conocer más sobre la devoción mariana en Venezuela. Además, se pueden hacer excursiones al Castillo de San Carlos de Borromeo , ubicado en Pampatar, desde donde se obtienen vistas panorámicas increíbles de la costa. – Parques Temáticos y Diversión Familiar Margarita también ofrece una amplia gama de actividades familiares. El Parque El Agua es uno de los más grandes parques acuáticos del país, ideal para pasar un día de diversión en familia, mientras que el Parque Temático Diverland es perfecto para los más pequeños con su variedad de atracciones y juegos mecánicos. – Deportes Acuáticos Además del windsurf y kitesurf en El Yaque , las aguas de Margarita son perfectas para practicar buceo y snorkeling. Existen operadores turísticos que organizan excursiones a los mejores sitios de buceo donde puedes admirar la vida marina del Caribe. También puedes disfrutar de paseos en catamarán o hacer kayak en las aguas tranquilas de La Restinga , un parque nacional lleno de canales rodeados de manglares. 4. Compras y Vida Nocturna Margarita es una zona libre de impuestos , lo que la convierte en un excelente lugar para hacer compras. En la ciudad de Porlamar encontrarás centros comerciales donde adquirir desde ropa hasta productos electrónicos a precios competitivos. Por otro lado, Pampatar es conocida por su animada vida nocturna. La ciudad alberga una gran cantidad de restaurantes, bares y discotecas, donde podrás disfrutar de buena música, excelentes comidas y bebidas locales. 5. Gastronomía Local La gastronomía en Margarita es otro de los grandes atractivos. Los restaurantes de la isla ofrecen platos que destacan por el uso de productos frescos del mar, como mariscos, pescados y langostas. Entre los platos típicos se encuentran: Empanadas Margariteñas : Rellenas de cazón (un tipo de tiburón), queso o mariscos. Arepas Asadas : Aunque la arepa es un plato típico venezolano, en Margarita tienen un toque especial al prepararse con ingredientes locales. Dulces de Coco : Un postre tradicional hecho con coco fresco y papelón. ¿Cómo Llegar a Margarita? Para llegar a Margarita, puedes tomar un vuelo desde Caracas u otras ciudades venezolanas, ya que la isla cuenta con el Aeropuerto Internacional Santiago Mariño . Además, existe la opción de llegar en ferry desde el puerto de La Guaira o Puerto La Cruz, lo que hace que el viaje sea una experiencia más completa. Conclusión La Isla de Margarita es uno de los destinos más completos del Caribe. Con sus impresionantes playas, actividades emocionantes y excelente oferta hotelera, se posiciona como un lugar perfecto para disfrutar de unas vacaciones inolvidables. Ya sea que viajes en familia, con amigos o en pareja, Margarita tiene algo para ofrecerte. Si estás buscando un lugar que combine aventura, relax y cultura, no busques más: Margarita es tu destino. ¡Planifica tu viaje hoy mismo y descubre por qué es llamada La Perla del Caribe ! Playas de Venezuela octubre 3, 2024 No hay comentarios Paquetes a Margarita con boleto aéreo incluido 2024 septiembre 30, 2024 No hay comentarios Los Roques septiembre 22, 2024 No hay comentarios Siitios turisticos del Estado Trujillo septiembre 1, 2024 No hay comentarios 40 sitios turisticos en Venezuela septiembre 1, 2024 No hay comentarios Turismo Estado Sucre agosto 28, 2024 No hay comentarios Turismo Estado Miranda agosto 28, 2024 No hay comentarios Turismo Estado Lara agosto 28, 2024 No hay comentarios Caracas Turismo agosto 28, 2024 No hay comentarios Canaima Venezuela agosto 20, 2024 No hay comentarios La Colonia Tovar agosto 20, 2024 No hay comentarios Salto Angel agosto 20, 2024 No hay comentarios Sitios turísticos de Venezuela agosto 20, 2024 No hay comentarios Playas Los Roques Venezuela agosto 19, 2024 No hay comentarios Vuelve a Turismo en Venezuela Ir a WhatsApp 1 ¡Contáctanos Ahora! ¡Aquí estamos! ¿Buscando destinos de viaje? No descartes a la isla de Margarita en Venezuela',\n",
       "  'urls_resultado': 'https://www.dviaje.com.ve/margarita/',\n",
       "  'consulta_busqueda': 'atracciones principales Isla de Margarita'},\n",
       " {'texto_resultado_busqueda': 'No se pudo recuperar la página web: Código 403',\n",
       "  'urls_resultado': 'https://www.ldhoteles.com/guia-de-viaje-para-la-isla-de-margarita',\n",
       "  'consulta_busqueda': 'guía de viaje Isla de Margarita'},\n",
       " {'texto_resultado_busqueda': 'Guía de Viaje a Isla Margarita, Venezuela. Una joya en el Caribe Ir al contenido América Central y el Caribe Información y Consejos para Viajar América Central y el Caribe Información y Consejos para Viajar Main Menu America Central e Islas del Caribe Belice Alternar menú Información Práctica de Belice Ciudades de Belice Belice Continental La Costa de Belice Parque Nacionales de Belice Sitios Arqueologicos Mayas de Belice Cuando viajar a Belice Como viajar a Belice Historia de Belice Mapa de Belice Mujeres de Belice Música de Belice Costa Rica Alternar menú Ciudades de Costa Rica Alajuela, Costa Rica Heredia, Costa Rica Liberia, Costa Rica Puerto Limon, Costa Rica San José de Costa Rica Cuando viajar a Costa Rica Como viajar a Costa Rica Historia de Costa Rica Información práctica de Costa Rica Mapa de Costa Rica Mujeres de Costa Rica Musica de Costa Rica Cuba Alternar menú Ciudades de Cuba Baracoa Cayo Largo Cayo Santa Maria Holguin La Habana Santiago de Cuba Trinidad Varadero Vinales Como viajar a Cuba Cuando viajar a Cuba Historia de Cuba Información practica de Cuba Mapa de Cuba Mujeres de Cuba Música de Cuba El Salvador Alternar menú Ciudades de El Salvador Ahuachapan La Costa de El Salvador Nejapa San Miguel San Salvador San Vicente Santa Ana Sonsonate Como viajar a El Salvador Cuando viajar a El Salvador Historia de El Salvador Información práctica de El Salvador Mapa de El Salvador Mujeres de El Salvador Música de El Salvador Guatemala Alternar menú Ciudades de Guatemala Antigua Atitlan en Guatemala Chichicastenango Flores Guatemala Ciudad Panajachel Parque Nacional Tikal Quetzaltenango Santa Catarina Palopo Santo Tomas de Castilla Como viajar a Guatemala Cuando viajar a Guatemala Historia de Guatemala Información práctica de Guatemala Mapa de Guatemala Mujeres de Guatemala Música de Guatemala Haiti Alternar menú Ciudades de Haití Jacmel Les Cayes Montrouis Petionville Port au Prince Port de Paix Como viajar a Haiti Cuando viajar a Haiti Historia de Haiti Información práctica de Haiti Mapa de Haiti Mujeres de Haiti Música de Haití Honduras Alternar menú Ciudades de Honduras Choluteca Copan Ruinas Guanaja Island La Ceiba Puerto Cortes Roatan San Pedro Sula Santa Rosa de Copan Tegucigalpa Tela Como viajar a Honduras Cuando viajar a Honduras Historia de Honduras Información práctica de Honduras Mapa de Honduras Mujeres de Honduras Música de Honduras Jamaica Alternar menú Ciudades de Jamaica Discovery Bay Irish Town Kingston Mandeville Montego Bay Negril Ocho Rios Port Antonio Runaway Bay St. Ann’s Bay Cuando viajar a Jamaica Como viajar a Jamaica Historia de Jamaica Información práctica de Jamaica Mapa de Jamaica Mujeres de Jamaica Música de Jamaica Nicaragua Alternar menú Ciudades de Nicaragua Atlantico Norte Atlantico Sur Chinandega Granada Leon Managua Masaya Como viajar a Nicaragua Cuando viajar a Nicaragua Historia de Nicaragua Información práctica de Nicaragua Mapa de Nicaragua Mujeres de Nicaragua Música de Nicaragua Panama Alternar menú Ciudades de Panamá Boquete Cerro Punta Colon Contadora Island David Farallon Panama City Pinas Bay San Blas Gulf Taboga Island Como viajar a Panama Cuando viajar a Panama Historia de Panamá Información práctica de Panama Mapa de Panama Mujeres de Panama Música de Panamá Puerto Rico Alternar menú Ciudades de Puerto Rico Aguadilla Cabo Rojo Culebra Fajardo Guayama Mayaguez Ponce Rincon San Juan Vieques Island Como viajar a Puerto Rico Cuando viajar a Puerto Rico Historia de Puerto Rico Información práctica de Puerto Rico Mapa de Puerto Rico Mujeres de Puerto Rico Música de Puerto Rico Dominicana República Alternar menú Ciudades de República Dominicana La Romana Puerto Plata Punta Cana San Pedro de Macoris Santo Domingo Cómo Viajar a República Dominicana: Llegada y Primeros Pasos Cuando Viajar a la República Dominicana Información práctica de República Dominicana Historia de República Dominicana Mapa de República Dominicana Mujeres de República Dominicana Música de República Dominicana Otras islas del caribe Alternar menú Viajar a Trinidad y Tobago Viajar a Bahamas Viajar a Martinica Viajar a Barbados Antillas Neerlandesas Viajar a Santa Lucía Viajar a San Vicente y las Granadinas Viajar a Islas Vírgenes de los Estados Unidos Viajar a Granada Viajar a Guadalupe Viajar a Aruba Lugares para visitar en Aruba Viajar a Antigua y Barbuda Viajar a Dominica Viajar a Islas Caimán Viajar a Bermudas Viajar a San Cristóbal y Nieves Viajar a Islas Turcas y Caicos Viajar a Islas Vírgenes Británicas Viajar a Anguila Viajar a Montserrat Recetas Caribeñas Preparar Recetas Típicas del Caribe Recetas Típicas de América Central Contactarse Política de Privacidad Guía de Viaje a Isla Margarita, Venezuela. Una joya en el Caribe Por america-central / 29 enero, 2024 Descubriendo la Isla de Margarita: Bienvenido a nuestra “Guía de Viajes a Isla Margarita”, el destino perfecto para quienes buscan una escapada tropical en el corazón del Caribe. La Isla Margarita, ubicada al noreste de Venezuela, es conocida por su clima cálido durante todo el año, playas de arena blanca y una rica cultura que mezcla tradiciones caribeñas y venezolanas. Isla Margarita, Venezuela Ubicación y Geografía La Isla Margarita está ubicada en el Mar Caribe, siendo la más grande de las islas del estado Nueva Esparta en Venezuela. Con una superficie aproximada de 1.020 km², esta isla ofrece una impresionante diversidad geográfica, desde hermosas playas hasta montañas y fértiles valles. Su ubicación privilegiada lo convierte en un destino accesible para viajeros de todo el mundo. Historia y cultura La historia de Isla Margarita está llena de historias fascinantes. Descubierta en 1498 por Cristóbal Colón, la isla ha sido influenciada a lo largo de los siglos por diversas culturas, incluidas la española, la africana y la aborigen. Esta mezcla cultural se refleja en la arquitectura colonial de sus pueblos, sus tradiciones y, por supuesto, su gastronomía. Un Destino Turístico por Excelencia La Isla Margarita no es sólo un paraíso para los amantes de la playa. Es un centro de actividades culturales, deportivas y de ocio. Con sus centros comerciales, campos de golf y su vibrante vida nocturna, la isla ofrece algo para cada tipo de viajero. Además, su población local es conocida por su cálida y amigable hospitalidad, lo que hace que cada visita sea aún más memorable. Con esta introducción a nuestra “Guía de Viaje de Isla Margarita”, te invitamos a sumergirte en un viaje detallado por esta hermosa isla. Descubre con nosotros los secretos, bellezas y aventuras que Isla Margarita tiene para ofrecerte. Explorando los atractivos turísticos de la Isla Margarita Siguiendo con nuestra “Guía de Viaje a Isla Margarita”, profundicemos en los atractivos turísticos que hacen de esta isla un destino incomparable. La Isla Margarita no es sólo un refugio para quienes buscan sol y playa; Es un lugar donde historia, cultura y naturaleza se entrelazan para ofrecer una experiencia única. Playa El Agua Comenzamos nuestro recorrido en Playa El Agua, una de las playas más famosas y visitadas de Isla Margarita. Con aproximadamente 4 kilómetros de suave arena dorada y palmeras meciéndose al ritmo del Caribe, Playa El Agua es el lugar ideal para relajarse, tomar el sol o disfrutar de una variedad de deportes acuáticos. Los visitantes pueden encontrar numerosos restaurantes y bares a lo largo del paseo marítimo, que ofrecen deliciosos platos locales y refrescantes cócteles. Parque Nacional Laguna de La Restinga Para los amantes de la naturaleza, el Parque Nacional Laguna de La Restinga es una parada obligatoria. Este parque es famoso por su extensa laguna, hogar de una impresionante biodiversidad, que incluye aves exóticas y manglares. Los visitantes podrán explorar la laguna en bote, guiados por expertos locales, quienes compartirán historias sobre la flora y fauna del lugar, así como leyendas de la isla. El Valle del Espíritu Santo Este sitio es profundamente significativo para los habitantes de Isla Margarita. Aquí se encuentra la Basílica de Nuestra Señora del Valle, patrona de la isla. La iglesia es un hermoso ejemplo de arquitectura religiosa y un centro de peregrinación para creyentes de todo el país. Los visitantes pueden disfrutar de la serenidad del lugar y aprender sobre las tradiciones religiosas y culturales de la isla. Castillo de San Carlos de Borromeo Ubicado en la ciudad de Pampatar, el Castillo de San Carlos de Borromeo es una fortificación del siglo XVII que ofrece una ventana al pasado colonial de la isla. Este castillo histórico no sólo es un impresionante ejemplo de la arquitectura militar de la época, sino que también ofrece vistas panorámicas del Mar Caribe y la ciudad. Hoy alberga un museo que exhibe artefactos históricos y relatos de las batallas y eventos que tuvieron lugar en la isla. Pueblos coloniales y mercados locales Un viaje a Isla Margarita no está completo sin visitar sus encantadores pueblos coloniales, como Pampatar, La Asunción y Juan Griego. Estos pueblos ofrecen una mezcla de historia, con sus calles adoquinadas y arquitectura colonial, y modernidad, con sus coloridos mercados y tiendas de artesanía. Aquí, los visitantes pueden sumergirse en la cultura local, comprar recuerdos únicos y probar la cocina tradicional. Actividades recreativas Además de sus playas y atractivos culturales, Isla Margarita ofrece una amplia gama de actividades recreativas. Desde golf en campos de clase mundial hasta emocionantes deportes acuáticos como windsurf y kitesurf, la isla tiene algo para cada gusto y nivel de aventura. Las excursiones de buceo y snorkeling son particularmente populares, dada la rica vida marina y los arrecifes de coral que rodean la isla. En esta sección de la “Guía de viaje de la Isla Margarita”, hemos explorado solo algunas de las muchas atracciones que esta hermosa isla tiene para ofrecer. Cada lugar es una oportunidad para crear recuerdos inolvidables y vivir experiencias únicas. La Isla Margarita espera a todo',\n",
       "  'urls_resultado': 'https://www.01centralamerica.com/america_central/turismo/isla-margarita-venezuela/',\n",
       "  'consulta_busqueda': 'guía de viaje Isla de Margarita'},\n",
       " {'texto_resultado_busqueda': 'Margarita | La Perla del Caribe ⭐ Dias del sol y playa esperan La Perla del Caribe Margarita Playas hermosas y hoteles todo incluido esperan Enviar un Email La Perla del Caribe Margarita Playas hermosas y hoteles todo incluido esperan Enviar un Email La Isla de Margarita , conocida como La Perla del Caribe , es uno de los destinos turísticos más importantes y encantadores de Venezuela. Ubicada en el mar Caribe, Margarita ofrece una combinación única de playas paradisíacas, una vibrante vida nocturna y una oferta hotelera variada que se adapta a todo tipo de viajeros. Si estás considerando un lugar para tus próximas vacaciones, esta isla tiene todo lo que necesitas para vivir una experiencia inolvidable. ¿Por Qué Elegir Margarita? Margarita es mucho más que un destino de sol y playa. Además de sus paisajes espectaculares, la isla cuenta con una rica historia, cultura local, actividades de aventura y una infraestructura hotelera que abarca desde opciones de lujo hasta paquetes accesibles de «todo incluido» o «sólo desayunos». Ya sea que busques relajarte en la playa, explorar la cultura local o disfrutar de deportes acuáticos, Margarita tiene algo para cada tipo de viajero. 1. Playas Increíbles y Variedad de Ambientes La isla cuenta con una vasta gama de playas para todos los gustos. Entre las más conocidas se encuentran: Playa El Yaque : Famosa por ser uno de los mejores lugares del mundo para practicar windsurf y kitesurf debido a sus constantes vientos. Es el sitio ideal para los amantes de los deportes acuáticos. Playa Parguito : Con su oleaje fuerte, es el lugar preferido por los surfistas. A su alrededor, encontrarás chiringuitos y restaurantes donde disfrutar de comida típica local. Playa Caribe : Con un ambiente más relajado, es perfecta para quienes buscan descansar y disfrutar de aguas tranquilas y cristalinas. 2. Oferta Hotelera Variada Uno de los puntos fuertes de Margarita es su oferta hotelera , que va desde lujosos resorts todo incluido hasta acogedores hoteles boutique que ofrecen desayuno incluido. Muchos hoteles están ubicados estratégicamente cerca de las playas más populares, lo que facilita disfrutar de todo lo que la isla tiene para ofrecer. Mi experiencia personal me ha mostrado que los hoteles en Margarita están diseñados para todo tipo de viajeros, desde aquellos que buscan un retiro de lujo hasta quienes prefieren opciones más económicas sin sacrificar la comodidad. Pampatar , una de las ciudades más atractivas de la isla, es famosa por sus hoteles frente al mar, restaurantes gourmet y su vida nocturna vibrante. 3. Actividades Turísticas para Todos los Gustos – Tours por la Isla Existen numerosos tours organizados para recorrer los principales atractivos de la isla. Una visita a la Basílica de Nuestra Señora del Valle es obligatoria para quienes desean conocer más sobre la devoción mariana en Venezuela. Además, se pueden hacer excursiones al Castillo de San Carlos de Borromeo , ubicado en Pampatar, desde donde se obtienen vistas panorámicas increíbles de la costa. – Parques Temáticos y Diversión Familiar Margarita también ofrece una amplia gama de actividades familiares. El Parque El Agua es uno de los más grandes parques acuáticos del país, ideal para pasar un día de diversión en familia, mientras que el Parque Temático Diverland es perfecto para los más pequeños con su variedad de atracciones y juegos mecánicos. – Deportes Acuáticos Además del windsurf y kitesurf en El Yaque , las aguas de Margarita son perfectas para practicar buceo y snorkeling. Existen operadores turísticos que organizan excursiones a los mejores sitios de buceo donde puedes admirar la vida marina del Caribe. También puedes disfrutar de paseos en catamarán o hacer kayak en las aguas tranquilas de La Restinga , un parque nacional lleno de canales rodeados de manglares. 4. Compras y Vida Nocturna Margarita es una zona libre de impuestos , lo que la convierte en un excelente lugar para hacer compras. En la ciudad de Porlamar encontrarás centros comerciales donde adquirir desde ropa hasta productos electrónicos a precios competitivos. Por otro lado, Pampatar es conocida por su animada vida nocturna. La ciudad alberga una gran cantidad de restaurantes, bares y discotecas, donde podrás disfrutar de buena música, excelentes comidas y bebidas locales. 5. Gastronomía Local La gastronomía en Margarita es otro de los grandes atractivos. Los restaurantes de la isla ofrecen platos que destacan por el uso de productos frescos del mar, como mariscos, pescados y langostas. Entre los platos típicos se encuentran: Empanadas Margariteñas : Rellenas de cazón (un tipo de tiburón), queso o mariscos. Arepas Asadas : Aunque la arepa es un plato típico venezolano, en Margarita tienen un toque especial al prepararse con ingredientes locales. Dulces de Coco : Un postre tradicional hecho con coco fresco y papelón. ¿Cómo Llegar a Margarita? Para llegar a Margarita, puedes tomar un vuelo desde Caracas u otras ciudades venezolanas, ya que la isla cuenta con el Aeropuerto Internacional Santiago Mariño . Además, existe la opción de llegar en ferry desde el puerto de La Guaira o Puerto La Cruz, lo que hace que el viaje sea una experiencia más completa. Conclusión La Isla de Margarita es uno de los destinos más completos del Caribe. Con sus impresionantes playas, actividades emocionantes y excelente oferta hotelera, se posiciona como un lugar perfecto para disfrutar de unas vacaciones inolvidables. Ya sea que viajes en familia, con amigos o en pareja, Margarita tiene algo para ofrecerte. Si estás buscando un lugar que combine aventura, relax y cultura, no busques más: Margarita es tu destino. ¡Planifica tu viaje hoy mismo y descubre por qué es llamada La Perla del Caribe ! Playas de Venezuela octubre 3, 2024 No hay comentarios Paquetes a Margarita con boleto aéreo incluido 2024 septiembre 30, 2024 No hay comentarios Los Roques septiembre 22, 2024 No hay comentarios Siitios turisticos del Estado Trujillo septiembre 1, 2024 No hay comentarios 40 sitios turisticos en Venezuela septiembre 1, 2024 No hay comentarios Turismo Estado Sucre agosto 28, 2024 No hay comentarios Turismo Estado Miranda agosto 28, 2024 No hay comentarios Turismo Estado Lara agosto 28, 2024 No hay comentarios Caracas Turismo agosto 28, 2024 No hay comentarios Canaima Venezuela agosto 20, 2024 No hay comentarios La Colonia Tovar agosto 20, 2024 No hay comentarios Salto Angel agosto 20, 2024 No hay comentarios Sitios turísticos de Venezuela agosto 20, 2024 No hay comentarios Playas Los Roques Venezuela agosto 19, 2024 No hay comentarios Vuelve a Turismo en Venezuela Ir a WhatsApp 1 ¡Contáctanos Ahora! ¡Aquí estamos! ¿Buscando destinos de viaje? No descartes a la isla de Margarita en Venezuela',\n",
       "  'urls_resultado': 'https://www.dviaje.com.ve/margarita/',\n",
       "  'consulta_busqueda': 'guía de viaje Isla de Margarita'}]"
      ]
     },
     "execution_count": 40,
     "metadata": {},
     "output_type": "execute_result"
    }
   ],
   "execution_count": 40
  },
  {
   "metadata": {},
   "cell_type": "markdown",
   "source": "El paso siguiente es resumir cada página. Este resumen mantendrá la consulta y las urls porque las necesitaremos para el informe de investigación.",
   "id": "a967c6e34323dcb8"
  },
  {
   "metadata": {
    "ExecuteTime": {
     "end_time": "2024-10-22T22:03:53.266607Z",
     "start_time": "2024-10-22T22:03:32.245646Z"
    }
   },
   "cell_type": "code",
   "source": [
    "lista_resumen_texto = []\n",
    "\n",
    "\n",
    "# Lo hacemos secuencialmente, pero se puede hacer en paralelo\n",
    "for rt in textos_resultados: \n",
    "    prompt_resumen = plantilla_resumen.format(\n",
    "        texto_resultado_busqueda=rt['texto_resultado_busqueda'], \n",
    "        consulta_busqueda=rt['consulta_busqueda'])\n",
    "    \n",
    "    respuesta_llm = llm.invoke(prompt_resumen)\n",
    "    resumen_texto = respuesta_llm.content\n",
    " \n",
    "    lista_resumen_texto.append({'resumen_texto': resumen_texto,\n",
    "                         'urls_resultado': rt['urls_resultado'],\n",
    "                         'consulta_busqueda': rt['consulta_busqueda']})"
   ],
   "id": "b35d235f4392132f",
   "outputs": [],
   "execution_count": 45
  },
  {
   "metadata": {
    "ExecuteTime": {
     "end_time": "2024-10-22T22:03:55.023087Z",
     "start_time": "2024-10-22T22:03:55.016756Z"
    }
   },
   "cell_type": "code",
   "source": "lista_resumen_texto",
   "id": "cc2614e6c2d8f052",
   "outputs": [
    {
     "data": {
      "text/plain": [
       "[{'resumen_texto': 'La Isla de Margarita ofrece una variedad de actividades turísticas para todos los gustos, que incluyen:\\n\\n1. **Tours por la Isla**: Visitas a la Basílica de Nuestra Señora del Valle y excursiones al Castillo de San Carlos de Borromeo en Pampatar, que ofrece vistas panorámicas de la costa.\\n\\n2. **Parques Temáticos y Diversión Familiar**: El Parque El Agua, uno de los parques acuáticos más grandes del país, y el Parque Temático Diverland, ideal para los más pequeños.\\n\\n3. **Deportes Acuáticos**: Actividades como windsurf y kitesurf en Playa El Yaque, así como buceo y snorkeling en sitios organizados por operadores turísticos. También se pueden hacer paseos en catamarán o kayak en La Restinga.\\n\\n4. **Compras**: Margarita es zona libre de impuestos, especialmente en Porlamar, donde se pueden encontrar productos a precios competitivos.\\n\\n5. **Vida Nocturna**: Pampatar cuenta con una animada vida nocturna, con numerosos restaurantes, bares y discotecas.\\n\\n6. **Gastronomía Local**: Disfrute de platos típicos como empanadas margariteñas, arepas asadas y dulces de coco.\\n\\nEstas actividades hacen de Margarita un destino versátil para diferentes tipos de viajeros.',\n",
       "  'urls_resultado': 'https://www.dviaje.com.ve/margarita/',\n",
       "  'consulta_busqueda': 'actividades turísticas Isla de Margarita'},\n",
       " {'resumen_texto': 'No puedo responder a la pregunta sobre actividades turísticas en la Isla de Margarita, ya que el texto proporcionado no contiene información relevante sobre ese tema. El texto indica que no se pudo recuperar una página web y menciona un código de error 403.',\n",
       "  'urls_resultado': 'https://www.tripadvisor.com/Attractions-g316061-Activities-oa30-Margarita_Island_Coastal_Islands_Insular_Region.html',\n",
       "  'consulta_busqueda': 'actividades turísticas Isla de Margarita'},\n",
       " {'resumen_texto': 'En Isla Margarita, los turistas pueden disfrutar de una variedad de actividades como paseos turísticos, visitas a iglesias y castillos, exploración de flora y fauna, excursiones a islas cercanas, deportes acuáticos y eventos festivos. La isla ofrece diferentes tipos de playas, desde privadas y exclusivas hasta pequeñas con olas grandes, lo que asegura que hay opciones para todo tipo de visitante. Además, se pueden degustar platos de la gastronomía tropical e internacional en los numerosos restaurantes y complejos de entretenimiento disponibles.',\n",
       "  'urls_resultado': 'https://www.cosasdeviajes.com/que-ver-en-isla-margarita/',\n",
       "  'consulta_busqueda': 'actividades turísticas Isla de Margarita'},\n",
       " {'resumen_texto': 'No se puede responder a la pregunta sobre las atracciones principales de la Isla de Margarita usando el texto proporcionado, ya que el texto trata sobre un error de acceso a una página web (Código 403) y no contiene información sobre atracciones turísticas. \\n\\nResumen del texto: No se pudo recuperar la página web debido a un error de acceso, indicado por el Código 403.',\n",
       "  'urls_resultado': 'https://www.ldhoteles.com/guia-de-viaje-para-la-isla-de-margarita',\n",
       "  'consulta_busqueda': 'atracciones principales Isla de Margarita'},\n",
       " {'resumen_texto': 'Las principales atracciones de la Isla Margarita incluyen:\\n\\n1. **Playa El Agua**: Una de las playas más famosas, con aproximadamente 4 kilómetros de arena dorada y opciones para deportes acuáticos y gastronomía local.\\n\\n2. **Parque Nacional Laguna de La Restinga**: Reconocido por su biodiversidad, donde se pueden explorar las lagunas en bote y aprender sobre la flora y fauna de la zona.\\n\\n3. **El Valle del Espíritu Santo**: Hogar de la Basílica de Nuestra Señora del Valle, un importante lugar de peregrinación y ejemplo de arquitectura religiosa.\\n\\n4. **Castillo de San Carlos de Borromeo**: Fortificación del siglo XVII en Pampatar, que ofrece vistas panorámicas y alberga un museo sobre la historia de la isla.\\n\\n5. **Pueblos coloniales y mercados locales**: Pampatar, La Asunción y Juan Griego, donde los visitantes pueden disfrutar de la cultura local, comprar artesanías y probar la cocina típica.\\n\\nAdemás, la isla ofrece actividades recreativas como golf, windsurf, kitesurf, buceo y snorkeling, gracias a su rica vida marina y arrecifes de coral.',\n",
       "  'urls_resultado': 'https://www.01centralamerica.com/america_central/turismo/isla-margarita-venezuela/',\n",
       "  'consulta_busqueda': 'atracciones principales Isla de Margarita'},\n",
       " {'resumen_texto': 'Las principales atracciones de la Isla de Margarita incluyen:\\n\\n1. **Playas Increíbles**:\\n   - **Playa El Yaque**: Ideal para windsurf y kitesurf.\\n   - **Playa Parguito**: Popular entre surfistas.\\n   - **Playa Caribe**: Perfecta para descansar y disfrutar de aguas tranquilas.\\n\\n2. **Actividades Turísticas**:\\n   - **Tours por la Isla**: Visitas a la Basílica de Nuestra Señora del Valle y el Castillo de San Carlos de Borromeo.\\n   - **Parques Temáticos**: Parque El Agua (parque acuático) y Parque Temático Diverland.\\n   - **Deportes Acuáticos**: Buceo, snorkeling, paseos en catamarán y kayak en La Restinga.\\n\\n3. **Compras y Vida Nocturna**:\\n   - Zona libre de impuestos en Porlamar con centros comerciales.\\n   - Animada vida nocturna en Pampatar con restaurantes, bares y discotecas.\\n\\n4. **Gastronomía Local**:\\n   - Platos típicos como empanadas margariteñas, arepas asadas y dulces de coco.\\n\\nLa isla se puede acceder por vuelo al Aeropuerto Internacional Santiago Mariño o en ferry desde La Guaira o Puerto La Cruz.',\n",
       "  'urls_resultado': 'https://www.dviaje.com.ve/margarita/',\n",
       "  'consulta_busqueda': 'atracciones principales Isla de Margarita'},\n",
       " {'resumen_texto': 'El texto indica que no se pudo recuperar una página web y muestra el código de error 403, que generalmente significa que el acceso está prohibido. No se proporciona información sobre una guía de viaje de la Isla de Margarita.',\n",
       "  'urls_resultado': 'https://www.ldhoteles.com/guia-de-viaje-para-la-isla-de-margarita',\n",
       "  'consulta_busqueda': 'guía de viaje Isla de Margarita'},\n",
       " {'resumen_texto': 'La \"Guía de Viaje a Isla Margarita\" presenta este destino como una escapada tropical en el Caribe, ubicado al noreste de Venezuela. La isla tiene una superficie de aproximadamente 1.020 km² y es conocida por su clima cálido, playas de arena blanca y una rica mezcla cultural. \\n\\nIsla Margarita fue descubierta en 1498 por Cristóbal Colón y ha sido influenciada por diversas culturas, incluyendo la española, africana y aborigen. Es un lugar que ofrece actividades culturales, deportivas y de ocio, con una población local famosa por su hospitalidad.\\n\\nEntre los atractivos turísticos destacados se encuentran:\\n\\n1. **Playa El Agua**: Una de las playas más famosas, con 4 kilómetros de arena dorada y opciones de deportes acuáticos.\\n2. **Parque Nacional Laguna de La Restinga**: Con una biodiversidad única, ideal para explorar en bote.\\n3. **El Valle del Espíritu Santo**: Hogar de la Basílica de Nuestra Señora del Valle, patrona de la isla.\\n4. **Castillo de San Carlos de Borromeo**: Una fortificación del siglo XVII con vistas panorámicas y un museo histórico.\\n5. **Pueblos coloniales y mercados locales**: Pampatar, La Asunción y Juan Griego ofrecen una mezcla de historia y modernidad con mercados de artesanía.\\n\\nLa isla también ofrece diversas actividades recreativas, incluyendo golf, windsurf, kitesurf y excursiones de buceo y snorkeling. En resumen, Isla Margarita es un destino que combina belleza natural, historia y cultura, ideal para todo tipo de viajeros.',\n",
       "  'urls_resultado': 'https://www.01centralamerica.com/america_central/turismo/isla-margarita-venezuela/',\n",
       "  'consulta_busqueda': 'guía de viaje Isla de Margarita'},\n",
       " {'resumen_texto': 'La Isla de Margarita, conocida como La Perla del Caribe, es un destino turístico destacado en Venezuela, famosa por sus playas paradisíacas, vida nocturna vibrante y variada oferta hotelera. \\n\\n### ¿Por Qué Elegir Margarita?\\n- **Playas**: \\n  - **Playa El Yaque**: Ideal para windsurf y kitesurf.\\n  - **Playa Parguito**: Preferida por surfistas.\\n  - **Playa Caribe**: Perfecta para relajarse con aguas tranquilas.\\n\\n- **Oferta Hotelera**: Desde lujosos resorts todo incluido hasta hoteles boutique. Pampatar es conocida por sus hoteles frente al mar y su vida nocturna.\\n\\n### Actividades Turísticas:\\n- **Tours**: Visitas a la Basílica de Nuestra Señora del Valle y al Castillo de San Carlos de Borromeo.\\n- **Parques Temáticos**: Parque El Agua y Diverland ofrecen diversión familiar.\\n- **Deportes Acuáticos**: Buceo, snorkeling, paseos en catamarán y kayak en La Restinga.\\n\\n### Compras y Vida Nocturna:\\n- **Zona Libre**: Oportunidades de compras en Porlamar.\\n- **Vida Nocturna**: Restaurantes y discotecas en Pampatar.\\n\\n### Gastronomía Local:\\nPlatos típicos incluyen empanadas margariteñas, arepas asadas y dulces de coco, con un enfoque en productos frescos del mar.\\n\\n### Cómo Llegar:\\nAccesible por vuelo desde Caracas o en ferry desde La Guaira o Puerto La Cruz.\\n\\n### Conclusión:\\nMargarita ofrece una combinación de aventura, relax y cultura, ideal para todo tipo de viajeros. Es un destino perfecto para unas vacaciones inolvidables.',\n",
       "  'urls_resultado': 'https://www.dviaje.com.ve/margarita/',\n",
       "  'consulta_busqueda': 'guía de viaje Isla de Margarita'}]"
      ]
     },
     "execution_count": 46,
     "metadata": {},
     "output_type": "execute_result"
    }
   ],
   "execution_count": 46
  },
  {
   "metadata": {},
   "cell_type": "markdown",
   "source": "Finalmente, el último paso es escribir el informe de investigación utilizando los resúmenes de cada página web.",
   "id": "b7307f399ce2bc58"
  },
  {
   "metadata": {
    "ExecuteTime": {
     "end_time": "2024-10-22T22:10:09.420034Z",
     "start_time": "2024-10-22T22:09:53.940563Z"
    }
   },
   "cell_type": "code",
   "source": [
    "# Vamos a convertir en string el objeto lista_resumen_texto\n",
    "resumenes_string = json.dumps(lista_resumen_texto)\n",
    "\n",
    "# Creamos el prompt para el informe de investigación\n",
    "prompt_reporte_investigacion = plantilla_informe_investigacion.format(\n",
    "    resumen_investigacion=resumenes_string,\n",
    "    pregunta_usuario=pregunta\n",
    ")\n",
    "\n",
    "# Generamos el informe de investigación\n",
    "\n",
    "respuesta_llm = llm.invoke(prompt_reporte_investigacion)\n",
    "\n",
    "reporte_investigacion = respuesta_llm.content\n",
    "\n",
    "\n",
    "# Veamos el resultado\n",
    "print(reporte_investigacion)"
   ],
   "id": "c48cb9724c8e3a1",
   "outputs": [
    {
     "name": "stdout",
     "output_type": "stream",
     "text": [
      "# Informe sobre Actividades Turísticas en la Isla de Margarita\n",
      "\n",
      "## Introducción\n",
      "\n",
      "La Isla de Margarita, ubicada en el mar Caribe al noreste de Venezuela, es un destino turístico destacado que atrae a visitantes por su clima cálido, playas paradisíacas, y una rica mezcla cultural. Conocida como \"La Perla del Caribe\", Margarita ofrece una amplia gama de actividades y atracciones que se adaptan a diferentes tipos de viajeros, desde aquellos que buscan aventura hasta los que prefieren el relax y la cultura. Este informe detalla las diversas actividades disponibles en la isla, organizadas en secciones que abarcan desde turismo cultural hasta deportes acuáticos y gastronomía local.\n",
      "\n",
      "## 1. Actividades Culturales y Turísticas\n",
      "\n",
      "### 1.1 Tours por la Isla\n",
      "\n",
      "Una de las actividades más recomendadas en la Isla de Margarita son los tours que permiten a los visitantes explorar su rica historia y cultura. Entre los lugares destacados se encuentran:\n",
      "\n",
      "- **Basílica de Nuestra Señora del Valle**: Ubicada en el Valle del Espíritu Santo, esta basílica es un importante sitio de peregrinación y un ejemplo de arquitectura religiosa. La imagen de la Virgen del Valle es venerada por los locales y turistas por igual.\n",
      "  \n",
      "- **Castillo de San Carlos de Borromeo**: Esta fortificación del siglo XVII, localizada en Pampatar, no solo ofrece vistas panorámicas de la costa, sino que también alberga un museo que narra la historia de la isla. Los visitantes pueden aprender sobre la importancia estratégica de la fortaleza en tiempos de colonización.\n",
      "\n",
      "### 1.2 Pueblos Coloniales y Mercados Locales\n",
      "\n",
      "La Isla de Margarita cuenta con varios pueblos coloniales que ofrecen un vistazo a la vida local y la cultura. Pueblos como Pampatar, La Asunción y Juan Griego son ideales para pasear, comprar artesanías y disfrutar de la gastronomía típica. En estos lugares, los visitantes pueden encontrar mercados locales donde se venden productos artesanales y alimentos frescos.\n",
      "\n",
      "## 2. Actividades Recreativas y Deportivas\n",
      "\n",
      "### 2.1 Deportes Acuáticos\n",
      "\n",
      "La Isla de Margarita es conocida por sus playas y sus excelentes condiciones para la práctica de deportes acuáticos. Algunas de las actividades más populares incluyen:\n",
      "\n",
      "- **Windsurf y Kitesurf**: Playa El Yaque es famosa por ser uno de los mejores lugares del mundo para practicar estos deportes, gracias a sus vientos constantes y aguas tranquilas.\n",
      "\n",
      "- **Buceo y Snorkeling**: La rica biodiversidad marina de la isla permite a los turistas explorar coloridos arrecifes de coral. Existen operadores turísticos que ofrecen excursiones de buceo y snorkeling en lugares como La Restinga, donde los visitantes pueden observar una gran variedad de especies marinas.\n",
      "\n",
      "- **Paseos en Catamarán y Kayak**: Los paseos en catamarán son una forma popular de explorar las aguas cristalinas de la isla. Los turistas pueden disfrutar de una experiencia relajante mientras navegan y tienen la oportunidad de nadar en playas apartadas. Asimismo, el kayak es ideal para aquellos que buscan una experiencia más activa y cercana a la naturaleza.\n",
      "\n",
      "### 2.2 Parques Temáticos\n",
      "\n",
      "Para las familias que viajan con niños, la Isla de Margarita cuenta con parques temáticos que ofrecen diversión y entretenimiento. Dos de los más destacados son:\n",
      "\n",
      "- **Parque El Agua**: Este es uno de los parques acuáticos más grandes de Venezuela, ofreciendo toboganes, piscinas y áreas recreativas ideales para disfrutar en familia.\n",
      "\n",
      "- **Parque Temático Diverland**: Este parque es perfecto para los más pequeños, con diversas atracciones y actividades diseñadas para entretener a los niños.\n",
      "\n",
      "## 3. Compras y Vida Nocturna\n",
      "\n",
      "### 3.1 Compras\n",
      "\n",
      "La Isla de Margarita es conocida por ser una zona libre de impuestos, lo que la convierte en un destino atractivo para los amantes de las compras. En Porlamar, los visitantes pueden encontrar centros comerciales y tiendas que ofrecen productos a precios competitivos, desde ropa y accesorios hasta electrónica y perfumes.\n",
      "\n",
      "### 3.2 Vida Nocturna\n",
      "\n",
      "La vida nocturna en la Isla de Margarita es vibrante, especialmente en Pampatar y Porlamar. Los turistas pueden disfrutar de una amplia variedad de restaurantes, bares y discotecas que ofrecen entretenimiento hasta altas horas de la noche. La oferta gastronómica es diversa, con opciones que van desde platos locales hasta cocina internacional.\n",
      "\n",
      "## 4. Gastronomía Local\n",
      "\n",
      "La gastronomía de la Isla de Margarita es un reflejo de su rica herencia cultural. Los visitantes pueden disfrutar de una variedad de platos típicos, que incluyen:\n",
      "\n",
      "- **Empanadas Margariteñas**: Hechas con masa de maíz y rellenas de pescado, carne o queso, estas empanadas son un alimento popular en la isla.\n",
      "\n",
      "- **Arepas Asadas**: Este plato tradicional, hecho de masa de maíz, es común en toda Venezuela y se puede encontrar en diversas versiones en la isla.\n",
      "\n",
      "- **Dulces de Coco**: La isla es famosa por sus dulces elaborados con coco, un ingrediente abundante en la región. Estos dulces son un excelente recuerdo para llevar a casa.\n",
      "\n",
      "Los restaurantes en la isla suelen utilizar productos frescos del mar, lo que garantiza una experiencia culinaria deliciosa y auténtica.\n",
      "\n",
      "## 5. Acceso y Alojamiento\n",
      "\n",
      "La Isla de Margarita es fácilmente accesible desde el continente. Los visitantes pueden llegar por vuelo al Aeropuerto Internacional Santiago Mariño, que conecta con varias ciudades de Venezuela y algunos destinos internacionales. También es posible acceder a la isla en ferry desde La Guaira o Puerto La Cruz.\n",
      "\n",
      "En cuanto a la oferta hotelera, la isla cuenta con una amplia gama de opciones que van desde lujosos resorts todo incluido hasta acogedores hoteles boutique. Pampatar es conocida por sus hoteles frente al mar, que ofrecen vistas espectaculares y acceso directo a las playas.\n",
      "\n",
      "## Conclusión\n",
      "\n",
      "La Isla de Margarita es un destino turístico versátil que combina belleza natural, historia, cultura y diversión. Con una variedad de actividades que incluyen turismo cultural, deportes acuáticos, compras, vida nocturna y una rica gastronomía local, la isla se presenta como un lugar ideal para todo tipo de viajeros. Ya sea que busques aventura o relajación, Margarita tiene algo que ofrecer para todos.\n",
      "\n",
      "## Referencias\n",
      "\n",
      "1. D'Viaje. (n.d.). *Isla Margarita*. https://www.dviaje.com.ve/margarita/\n",
      "2. Cosas de Viajes. (n.d.). *Qué ver en Isla Margarita*. https://www.cosasdeviajes.com/que-ver-en-isla-margarita/\n",
      "3. 01 Central America. (n.d.). *Turismo Isla Margarita, Venezuela*. https://www.01centralamerica.com/america_central/turismo/isla-margarita-venezuela/\n",
      "4. LD Hoteles. (n.d.). *Guía de viaje para la Isla de Margarita*. https://www.ldhoteles.com/guia-de-viaje-para-la-isla-de-margarita\n",
      "5. TripAdvisor. (n.d.). *Attractions in Margarita Island*. https://www.tripadvisor.com/Attractions-g316061-Activities-oa30-Margarita_Island_Coastal_Islands_Insular_Region.html\n"
     ]
    }
   ],
   "execution_count": 51
  },
  {
   "metadata": {},
   "cell_type": "code",
   "outputs": [],
   "execution_count": null,
   "source": "",
   "id": "7e215894729ce05d"
  }
 ],
 "metadata": {
  "kernelspec": {
   "display_name": "Python 3",
   "language": "python",
   "name": "python3"
  },
  "language_info": {
   "codemirror_mode": {
    "name": "ipython",
    "version": 2
   },
   "file_extension": ".py",
   "mimetype": "text/x-python",
   "name": "python",
   "nbconvert_exporter": "python",
   "pygments_lexer": "ipython2",
   "version": "2.7.6"
  }
 },
 "nbformat": 4,
 "nbformat_minor": 5
}

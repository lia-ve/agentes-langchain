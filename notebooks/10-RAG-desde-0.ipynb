{
 "cells": [
  {
   "metadata": {},
   "cell_type": "markdown",
   "source": "# RAG desde 0",
   "id": "df8b5022983467d3"
  },
  {
   "metadata": {},
   "cell_type": "markdown",
   "source": "![Modelo de Arquitectura](URL_de_la_imagen)",
   "id": "a492b432365fb055"
  },
  {
   "metadata": {},
   "cell_type": "markdown",
   "source": [
    "## Instalación de paquetes\n",
    "Si estás corriendo este notebook en Google Colab, corre la siguiente celda para instalar los paquetes necesarios."
   ],
   "id": "7da09256ef1bc2b4"
  },
  {
   "metadata": {},
   "cell_type": "code",
   "source": "# %pip install langchain langchain_community langchain_openai",
   "id": "2bea4226506a4544",
   "outputs": [],
   "execution_count": null
  },
  {
   "metadata": {},
   "cell_type": "code",
   "source": [
    "# Corre esta celda solo si tienes un archivo .env configurado\n",
    "from dotenv import load_dotenv\n",
    "load_dotenv()"
   ],
   "id": "da14966811c06c96",
   "outputs": [],
   "execution_count": null
  },
  {
   "cell_type": "code",
   "id": "initial_id",
   "metadata": {
    "collapsed": true
   },
   "source": [
    "import os\n",
    "from langchain_openai import ChatOpenAI\n",
    "\n",
    "llm = ChatOpenAI(\n",
    "    model=os.getenv(\"MODEL\"),\n",
    "    openai_api_key=os.getenv(\"LIA_API_KEY\"),\n",
    "    openai_api_base=os.getenv(\"LIA_API_BASE\"),\n",
    "    temperature=0.6,\n",
    ")"
   ],
   "outputs": [],
   "execution_count": null
  },
  {
   "metadata": {},
   "cell_type": "markdown",
   "source": "Reconstruyamos el almacén de vectores del laboratorio pasado.",
   "id": "46b909993cd6a897"
  },
  {
   "metadata": {},
   "cell_type": "code",
   "source": [
    "import chromadb\n",
    "\n",
    "chroma_client = chromadb.Client()\n",
    "\n",
    "lat_collection = chroma_client.create_collection(name=\"lat_collection\")\n",
    "\n",
    "lat_collection.add(\n",
    "    documents=[\n",
    "        \"\"\"Artículo 31. La alícuota del impuesto municipal a la actividad económica de\n",
    "industria, comercio, servicios o de índole similar no podrá ser superior al tres por\n",
    "ciento (3%) de los ingresos brutos obtenidos. El mínimo tributable anual para este\n",
    "impuesto no podrá ser superior al equivalente en bolívares de doscientas cuarenta\n",
    "veces el tipo de cambio de la moneda de mayor valor publicado por el Banco Central\n",
    "de Venezuela.\n",
    "Excepcionalmente, la alícuota del impuesto municipal a la actividad económica de\n",
    "industria, comercio, servicios o de índole similar será de hasta seis coma cinco por\n",
    "ciento (6,5%) de los ingresos brutos obtenidos, en los siguientes ramos:\n",
    "\n",
    "1. Explotación de minas y canteras.\n",
    "2. Servicios y construcción de industria petrolera.\n",
    "3. Servicios de publicidad.\n",
    "4. Venta al detal y/o mayor de bebidas alcohólicas.\n",
    "5. Expendio de alimentos, bebidas y esparcimiento.\n",
    "6. Bancos comerciales, instituciones financieras, seguros, administradoras y\n",
    "actividades de índole similar.\n",
    "\n",
    "7. Venta de joyas, relojes y piedras preciosas.\n",
    "8. Fabricación de licores, tabacos, cigarrillos y derivados.\"\"\", \n",
    "        \"\"\"Artículo 33. Las licencias o autorizaciones para el ejercicio de actividades\n",
    "económicas, industriales, comerciales, de servicios y de índole similar sujetas a esta\n",
    "Ley, tendrán una vigencia mínima de tres (3) años calendarios, contados a partir de\n",
    "la fecha de su emisión por parte de la autoridad correspondiente, sin perjuicio del\n",
    "pago de la tasa correspondiente por su mantenimiento anual.\n",
    "La renovación de las licencias o autorizaciones a que se refiere este artículo\n",
    "procederá de manera automática, bajo declaración jurada del solicitante sobre el\n",
    "efectivo cumplimiento de todos los requisitos y trámites establecidos, previo pago\n",
    "de los tributos que correspondan. Queda a salvo la facultad de las autoridades\n",
    "competentes de revisar, en cualquier momento, la veracidad de la declaración\n",
    "realizada por la persona solicitante.\"\"\",\n",
    "        \"\"\"Impuesto sobre instrumentos crediticios\n",
    "Artículo 40. El impuesto estadal por el otorgamiento de instrumentos crediticios a\n",
    "favor de personas naturales o jurídicas por parte de los bancos y demás instituciones\n",
    "financieras, cuyas sucursales o agencias se encuentren ubicadas en la jurisdicción\n",
    "de cada estado y del Distrito Capital, no podrá exceder de un bolívar por cada mil\n",
    "bolívares (1x1000).\n",
    "A tales efectos, se entenderá por instrumentos crediticios, aquellos mediante los\n",
    "cuales los bancos y demás instituciones financieras otorguen de manera directa \n",
    "cantidades dinerarias, en calidad de préstamos y bajo las condiciones por ellos\n",
    "estipuladas con excepción de las tarjetas de crédito y líneas de crédito.\n",
    "El impuesto establecido en este artículo se causará al momento de la emisión del\n",
    "instrumento crediticio.\"\"\"\n",
    "    ],\n",
    "    metadatas=[\n",
    "        {\"source\": \"https://assets.kpmg.com/content/dam/kpmg/ve/pdf/2023/08/Gaceta-Oficial-6.755.pdf\"}, \n",
    "        {\"source\": \"https://assets.kpmg.com/content/dam/kpmg/ve/pdf/2023/08/Gaceta-Oficial-6.755.pdf\"}, \n",
    "        {\"source\": \"https://assets.kpmg.com/content/dam/kpmg/ve/pdf/2023/08/Gaceta-Oficial-6.755.pdf\"}, \n",
    "    ],\n",
    "    ids=[\"lat-01\", \"lat-02\", \"lat-03\"]\n",
    ")\n"
   ],
   "id": "b969e54ce45d8db2",
   "outputs": [],
   "execution_count": null
  },
  {
   "metadata": {},
   "cell_type": "code",
   "source": [
    "# Función para recuperar contenido de la base de datos de vectores\n",
    "\n",
    "def query_vector_database(question):\n",
    "    results = lat_collection.query(\n",
    "        query_texts=[question],\n",
    "        n_results=1\n",
    "    )\n",
    "    results_text = results['documents'][0][0]\n",
    "    return results_text"
   ],
   "id": "7a33f56ffab56d77",
   "outputs": [],
   "execution_count": null
  },
  {
   "metadata": {},
   "cell_type": "code",
   "source": [
    "# Probemos la función\n",
    "\n",
    "results_text = query_vector_database(\"Cuál es la alícuota máxima del impuesto de actividades económicas en Venezuela?\")\n",
    "print(results_text)"
   ],
   "id": "b1e20e534247ef67",
   "outputs": [],
   "execution_count": null
  },
  {
   "metadata": {},
   "cell_type": "code",
   "outputs": [],
   "execution_count": null,
   "source": [
    "# Usemos un simple prompt para realizar la generación aumentada\n",
    "\n",
    "def prompt_template(question, context):\n",
    "    return f'Lee el siguiente texto y responde esta pregunta: {question}. \\nContexto: {context}'\n",
    " \n",
    "def execute_llm_prompt(prompt_input):\n",
    "    prompt_response = llm.invoke(prompt_input)\n",
    "    return prompt_response\n"
   ],
   "id": "6574f83ee55a486d"
  },
  {
   "metadata": {},
   "cell_type": "code",
   "source": [
    "# Probemos la función con una pregunta complicada que provoque una halucinación\n",
    "\n",
    "pregunta_dificil = \"How many columns have the three temples got in total?\"\n",
    "pd_resultado = query_vector_database(pregunta_dificil)\n",
    "pd_prompt = prompt_template(pregunta_dificil, pd_resultado)\n",
    "pd_respuesta = execute_llm_prompt(pd_prompt)\n",
    "print(pd_respuesta)"
   ],
   "id": "5a7d49a4c352153b",
   "outputs": [],
   "execution_count": null
  },
  {
   "metadata": {},
   "cell_type": "markdown",
   "source": "TIP: Pueden conseguir prompts y otros recursos en Langchain Hub (https://smith.langchain.com/hub)",
   "id": "6642b6c6a0ab7c63"
  },
  {
   "metadata": {},
   "cell_type": "code",
   "outputs": [],
   "execution_count": null,
   "source": [
    "# Mejoremos el prompt\n",
    "def prompt_template(question, text):\n",
    "    return f'Usa las siguientes partes del contexto recuperado para responder la pregunta. Si no sabes la respuesta, simplemente di que no la sabes. Usa un máximo de tres oraciones y mantén la respuesta concisa. \\nPregunta: {question}\\nContexto: {text}'\n"
   ],
   "id": "a471b3aaaf097e1a"
  },
  {
   "metadata": {},
   "cell_type": "code",
   "outputs": [],
   "execution_count": null,
   "source": [
    "# Probemos la función con una pregunta complicada que provoque una halucinación\n",
    "\n",
    "pregunta_dificil = \"Cuál es el máximo de las alicuotas de actividades económicas y de impuesto al trabajo?\"\n",
    "pd_resultado = query_vector_database(pregunta_dificil)\n",
    "pd_prompt = prompt_template(pregunta_dificil, pd_resultado)\n",
    "pd_respuesta = execute_llm_prompt(pd_prompt)\n",
    "print(pd_respuesta)"
   ],
   "id": "d25ef0c2cc94af0d"
  },
  {
   "metadata": {},
   "cell_type": "code",
   "outputs": [],
   "execution_count": null,
   "source": [
    "# Implementemos el chatbot\n",
    "\n",
    "def chatbot(question):\n",
    "    results_text = query_vector_database(question)\n",
    "    prompt_input = prompt_template(question, results_text)\n",
    "    prompt_output = execute_llm_prompt(prompt_input)\n",
    "    return prompt_output"
   ],
   "id": "719a8b8e35ad8b6e"
  },
  {
   "metadata": {},
   "cell_type": "code",
   "outputs": [],
   "execution_count": null,
   "source": [
    "# Probemos el chatbot\n",
    "\n",
    "result = chatbot(\"Cuál es el máximo de las alicuotas de actividades económicas en el aforo de zapaterías?\")\n",
    "print(result)"
   ],
   "id": "e5ac67f388fcb379"
  }
 ],
 "metadata": {
  "kernelspec": {
   "display_name": "Python 3",
   "language": "python",
   "name": "python3"
  },
  "language_info": {
   "codemirror_mode": {
    "name": "ipython",
    "version": 2
   },
   "file_extension": ".py",
   "mimetype": "text/x-python",
   "name": "python",
   "nbconvert_exporter": "python",
   "pygments_lexer": "ipython2",
   "version": "2.7.6"
  }
 },
 "nbformat": 4,
 "nbformat_minor": 5
}

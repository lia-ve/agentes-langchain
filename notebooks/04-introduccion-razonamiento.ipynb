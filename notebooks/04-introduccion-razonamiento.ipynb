{
 "cells": [
  {
   "metadata": {},
   "cell_type": "markdown",
   "source": "# Introducción al Razonamiento en LLMs\n",
   "id": "543f6171cac290f7"
  },
  {
   "metadata": {},
   "cell_type": "markdown",
   "source": [
    "## Instalación de paquetes\n",
    "Si estás corriendo este notebook en Google Colab, corre la siguiente celda para instalar los paquetes necesarios."
   ],
   "id": "79e03d9e5f3b78e5"
  },
  {
   "cell_type": "code",
   "id": "initial_id",
   "metadata": {
    "collapsed": true,
    "ExecuteTime": {
     "end_time": "2024-10-18T22:31:49.505459Z",
     "start_time": "2024-10-18T22:31:49.501398Z"
    }
   },
   "source": "# %pip install langchain langchain_community langchain_openai",
   "outputs": [],
   "execution_count": 1
  },
  {
   "metadata": {
    "ExecuteTime": {
     "end_time": "2024-10-18T22:31:54.350031Z",
     "start_time": "2024-10-18T22:31:54.337862Z"
    }
   },
   "cell_type": "code",
   "source": [
    "# Corre esta celda solo si tienes un archivo .env configurado\n",
    "from dotenv import load_dotenv\n",
    "load_dotenv()"
   ],
   "id": "1d72489c5379816",
   "outputs": [
    {
     "data": {
      "text/plain": [
       "True"
      ]
     },
     "execution_count": 2,
     "metadata": {},
     "output_type": "execute_result"
    }
   ],
   "execution_count": 2
  },
  {
   "metadata": {
    "ExecuteTime": {
     "end_time": "2024-10-18T22:38:40.130493Z",
     "start_time": "2024-10-18T22:38:38.047842Z"
    }
   },
   "cell_type": "code",
   "source": [
    "import os\n",
    "from langchain_openai import ChatOpenAI \n",
    "from langchain_core.messages import HumanMessage, SystemMessage\n",
    "\n",
    "llm = ChatOpenAI(\n",
    "    model=os.getenv(\"MODEL\"),\n",
    "    openai_api_key=os.getenv(\"LIA_API_KEY\"),\n",
    "    openai_api_base=os.getenv(\"LIA_API_BASE\"),\n",
    "    max_tokens=2000,\n",
    "    temperature=0.6,\n",
    ")"
   ],
   "id": "b4c4fcec1ad0e2a",
   "outputs": [],
   "execution_count": 3
  },
  {
   "metadata": {},
   "cell_type": "markdown",
   "source": "## Un primer ejemplo",
   "id": "2d2c1d2b1886d769"
  },
  {
   "metadata": {
    "ExecuteTime": {
     "end_time": "2024-10-18T22:39:40.995152Z",
     "start_time": "2024-10-18T22:39:40.534176Z"
    }
   },
   "cell_type": "code",
   "source": [
    "# Palindromos\n",
    "\n",
    "messages = [\n",
    "    SystemMessage(\n",
    "        content=\"Suma los palíndromos en la siguiente secuencia. No escribas el razonamiento, solo el resultado.\"\n",
    "    ),\n",
    "    HumanMessage(\n",
    "        content=\"13, 1331, 121, 73, 99, 56, 232, 7\"\n",
    "    ),\n",
    "]\n",
    "\n",
    "llm.invoke(messages).content"
   ],
   "id": "147b6419325a430",
   "outputs": [
    {
     "data": {
      "text/plain": [
       "'1829'"
      ]
     },
     "execution_count": 5,
     "metadata": {},
     "output_type": "execute_result"
    }
   ],
   "execution_count": 5
  },
  {
   "metadata": {},
   "cell_type": "markdown",
   "source": "### One-shot learning (aprendizaje de una sola muestra)",
   "id": "9b4e42f1e273e33b"
  },
  {
   "metadata": {
    "ExecuteTime": {
     "end_time": "2024-10-18T22:45:07.894912Z",
     "start_time": "2024-10-18T22:45:07.279496Z"
    }
   },
   "cell_type": "code",
   "source": [
    "messages = [\n",
    "    SystemMessage(\n",
    "        content=\"Suma los palíndromos en la siguiente secuencia. Ejemplo: 33 es un palíndromo. No escribas el razonamiento, solo el resultado.\"\n",
    "    ),\n",
    "    HumanMessage(\n",
    "        content=\"13, 1331, 121, 73, 99, 56, 232, 7\"\n",
    "    ),\n",
    "]\n",
    "\n",
    "llm.invoke(messages).content"
   ],
   "id": "d17a551706dc5920",
   "outputs": [
    {
     "data": {
      "text/plain": [
       "'1823'"
      ]
     },
     "execution_count": 7,
     "metadata": {},
     "output_type": "execute_result"
    }
   ],
   "execution_count": 7
  },
  {
   "metadata": {},
   "cell_type": "markdown",
   "source": "Se dice two-shot learning cuando se necesita de dos ejemplos para aprender una tarea. En el caso anterior, se necesitó de un ejemplo para entender qué es un palíndromo y otro para entender cómo sumarlos. Three-shot learning sería cuando se necesita de tres ejemplos, y así sucesivamente.",
   "id": "a4a78ba4ff92a47d"
  },
  {
   "metadata": {},
   "cell_type": "markdown",
   "source": "### Few-shot training (entrenamiento con pocas muestras)",
   "id": "89689161d94ea16d"
  },
  {
   "metadata": {
    "ExecuteTime": {
     "end_time": "2024-10-18T22:56:36.409271Z",
     "start_time": "2024-10-18T22:56:32.675202Z"
    }
   },
   "cell_type": "code",
   "source": [
    "# Hagamos una prueba sin few-shot training\n",
    "\n",
    "messages = [\n",
    "    SystemMessage(\n",
    "        content=\"Eres un experto en clasificar números como Abra, Kadabra o Abra Kadabra. El usuario te dará un número y tú debes clasificarlo.\"\n",
    "    ),\n",
    "    HumanMessage(\n",
    "        content=\"3, 5, 8, 2, 7, 12, 13, 35\"\n",
    "    ),\n",
    "]\n",
    "\n",
    "llm.invoke(messages).content"
   ],
   "id": "ed1601d4263a9475",
   "outputs": [
    {
     "data": {
      "text/plain": [
       "'Para clasificar los números como Abra, Kadabra o Abra Kadabra, necesito aplicar las reglas específicas de clasificación. Sin embargo, como no se han proporcionado estas reglas, asumiré que hay alguna lógica subyacente que debo seguir. \\n\\nA continuación, clasificaré los números según una lógica de ejemplo:\\n\\n- **Abra**: Números primos.\\n- **Kadabra**: Números pares.\\n- **Abra Kadabra**: Números que son múltiplos de 5.\\n\\nAhora, clasificaré la lista dada:\\n\\n1. **3**: Abra (primo)\\n2. **5**: Abra (primo) y Abra Kadabra (múltiplo de 5)\\n3. **8**: Kadabra (par)\\n4. **2**: Abra (primo) y Kadabra (par)\\n5. **7**: Abra (primo)\\n6. **12**: Kadabra (par)\\n7. **13**: Abra (primo)\\n8. **35**: Abra Kadabra (múltiplo de 5)\\n\\nPor favor, proporciona las reglas específicas si esta clasificación no se ajusta a tus expectativas.'"
      ]
     },
     "execution_count": 11,
     "metadata": {},
     "output_type": "execute_result"
    }
   ],
   "execution_count": 11
  },
  {
   "metadata": {
    "ExecuteTime": {
     "end_time": "2024-10-18T22:56:39.024342Z",
     "start_time": "2024-10-18T22:56:37.442186Z"
    }
   },
   "cell_type": "code",
   "source": [
    "# Ahora con few-shot training\n",
    "\n",
    "messages = [\n",
    "    SystemMessage(\n",
    "        content=\"Eres un experto en clasificar números como Abra, Kadabra o Abra Kadabra. El usuario te dará un número y tú debes clasificarlo según estas reglas: si es divisible por 5 es 'Abra', si es divisible por 7 es 'Kadabra', y si es divisible por ambos es 'Abra Kadabra'. Si no es divisible por ninguno, entonces no se clasifica.\"\n",
    "    ),\n",
    "    HumanMessage(\n",
    "        content=\"3, 5, 8, 2, 7, 12, 13, 35\"\n",
    "    ),\n",
    "] \n",
    "\n",
    "llm.invoke(messages).content"
   ],
   "id": "18055287613d72ac",
   "outputs": [
    {
     "data": {
      "text/plain": [
       "'Aquí está la clasificación de los números proporcionados:\\n\\n- 3: No se clasifica\\n- 5: Abra (divisible por 5)\\n- 8: No se clasifica\\n- 2: No se clasifica\\n- 7: Kadabra (divisible por 7)\\n- 12: No se clasifica\\n- 13: No se clasifica\\n- 35: Abra Kadabra (divisible por 5 y 7)'"
      ]
     },
     "execution_count": 12,
     "metadata": {},
     "output_type": "execute_result"
    }
   ],
   "execution_count": 12
  },
  {
   "metadata": {},
   "cell_type": "markdown",
   "source": "### Few-shot con Langchain",
   "id": "142c1a33f78eaa99"
  },
  {
   "metadata": {
    "ExecuteTime": {
     "end_time": "2024-10-18T23:31:23.195229Z",
     "start_time": "2024-10-18T23:31:19.395590Z"
    }
   },
   "cell_type": "code",
   "source": [
    "from langchain_core.prompts.few_shot import FewShotPromptTemplate\n",
    "from langchain_core.prompts.prompt import PromptTemplate\n",
    "\n",
    "# Ejemplos de clasificación\n",
    "examples = [\n",
    "  {\n",
    "      \"number\": 6,\n",
    "      \"reasoning\": \"no divisible por 5 ni por 7\",\n",
    "      \"result\": \"Ninguno\"\n",
    "  },\n",
    "  {\n",
    "      \"number\": 15,\n",
    "      \"reasoning\": \"divisible por 5 pero no por 7\",\n",
    "      \"result\": \"Abra\"\n",
    "  },\n",
    "  {\n",
    "      \"number\": 12,\n",
    "      \"reasoning\": \"no divisible por 5 ni por 7\",\n",
    "      \"result\": \"Ninguno\"\n",
    "  },\n",
    "  {\n",
    "      \"number\": 21,\n",
    "      \"reasoning\": \"divisible por 7 pero no por 5\",\n",
    "      \"result\": \"Kadabra\"\n",
    "  },\n",
    "  {\n",
    "      \"number\": 70,\n",
    "      \"reasoning\": \"divisible por 5 y por 7\",\n",
    "      \"result\": \"Abra Kadabra\"\n",
    "  } \n",
    "]\n",
    "\n",
    "# Plantilla para los ejemplos\n",
    "example_prompt = PromptTemplate(input_variables=[\"number\", \"reasoning\", \"result\"], template=\"{number} \\\\ {reasoning} \\\\ {result}\")\n",
    "\n",
    "few_shot_prompt = FewShotPromptTemplate(\n",
    "    examples=examples,\n",
    "    example_prompt=example_prompt,\n",
    "    suffix=\"Clasifica los siguientes números como Abra, Kadabra o Abra Kadabra: {comma_delimited_input_numbers}\",\n",
    "    input_variables=[\"comma_delimited_input_numbers\"]\n",
    ")\n",
    "\n",
    "# Números para clasificar\n",
    "prompt_input = few_shot_prompt.format(comma_delimited_input_numbers=\"3, 4, 5, 7, 8, 10, 11, 13, 35.\")\n",
    "\n",
    "# Invocar el modelo\n",
    "response = llm.invoke(prompt_input)\n",
    "print(response.content)\n"
   ],
   "id": "b543a037da72ddca",
   "outputs": [
    {
     "name": "stdout",
     "output_type": "stream",
     "text": [
      "Para clasificar los números, seguimos las reglas establecidas:\n",
      "\n",
      "- \"Abra\" si el número es divisible por 5 pero no por 7.\n",
      "- \"Kadabra\" si el número es divisible por 7 pero no por 5.\n",
      "- \"Abra Kadabra\" si el número es divisible tanto por 5 como por 7.\n",
      "- \"Ninguno\" si el número no es divisible ni por 5 ni por 7.\n",
      "\n",
      "Ahora, clasifiquemos los números:\n",
      "\n",
      "- 3: No divisible por 5 ni por 7 \\(\\to\\) Ninguno\n",
      "- 4: No divisible por 5 ni por 7 \\(\\to\\) Ninguno\n",
      "- 5: Divisible por 5 pero no por 7 \\(\\to\\) Abra\n",
      "- 7: Divisible por 7 pero no por 5 \\(\\to\\) Kadabra\n",
      "- 8: No divisible por 5 ni por 7 \\(\\to\\) Ninguno\n",
      "- 10: Divisible por 5 pero no por 7 \\(\\to\\) Abra\n",
      "- 11: No divisible por 5 ni por 7 \\(\\to\\) Ninguno\n",
      "- 13: No divisible por 5 ni por 7 \\(\\to\\) Ninguno\n",
      "- 35: Divisible por 5 y por 7 \\(\\to\\) Abra Kadabra\n",
      "\n",
      "Por lo tanto, las clasificaciones son:\n",
      "\n",
      "- 3: Ninguno\n",
      "- 4: Ninguno\n",
      "- 5: Abra\n",
      "- 7: Kadabra\n",
      "- 8: Ninguno\n",
      "- 10: Abra\n",
      "- 11: Ninguno\n",
      "- 13: Ninguno\n",
      "- 35: Abra Kadabra\n"
     ]
    }
   ],
   "execution_count": 13
  },
  {
   "metadata": {},
   "cell_type": "markdown",
   "source": "### Cadena de pensamiento - Chain of Thought (CoT)",
   "id": "6913066d4e49c820"
  },
  {
   "metadata": {},
   "cell_type": "markdown",
   "source": [
    "Ahora retomemos el ejemplo de los palíndromos.\n",
    "\n",
    "Vamos a crear un prompt utilizando la técnica del **Chain of Thought**, como fue introducida por Wei et al (https://arxiv.org/abs/2201.11903). Este prompt incluirá:\n",
    "\n",
    "- Varias secuencias de ejemplo para el entrenamiento few-shot\n",
    "- Una explicación de los pasos lógicos necesarios para determinar si una secuencia es \"Extraña\" (proporcionando los pasos)"
   ],
   "id": "9e03abbb7f421d98"
  },
  {
   "metadata": {
    "ExecuteTime": {
     "end_time": "2024-10-18T23:54:47.823577Z",
     "start_time": "2024-10-18T23:54:45.452084Z"
    }
   },
   "cell_type": "code",
   "source": [
    "# Identificación y suma de palíndromos con CoT (Chain of Thought)\n",
    "\n",
    "messages = [\n",
    "    SystemMessage(\n",
    "        content=\"\"\"Eres un experto en sumar palíndromos. Utilizarás el siguiente enfoque paso a paso para identificar y sumar los palíndromos de una secuencia. Ejemplos:\n",
    "\n",
    "Ejemplo 1:\n",
    "33 es un palíndromo\n",
    "44 es un palíndromo\n",
    "\n",
    "Pasos para resolver:\n",
    "1) Identificar los palíndromos\n",
    "2) Sumarlos\n",
    "\n",
    "Ejemplo resuelto:\n",
    "\n",
    "Secuencia: 1331, 121, 99, 232, 7\n",
    "Paso 1: Identificar los palíndromos en la secuencia.\n",
    "Palíndromos identificados: 1331, 121, 99, 232, 7\n",
    "\n",
    "Paso 2: Sumar los palíndromos.\n",
    "Cálculo: 1331 + 121 + 99 + 232 + 7 = 1790\n",
    "\n",
    "Por lo tanto, la suma de los palíndromos es 1790.\n",
    "\n",
    "Ahora aplica el mismo enfoque para la siguiente secuencia: 13, 1331, 121, 73, 99, 56, 232, 7.\"\"\"\n",
    "    ),\n",
    "    HumanMessage(\n",
    "        content=\"\"\"Suma los palíndromos en la siguiente secuencia: 24, 1331, 121, 89, 55, 32, 767, 2.\"\"\"\n",
    "    ),\n",
    "]\n",
    "\n",
    "response = llm.invoke(messages).content\n",
    "print(response)\n"
   ],
   "id": "ad0c937832e017b8",
   "outputs": [
    {
     "name": "stdout",
     "output_type": "stream",
     "text": [
      "Para sumar los palíndromos en la secuencia dada, seguiré el enfoque paso a paso:\n",
      "\n",
      "Secuencia: 24, 1331, 121, 89, 55, 32, 767, 2\n",
      "\n",
      "Paso 1: Identificar los palíndromos en la secuencia.\n",
      "Palíndromos identificados: 1331, 121, 55, 767, 2\n",
      "\n",
      "Paso 2: Sumar los palíndromos.\n",
      "Cálculo: 1331 + 121 + 55 + 767 + 2 = 2276\n",
      "\n",
      "Por lo tanto, la suma de los palíndromos es 2276.\n"
     ]
    }
   ],
   "execution_count": 16
  },
  {
   "metadata": {},
   "cell_type": "markdown",
   "source": "### Buenas prácticas para la ingeniería de prompts",
   "id": "f99748c249f3dd00"
  },
  {
   "metadata": {},
   "cell_type": "markdown",
   "source": [
    "Con lo aprendido anteriormente, podemos combinar todos los elementos del prompt de las secciones previas para obtener la siguiente estructura general:\n",
    "\n",
    "**Persona**: Especifica el rol que deseas que el modelo de lenguaje (LLM) asuma. Ya sea un gerente de marketing experimentado, un autor galardonado de ciencia ficción o un editor de texto competente para una revista de informática, establece expectativas altas.\n",
    "\n",
    "**Contexto**: Proporciona información detallada para ayudar al LLM a comprender el contexto de tu solicitud. La precisión aumenta la probabilidad de que el resultado se alinee con tus expectativas.\n",
    "\n",
    "**Instrucción**: Define claramente la acción que deseas que el LLM realice con tu texto de entrada. Ya sea traducir, escribir, reescribir, mejorar, clasificar, ordenar o encontrar, sé explícito.\n",
    "\n",
    "**Entrada**: Se refiere a detalles específicos del contexto, que pueden ser un párrafo, una consulta o una lista de puntos clave. Puedes etiquetarlo como \"Texto\", \"Pregunta\", etc.\n",
    "\n",
    "**Pasos**: Describe los pasos de procesamiento que el LLM debe seguir para generar la salida.\n",
    "\n",
    "**Tono**: Especifica el tono deseado en la respuesta del LLM—formal, informal, ingenioso, entusiasta, sobrio, amigable, etc. Las combinaciones son posibles.\n",
    "\n",
    "**Formato de salida**: Opcionalmente, indica el formato de salida deseado. Si no se especifica, el LLM asumirá una respuesta en texto. Sin embargo, puedes solicitar formatos como una tabla, archivo CSV (con nombres de columnas), JSON (con nombres de atributos) u otros formatos estructurados.\n",
    "\n",
    "**Ejemplos**: En casos donde el LLM pueda carecer de suficiente entrenamiento para ciertas tareas, especialmente en clasificación de texto y razonamiento, proporciona entrenamiento en línea a través de ejemplos. Incluso unos pocos ejemplos mejoran significativamente la calidad de la respuesta."
   ],
   "id": "8ac0abdbd6e182fb"
  },
  {
   "metadata": {
    "ExecuteTime": {
     "end_time": "2024-10-18T23:57:46.401174Z",
     "start_time": "2024-10-18T23:57:46.397304Z"
    }
   },
   "cell_type": "code",
   "source": "",
   "id": "c03ded32cb61796c",
   "outputs": [],
   "execution_count": null
  },
  {
   "metadata": {},
   "cell_type": "code",
   "outputs": [],
   "execution_count": null,
   "source": "",
   "id": "f6758eef399eed96"
  }
 ],
 "metadata": {
  "kernelspec": {
   "display_name": "Python 3",
   "language": "python",
   "name": "python3"
  },
  "language_info": {
   "codemirror_mode": {
    "name": "ipython",
    "version": 2
   },
   "file_extension": ".py",
   "mimetype": "text/x-python",
   "name": "python",
   "nbconvert_exporter": "python",
   "pygments_lexer": "ipython2",
   "version": "2.7.6"
  }
 },
 "nbformat": 4,
 "nbformat_minor": 5
}

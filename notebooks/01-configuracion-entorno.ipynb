{
 "cells": [
  {
   "metadata": {},
   "cell_type": "markdown",
   "source": "# Configuración del entorno",
   "id": "c5fb3c9c644a40b"
  },
  {
   "metadata": {},
   "cell_type": "markdown",
   "source": [
    "## Instalación de paquetes\n",
    "Si estás corriendo este notebook en Google Colab, corre la siguiente celda para instalar los paquetes necesarios."
   ],
   "id": "bd3b0fef99e3dc8c"
  },
  {
   "metadata": {},
   "cell_type": "code",
   "outputs": [],
   "execution_count": null,
   "source": "# %pip install langchain langchain_community langchain_openai",
   "id": "91529d35096a448e"
  },
  {
   "metadata": {},
   "cell_type": "code",
   "outputs": [],
   "execution_count": null,
   "source": [
    "from langchain_core.messages import HumanMessage, SystemMessage\n",
    "from langchain_core.prompts.chat import (\n",
    "    ChatPromptTemplate,\n",
    "    HumanMessagePromptTemplate,\n",
    "    SystemMessagePromptTemplate,\n",
    ")\n",
    "from langchain_openai import ChatOpenAI "
   ],
   "id": "db9ba69210bf230a"
  },
  {
   "metadata": {},
   "cell_type": "markdown",
   "source": [
    "Vamos a utilizar el formato de API de \"chat completions\", que si bien lo creó OpenAI se ha popularizado en la comunidad de desarrollo.\n",
    "\n",
    "Aquí debes definir 3 variables:\n",
    "- `model`: el modelo que quieres utilizar\n",
    "- `openai_api_key`: tu clave de API del LIA\n",
    "- `openai_api_base`: la URL del servidor de inferencia del LIA\n",
    "\n",
    "Tanto `openai_api_key` como `openai_api_base` debes solicitarlas al personal del Centro de Formación del LIA, en este notebook no se mostrarán por motivos de seguridad."
   ],
   "id": "3a2bff8465eb3cc5"
  },
  {
   "metadata": {},
   "cell_type": "code",
   "outputs": [],
   "execution_count": null,
   "source": [
    "llm = ChatOpenAI(\n",
    "    model=\"NousResearch/Hermes-3-Llama-3.1-70B\",\n",
    "    openai_api_key=\"tu_api_key_del_lia_aqui\",\n",
    "    openai_api_base=\"https://api.dominio-servidor.com/v1\",\n",
    "    max_tokens=1000, # Máximo de tokens a generar\n",
    "    temperature=0.6, # Temperatura de muestreo, 0.0 es más determinístico, 1.0 es más aleatorio\n",
    ")"
   ],
   "id": "610a8705f2be0676"
  },
  {
   "metadata": {},
   "cell_type": "code",
   "outputs": [],
   "execution_count": null,
   "source": [
    "messages = [\n",
    "    SystemMessage(\n",
    "        content=\"Eres un asistente virtual respetuoso y amigable\"\n",
    "    ),\n",
    "    HumanMessage(\n",
    "        content=\"Cuál es la capital de Venezuela?\"\n",
    "    ),\n",
    "]\n",
    "llm.invoke(messages)"
   ],
   "id": "9e1c46d9b13458dc"
  }
 ],
 "metadata": {
  "kernelspec": {
   "display_name": "Python 3",
   "language": "python",
   "name": "python3"
  },
  "language_info": {
   "codemirror_mode": {
    "name": "ipython",
    "version": 2
   },
   "file_extension": ".py",
   "mimetype": "text/x-python",
   "name": "python",
   "nbconvert_exporter": "python",
   "pygments_lexer": "ipython2",
   "version": "2.7.6"
  }
 },
 "nbformat": 4,
 "nbformat_minor": 5
}

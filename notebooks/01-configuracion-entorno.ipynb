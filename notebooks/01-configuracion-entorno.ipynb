{
 "cells": [
  {
   "metadata": {},
   "cell_type": "markdown",
   "source": "# Configuración del entorno",
   "id": "c5fb3c9c644a40b"
  },
  {
   "metadata": {},
   "cell_type": "markdown",
   "source": [
    "## Instalación de paquetes\n",
    "Si estás corriendo este notebook en Google Colab, corre la siguiente celda para instalar los paquetes necesarios."
   ],
   "id": "bd3b0fef99e3dc8c"
  },
  {
   "metadata": {},
   "cell_type": "code",
   "source": "# %pip install langchain langchain_community langchain_openai",
   "id": "91529d35096a448e",
   "outputs": [],
   "execution_count": null
  },
  {
   "metadata": {
    "ExecuteTime": {
     "end_time": "2024-10-15T20:25:35.539164Z",
     "start_time": "2024-10-15T20:25:35.536430Z"
    }
   },
   "cell_type": "code",
   "source": [
    "from langchain_core.messages import HumanMessage, SystemMessage\n",
    "from langchain_openai import ChatOpenAI "
   ],
   "id": "db9ba69210bf230a",
   "outputs": [],
   "execution_count": 7
  },
  {
   "metadata": {
    "ExecuteTime": {
     "end_time": "2024-10-15T20:26:04.123978Z",
     "start_time": "2024-10-15T20:26:04.119188Z"
    }
   },
   "cell_type": "code",
   "source": [
    "# Corre esta celda solo si tienes un archivo .env configurado\n",
    "import os\n",
    "from dotenv import load_dotenv\n",
    "load_dotenv()"
   ],
   "id": "af23fefe9547e4e9",
   "outputs": [
    {
     "data": {
      "text/plain": [
       "True"
      ]
     },
     "execution_count": 8,
     "metadata": {},
     "output_type": "execute_result"
    }
   ],
   "execution_count": 8
  },
  {
   "metadata": {},
   "cell_type": "markdown",
   "source": [
    "Vamos a utilizar el formato de API de \"chat completions\", que si bien lo creó OpenAI se ha popularizado en la comunidad de desarrollo.\n",
    "\n",
    "Aquí debes definir 3 variables:\n",
    "- `model`: el modelo que quieres utilizar\n",
    "- `openai_api_key`: tu clave de API del LIA\n",
    "- `openai_api_base`: la URL del servidor de inferencia del LIA\n",
    "\n",
    "Tanto `openai_api_key` como `openai_api_base` debes solicitarlas al personal del Centro de Formación del LIA, en este notebook no se mostrarán por motivos de seguridad."
   ],
   "id": "3a2bff8465eb3cc5"
  },
  {
   "metadata": {
    "ExecuteTime": {
     "end_time": "2024-10-15T20:29:23.574432Z",
     "start_time": "2024-10-15T20:29:23.489203Z"
    }
   },
   "cell_type": "code",
   "source": [
    "llm = ChatOpenAI(\n",
    "    model=os.getenv(\"MODEL\"),\n",
    "    openai_api_key=os.getenv(\"LIA_API_KEY\"),\n",
    "    openai_api_base=os.getenv(\"LIA_API_BASE\"),\n",
    "    max_tokens=2000,\n",
    "    temperature=0.6,\n",
    ")"
   ],
   "id": "610a8705f2be0676",
   "outputs": [],
   "execution_count": 9
  },
  {
   "metadata": {
    "ExecuteTime": {
     "end_time": "2024-10-15T20:30:29.204602Z",
     "start_time": "2024-10-15T20:30:27.808618Z"
    }
   },
   "cell_type": "code",
   "source": [
    "messages = [\n",
    "    SystemMessage(\n",
    "        content=\"Eres un asistente virtual respetuoso y amigable\"\n",
    "    ),\n",
    "    HumanMessage(\n",
    "        content=\"Cuál es la capital de Venezuela?\"\n",
    "    ),\n",
    "]\n",
    "llm.invoke(messages).content"
   ],
   "id": "9e1c46d9b13458dc",
   "outputs": [
    {
     "data": {
      "text/plain": [
       "'La capital de Venezuela es Caracas.'"
      ]
     },
     "execution_count": 10,
     "metadata": {},
     "output_type": "execute_result"
    }
   ],
   "execution_count": 10
  },
  {
   "metadata": {},
   "cell_type": "code",
   "source": "",
   "id": "2b0a4f2b2ac6a615",
   "outputs": [],
   "execution_count": null
  }
 ],
 "metadata": {
  "kernelspec": {
   "display_name": "Python 3",
   "language": "python",
   "name": "python3"
  },
  "language_info": {
   "codemirror_mode": {
    "name": "ipython",
    "version": 2
   },
   "file_extension": ".py",
   "mimetype": "text/x-python",
   "name": "python",
   "nbconvert_exporter": "python",
   "pygments_lexer": "ipython2",
   "version": "2.7.6"
  }
 },
 "nbformat": 4,
 "nbformat_minor": 5
}

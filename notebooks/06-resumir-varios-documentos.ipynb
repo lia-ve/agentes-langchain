{
 "cells": [
  {
   "metadata": {},
   "cell_type": "markdown",
   "source": "# Resumir varios documentos",
   "id": "b1c002f8f6415280"
  },
  {
   "metadata": {},
   "cell_type": "markdown",
   "source": [
    "## Instalación de paquetes\n",
    "Si estás corriendo este notebook en Google Colab, corre la siguiente celda para instalar los paquetes necesarios."
   ],
   "id": "68a95f6410e1cee8"
  },
  {
   "cell_type": "code",
   "id": "initial_id",
   "metadata": {
    "collapsed": true,
    "ExecuteTime": {
     "end_time": "2024-10-20T16:43:46.456356Z",
     "start_time": "2024-10-20T16:43:46.451444Z"
    }
   },
   "source": "# %pip install langchain langchain_community langchain_openai",
   "outputs": [],
   "execution_count": 1
  },
  {
   "metadata": {
    "ExecuteTime": {
     "end_time": "2024-10-26T20:02:52.604632Z",
     "start_time": "2024-10-26T20:02:52.580203Z"
    }
   },
   "cell_type": "code",
   "source": [
    "# Corre esta celda solo si tienes un archivo .env configurado\n",
    "from dotenv import load_dotenv\n",
    "load_dotenv()"
   ],
   "id": "d48a36892b082650",
   "outputs": [
    {
     "data": {
      "text/plain": [
       "True"
      ]
     },
     "execution_count": 1,
     "metadata": {},
     "output_type": "execute_result"
    }
   ],
   "execution_count": 1
  },
  {
   "metadata": {},
   "cell_type": "markdown",
   "source": [
    "Puedes resumir fácilmente información de varias fuentes de datos, como Wikipedia o archivos locales en formatos de Microsoft Word, PDF y texto. Para generar un solo resumen de diversos documentos utilizaremos la técnica ***Refine***, que consiste en construir el resumen final refinándolo gradualmente con cada fragmento del documento, similar al enfoque map-reduce que vimos en el laboratorio pasado.\n",
    " <br /> <br /> <br /> \n",
    "El proceso de Refine se lleva a cabo de la siguiente manera:<br /> <br /> \n",
    "\n",
    "1. Dividir los documentos en fragmentos pequeños (por ejemplo, de 3,000 tokens).<br /> <br /> \n",
    "2. Inicializar un resumen vacío o un borrador inicial del resumen final.<br /> <br /> \n",
    "3. Iterar sobre cada fragmento de documento:<br /> <br /> \n",
    "    1. Enviar el fragmento actual y el resumen existente al modelo de lenguaje (LLM).\n",
    "    2. El LLM genera un nuevo resumen que integra y mejora el anterior, incorporando la información del fragmento actual.\n",
    "    3. Actualizar el resumen final con este nuevo resumen refinado.<br /> <br /> \n",
    "4. Repetir el paso 3 hasta procesar todos los fragmentos.<br /> <br /> \n",
    "5. Obtener un resumen final que captura la información esencial de todos los documentos."
   ],
   "id": "88a77dc827b68898"
  },
  {
   "metadata": {},
   "cell_type": "markdown",
   "source": "## Carga de documentos",
   "id": "7b45dd9205dfa8e7"
  },
  {
   "metadata": {
    "ExecuteTime": {
     "end_time": "2024-10-20T17:09:53.611429Z",
     "start_time": "2024-10-20T17:09:53.594542Z"
    }
   },
   "cell_type": "code",
   "source": [
    "# Instala los paquetes necesarios para los Loaders\n",
    "# %pip install wikipedia docx2txt pypdf"
   ],
   "id": "1a3dc6c36573ad6",
   "outputs": [],
   "execution_count": 3
  },
  {
   "metadata": {
    "ExecuteTime": {
     "end_time": "2024-10-26T23:27:51.688655Z",
     "start_time": "2024-10-26T23:27:48.829232Z"
    }
   },
   "cell_type": "code",
   "source": [
    "from langchain.document_loaders import WikipediaLoader\n",
    " \n",
    "wikipedia_loader = WikipediaLoader(query=\"Pueblo Añú\", load_max_docs=2)\n",
    "wikipedia_docs = wikipedia_loader.load()"
   ],
   "id": "8588e4a2a287a644",
   "outputs": [],
   "execution_count": 26
  },
  {
   "metadata": {
    "ExecuteTime": {
     "end_time": "2024-10-26T23:27:52.463841Z",
     "start_time": "2024-10-26T23:27:52.421583Z"
    }
   },
   "cell_type": "code",
   "source": [
    "from langchain.document_loaders import Docx2txtLoader\n",
    "from langchain.document_loaders import PyPDFLoader\n",
    "from langchain.document_loaders import TextLoader\n",
    "from langchain_core.output_parsers import StrOutputParser\n",
    " \n",
    "word_loader = Docx2txtLoader(\"../datasets/anu/pueblo_anu.docx\")\n",
    "word_docs = word_loader.load()\n",
    " \n",
    "pdf_loader = PyPDFLoader(\"../datasets/anu/pautas-crianza-pueblo-anu-venezuela_reducido.pdf\")\n",
    "pdf_docs = pdf_loader.load()\n",
    " \n",
    "txt_loader = TextLoader(\"../datasets/anu/pueblo_anu.txt\")\n",
    "txt_docs = txt_loader.load()"
   ],
   "id": "e6a83778c79f3812",
   "outputs": [],
   "execution_count": 27
  },
  {
   "metadata": {
    "ExecuteTime": {
     "end_time": "2024-10-26T23:27:53.181779Z",
     "start_time": "2024-10-26T23:27:53.175123Z"
    }
   },
   "cell_type": "code",
   "source": "len(wikipedia_docs), len(word_docs), len(pdf_docs), len(txt_docs)",
   "id": "926c9dd1168bda3e",
   "outputs": [
    {
     "data": {
      "text/plain": [
       "(2, 1, 5, 1)"
      ]
     },
     "execution_count": 28,
     "metadata": {},
     "output_type": "execute_result"
    }
   ],
   "execution_count": 28
  },
  {
   "metadata": {},
   "cell_type": "markdown",
   "source": [
    "El framework de LangChain ofrece numerosos Loaders (cargadores) para recuperar contenido de diversas fuentes de datos. Te animo a explorar la lista y a experimentar con otros Loaders:\n",
    "\n",
    "https://python.langchain.com/docs/integrations/document_loaders"
   ],
   "id": "b6da55ae62850aea"
  },
  {
   "metadata": {
    "ExecuteTime": {
     "end_time": "2024-10-26T23:27:54.069697Z",
     "start_time": "2024-10-26T23:27:54.065661Z"
    }
   },
   "cell_type": "code",
   "source": [
    "# Ahora con los documentos cargados, podemos consolidarla en una sola\n",
    "all_docs = wikipedia_docs + word_docs + pdf_docs + txt_docs"
   ],
   "id": "e5a16d0d239be1c5",
   "outputs": [],
   "execution_count": 29
  },
  {
   "metadata": {},
   "cell_type": "markdown",
   "source": "## Implementación de Refine",
   "id": "b7d48e7a5682cc6e"
  },
  {
   "metadata": {
    "ExecuteTime": {
     "end_time": "2024-10-26T23:27:54.905598Z",
     "start_time": "2024-10-26T23:27:54.901890Z"
    }
   },
   "cell_type": "code",
   "source": [
    "import os\n",
    "from langchain_openai import ChatOpenAI\n",
    "from langchain_core.prompts import PromptTemplate"
   ],
   "id": "e10e253a5f638102",
   "outputs": [],
   "execution_count": 30
  },
  {
   "metadata": {
    "ExecuteTime": {
     "end_time": "2024-10-26T23:27:55.256601Z",
     "start_time": "2024-10-26T23:27:55.168595Z"
    }
   },
   "cell_type": "code",
   "source": [
    "llm = ChatOpenAI(\n",
    "    model=os.getenv(\"MODEL\"),\n",
    "    openai_api_key=os.getenv(\"LIA_API_KEY\"),\n",
    "    openai_api_base=os.getenv(\"LIA_API_BASE\"),\n",
    "    temperature=0.6,\n",
    ")"
   ],
   "id": "6f87145264c107f3",
   "outputs": [],
   "execution_count": 31
  },
  {
   "metadata": {
    "ExecuteTime": {
     "end_time": "2024-10-26T23:27:55.537640Z",
     "start_time": "2024-10-26T23:27:55.534080Z"
    }
   },
   "cell_type": "code",
   "source": [
    "# Ahora, define la cadena, con el prompt correspondiente, para resumir documentos individuales\n",
    "plantilla_resumen_doc = \"\"\"Escribe un resumen conciso del siguiente texto:\n",
    "{texto}\n",
    "RESUMEN DEL TEXTO:\"\"\"\n",
    "prompt_resumen_doc = PromptTemplate.from_template(plantilla_resumen_doc)\n",
    " \n",
    "cadena_resumen_doc = prompt_resumen_doc | llm"
   ],
   "id": "14f3f1e1d879f797",
   "outputs": [],
   "execution_count": 32
  },
  {
   "metadata": {
    "ExecuteTime": {
     "end_time": "2024-10-26T23:27:55.991889Z",
     "start_time": "2024-10-26T23:27:55.987520Z"
    }
   },
   "cell_type": "code",
   "source": [
    "plantilla_resumen_refinado = \"\"\"\n",
    "Debes producir un resumen final a partir del resumen refinado actual \n",
    "que se ha generado hasta ahora y a partir del contenido de un documento adicional.\n",
    "Este es el resumen refinado actual generado hasta ahora: {resumen_refinado_actual}\n",
    "Este es el contenido del documento adicional: {texto}\n",
    "Utiliza solo el contenido del documento adicional si es útil, \n",
    "de lo contrario, devuelve el resumen completo actual tal como está.\"\"\"\n",
    " \n",
    "prompt_resumen_refinado = PromptTemplate.from_template(plantilla_resumen_refinado)\n",
    " \n",
    "cadena_refinado = prompt_resumen_refinado | llm | StrOutputParser()"
   ],
   "id": "b71d8683a96b477f",
   "outputs": [],
   "execution_count": 33
  },
  {
   "metadata": {},
   "cell_type": "markdown",
   "source": "Finalmente, define una función que recorra cada documento, lo resuma usando el `doc_summary_chain`, y refine el resumen general utilizando el `refine_chain`:",
   "id": "23756c67b066f223"
  },
  {
   "metadata": {
    "ExecuteTime": {
     "end_time": "2024-10-26T23:27:56.892169Z",
     "start_time": "2024-10-26T23:27:56.888126Z"
    }
   },
   "cell_type": "code",
   "source": [
    "def refine_summary(docs):\n",
    " \n",
    "    intermediate_steps = []\n",
    "    current_refined_summary = ''\n",
    "    for doc in docs:\n",
    "        intermediate_step = \\\n",
    "           {\"resumen_refinado_actual\": current_refined_summary, \n",
    "            \"texto\": doc.page_content}\n",
    "        intermediate_steps.append(intermediate_step)\n",
    "        \n",
    "        current_refined_summary = cadena_refinado.invoke(intermediate_step)\n",
    "        \n",
    "    return {\"resumen_final\": current_refined_summary,\n",
    "            \"pasos_intermedios\": intermediate_steps}"
   ],
   "id": "84e692c48e6d7590",
   "outputs": [],
   "execution_count": 34
  },
  {
   "metadata": {
    "ExecuteTime": {
     "end_time": "2024-10-26T23:29:06.128253Z",
     "start_time": "2024-10-26T23:27:57.311212Z"
    }
   },
   "cell_type": "code",
   "source": [
    "# Ahora, ejecuta la función para obtener el resumen final\n",
    "resumen_final = refine_summary(all_docs)"
   ],
   "id": "2dc423070ac85d21",
   "outputs": [],
   "execution_count": 35
  },
  {
   "metadata": {
    "ExecuteTime": {
     "end_time": "2024-10-26T23:29:06.812883Z",
     "start_time": "2024-10-26T23:29:06.479715Z"
    }
   },
   "cell_type": "code",
   "source": "resumen_final[\"resumen_final\"]",
   "id": "c96f3a2a02552598",
   "outputs": [
    {
     "data": {
      "text/plain": [
       "'El resumen final, integrando el contenido del documento adicional sobre el pueblo Añú, es el siguiente:\\n\\nLa clasificación de grupos étnicos ha sido objeto de constante debate, donde la pertenencia a un grupo étnico se asocia con la ascendencia compartida, historia, territorio, lengua o dialecto, y patrimonio cultural. Este concepto de cultura abarca aspectos como religión, mitología, rituales, gastronomía y estilo de vestimenta. Los grupos étnicos pueden dividirse en subgrupos y su identificación como grupos independientes puede variar según la fuente consultada.\\n\\nUn ejemplo de grupo étnico es el pueblo Añú, también conocido como Paraujano, una de las cinco comunidades indígenas de Venezuela, específicamente del Estado Zulia. Con una población total que se estima en al menos 15,000 personas, los Añú hablan el idioma añú, perteneciente a la familia arawak. Su designación significa \"Gente de agua\" o \"Gente del mar\", y se les conoce también como Paraujanos, término que deriva de su relación con la costa.\\n\\nLos Añú se distribuyen en varios municipios del Estado Zulia, incluyendo Guajira, Mara, Almirante Padilla y Rosario de Perijá, con una concentración significativa en la Laguna de Sinamaica, donde la cultura añú se mantiene más viva. En esta región, las viviendas tradicionales son palafitos construidos sobre la laguna, lo que refleja su estilo de vida acuático y su conexión con el medio ambiente lacustre, caracterizado por ciénagas y mangles. El transporte entre comunidades se realiza a través de canoas (cayucos).\\n\\nEl universo simbólico añú está fuertemente relacionado con el agua y la Laguna de Sinamaica, de la cual dependen para su bienestar. Las enfermedades son atribuidas a la ruptura de reglas vinculadas a este medio ambiente o al contacto con los muertos, existiendo una distinción entre enfermedades espirituales y físicas. La curación tradicional se realiza mediante la ingestión de yerbas curativas y rituales chamánicos.\\n\\nA pesar de las dificultades y sufrimientos históricos, los Añú han mantenido su identidad cultural y territorial, defendiendo su derecho a una vida digna y en libertad. Aunque han experimentado transformaciones culturales e incorporado elementos de otras culturas, continúan preservando los núcleos profundos de su ser y su cultura, diferenciándose de las poblaciones no indígenas. La transmisión del saber cultural de generación en generación es fundamental para la continuidad de su identidad.\\n\\nLas actividades económicas de los Añú se centran en la pesca, que proporciona la mayor parte de su alimentación, además de la cacería y recolección de frutos silvestres. La pesca se realiza con redes y trampas, y el pescado puede ser comercializado o conservado. También se ha integrado el turismo como una fuente de ingreso, aprovechando la riqueza cultural y natural de la región.\\n\\nEn este contexto, la crianza de los niños y niñas en la comunidad Añú es una labor fundamental que involucra a todos los integrantes de la sociedad. Las pautas de crianza, desarrolladas a lo largo de su historia, son esenciales para mantener su cultura. Un libro reciente recoge estas pautas, basado en entrevistas y observaciones, y busca ser una herramienta educativa para padres y maestros, promoviendo la valoración del saber añú en su idioma y fortaleciendo la identidad cultural.\\n\\nAdemás, las mujeres añú adquieren valor y muestran su fuerza a través de la maternidad, ya que los hijos son considerados generadores de alegría y apoyo en las necesidades cotidianas. El embarazo se busca inmediatamente después del matrimonio, y en caso de retraso, se recurre a la medicina tradicional. La infertilidad es vista negativamente, y las familias sin hijos pueden enfrentar dificultades de aceptación en la comunidad. La crianza de los niños es responsabilidad compartida, y en caso de que una madre fallezca, son los abuelos o hermanos varones quienes asumen el cuidado.\\n\\nLa cultura añú también se refleja en su arquitectura, con viviendas palafíticas que representan un equilibrio con el ecosistema. Sin embargo, la comunidad enfrenta amenazas como la pérdida de su lengua, la contaminación del Lago de Maracaibo y la presión del crecimiento urbano, que afectan su modo de vida y salud.\\n\\nEste resumen sintetiza la información sobre la clasificación y las características de los grupos étnicos contemporáneos, así como la variedad de listas que documentan su existencia en diferentes contextos globales, destacando el caso específico del pueblo Añú en Venezuela, su resistencia cultural, su conexión con el medio ambiente y el papel fundamental de la educación y la maternidad en la transmisión de su identidad.'"
      ]
     },
     "execution_count": 36,
     "metadata": {},
     "output_type": "execute_result"
    }
   ],
   "execution_count": 36
  },
  {
   "metadata": {},
   "cell_type": "code",
   "outputs": [],
   "execution_count": null,
   "source": "",
   "id": "47c57ec91381638"
  }
 ],
 "metadata": {
  "kernelspec": {
   "display_name": "Python 3",
   "language": "python",
   "name": "python3"
  },
  "language_info": {
   "codemirror_mode": {
    "name": "ipython",
    "version": 2
   },
   "file_extension": ".py",
   "mimetype": "text/x-python",
   "name": "python",
   "nbconvert_exporter": "python",
   "pygments_lexer": "ipython2",
   "version": "2.7.6"
  }
 },
 "nbformat": 4,
 "nbformat_minor": 5
}

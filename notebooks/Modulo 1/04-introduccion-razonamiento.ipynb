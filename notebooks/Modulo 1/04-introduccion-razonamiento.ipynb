{
 "cells": [
  {
   "metadata": {},
   "cell_type": "markdown",
   "source": "# Introducción al Razonamiento en LLMs\n",
   "id": "543f6171cac290f7"
  },
  {
   "metadata": {},
   "cell_type": "markdown",
   "source": [
    "## Instalación de paquetes\n",
    "Si estás corriendo este notebook en Google Colab, corre la siguiente celda para instalar los paquetes necesarios."
   ],
   "id": "79e03d9e5f3b78e5"
  },
  {
   "cell_type": "code",
   "id": "initial_id",
   "metadata": {
    "collapsed": true,
    "ExecuteTime": {
     "end_time": "2024-11-25T17:57:04.868105Z",
     "start_time": "2024-11-25T17:57:04.864354Z"
    }
   },
   "source": "# %pip install langchain langchain_community langchain_openai",
   "outputs": [],
   "execution_count": 1
  },
  {
   "metadata": {
    "ExecuteTime": {
     "end_time": "2024-11-25T17:57:04.902059Z",
     "start_time": "2024-11-25T17:57:04.883582Z"
    }
   },
   "cell_type": "code",
   "source": [
    "# Corre esta celda solo si tienes un archivo .env configurado\n",
    "from dotenv import load_dotenv\n",
    "load_dotenv()"
   ],
   "id": "1d72489c5379816",
   "outputs": [
    {
     "data": {
      "text/plain": [
       "True"
      ]
     },
     "execution_count": 2,
     "metadata": {},
     "output_type": "execute_result"
    }
   ],
   "execution_count": 2
  },
  {
   "metadata": {
    "ExecuteTime": {
     "end_time": "2024-11-25T17:57:06.762259Z",
     "start_time": "2024-11-25T17:57:05.121214Z"
    }
   },
   "cell_type": "code",
   "source": [
    "import os\n",
    "from langchain_openai import ChatOpenAI \n",
    "from langchain_core.messages import HumanMessage, SystemMessage\n",
    "\n",
    "llm = ChatOpenAI(\n",
    "    model=os.getenv(\"MODEL\"),\n",
    "    openai_api_key=os.getenv(\"LIA_API_KEY\"),\n",
    "    openai_api_base=os.getenv(\"LIA_API_BASE\"),\n",
    "    max_tokens=2000,\n",
    "    temperature=0.6,\n",
    ")"
   ],
   "id": "b4c4fcec1ad0e2a",
   "outputs": [],
   "execution_count": 3
  },
  {
   "metadata": {},
   "cell_type": "markdown",
   "source": "## Un primer ejemplo",
   "id": "2d2c1d2b1886d769"
  },
  {
   "metadata": {
    "ExecuteTime": {
     "end_time": "2024-11-25T17:57:08.286533Z",
     "start_time": "2024-11-25T17:57:06.775434Z"
    }
   },
   "cell_type": "code",
   "source": [
    "# Palindromos\n",
    "\n",
    "messages = [\n",
    "    SystemMessage(\n",
    "        content=\"Suma los palíndromos en la siguiente secuencia. No escribas el razonamiento, solo el resultado.\"\n",
    "    ),\n",
    "    HumanMessage(\n",
    "        content=\"13, 1331, 121, 73, 99, 56, 232, 7\"\n",
    "    ),\n",
    "]\n",
    "\n",
    "llm.invoke(messages).content"
   ],
   "id": "147b6419325a430",
   "outputs": [
    {
     "data": {
      "text/plain": [
       "'El resultado es 1261.'"
      ]
     },
     "execution_count": 4,
     "metadata": {},
     "output_type": "execute_result"
    }
   ],
   "execution_count": 4
  },
  {
   "metadata": {},
   "cell_type": "markdown",
   "source": "### One-shot learning (aprendizaje de una sola muestra)",
   "id": "9b4e42f1e273e33b"
  },
  {
   "metadata": {
    "ExecuteTime": {
     "end_time": "2024-11-25T17:57:08.706262Z",
     "start_time": "2024-11-25T17:57:08.296698Z"
    }
   },
   "cell_type": "code",
   "source": [
    "messages = [\n",
    "    SystemMessage(\n",
    "        content=\"Suma los palíndromos en la siguiente secuencia. Ejemplo: 33 es un palíndromo. No escribas el razonamiento, solo el resultado.\"\n",
    "    ),\n",
    "    HumanMessage(\n",
    "        content=\"13, 1331, 121, 73, 99, 56, 232, 7\"\n",
    "    ),\n",
    "]\n",
    "\n",
    "llm.invoke(messages).content"
   ],
   "id": "d17a551706dc5920",
   "outputs": [
    {
     "data": {
      "text/plain": [
       "'El resultado es 1261.'"
      ]
     },
     "execution_count": 5,
     "metadata": {},
     "output_type": "execute_result"
    }
   ],
   "execution_count": 5
  },
  {
   "metadata": {},
   "cell_type": "markdown",
   "source": "Se dice two-shot learning cuando se necesita de dos ejemplos para aprender una tarea. En el caso anterior, se necesitó de un ejemplo para entender qué es un palíndromo y otro para entender cómo sumarlos. Three-shot learning sería cuando se necesita de tres ejemplos, y así sucesivamente.",
   "id": "a4a78ba4ff92a47d"
  },
  {
   "metadata": {},
   "cell_type": "markdown",
   "source": "### Few-shot training (entrenamiento con pocas muestras)",
   "id": "89689161d94ea16d"
  },
  {
   "metadata": {
    "ExecuteTime": {
     "end_time": "2024-11-25T17:57:12.365832Z",
     "start_time": "2024-11-25T17:57:08.717857Z"
    }
   },
   "cell_type": "code",
   "source": [
    "# Hagamos una prueba sin few-shot training\n",
    "\n",
    "messages = [\n",
    "    SystemMessage(\n",
    "        content=\"Eres un experto en clasificar números como Abra, Kadabra o Abra Kadabra. El usuario te dará una serie de números y tú debes clasificarlos.\"\n",
    "    ),\n",
    "    HumanMessage(\n",
    "        content=\"3, 5, 8, 2, 7, 12, 13, 35\"\n",
    "    ),\n",
    "]\n",
    "\n",
    "llm.invoke(messages).content"
   ],
   "id": "ed1601d4263a9475",
   "outputs": [
    {
     "data": {
      "text/plain": [
       "'Para clasificar los números que has proporcionado, aplicaremos las siguientes reglas:\\n\\n- **Abra**: Números impares.\\n- **Kadabra**: Números pares.\\n- **Abra Kadabra**: Números que son tanto impares como pares, es decir, no se aplica.\\n\\nAhora clasifiquemos los números:\\n\\n- 3: Abra (impar)\\n- 5: Abra (impar)\\n- 8: Kadabra (par)\\n- 2: Kadabra (par)\\n- 7: Abra (impar)\\n- 12: Kadabra (par)\\n- 13: Abra (impar)\\n- 35: Abra (impar)\\n\\nClasificación final:\\n- Abra: 3, 5, 7, 13, 35\\n- Kadabra: 8, 2, 12\\n- Abra Kadabra: Ninguno\\n\\nSi tienes más números para clasificar, ¡estaré encantado de ayudarte!'"
      ]
     },
     "execution_count": 6,
     "metadata": {},
     "output_type": "execute_result"
    }
   ],
   "execution_count": 6
  },
  {
   "metadata": {
    "ExecuteTime": {
     "end_time": "2024-11-25T17:57:13.898227Z",
     "start_time": "2024-11-25T17:57:12.376701Z"
    }
   },
   "cell_type": "code",
   "source": [
    "# Ahora con few-shot training\n",
    "\n",
    "messages = [\n",
    "    SystemMessage(\n",
    "        content=\"Eres un experto en clasificar números como Abra, Kadabra o Abra Kadabra. El usuario te dará una serie de números y tú debes clasificarlos según estas reglas: si es divisible por 5 es 'Abra', si es divisible por 7 es 'Kadabra', y si es divisible por ambos es 'Abra Kadabra'. Ejemplos: 10 es divisible por 5, es 'Abra'. 14 es divisible por 7 es 'Kadabra'. 70 es divisible por 5 y 7 es 'Abra Kadabra'.  Si no es divisible por ninguno, entonces no se clasifica.\"\n",
    "    ),\n",
    "    HumanMessage(\n",
    "        content=\"3, 5, 8, 2, 7, 12, 13, 35\"\n",
    "    ),\n",
    "] \n",
    "\n",
    "llm.invoke(messages).content"
   ],
   "id": "18055287613d72ac",
   "outputs": [
    {
     "data": {
      "text/plain": [
       "'Aquí está la clasificación de los números que proporcionaste:\\n\\n- 3: No se clasifica\\n- 5: Abra\\n- 8: No se clasifica\\n- 2: No se clasifica\\n- 7: Kadabra\\n- 12: No se clasifica\\n- 13: No se clasifica\\n- 35: Abra\\n\\nResumen:\\n- 5: Abra\\n- 7: Kadabra\\n- 35: Abra'"
      ]
     },
     "execution_count": 7,
     "metadata": {},
     "output_type": "execute_result"
    }
   ],
   "execution_count": 7
  },
  {
   "metadata": {},
   "cell_type": "markdown",
   "source": "### Few-shot con Langchain",
   "id": "142c1a33f78eaa99"
  },
  {
   "metadata": {
    "ExecuteTime": {
     "end_time": "2024-11-25T17:57:17.021732Z",
     "start_time": "2024-11-25T17:57:13.909250Z"
    }
   },
   "cell_type": "code",
   "source": [
    "from langchain_core.prompts.few_shot import FewShotPromptTemplate\n",
    "from langchain_core.prompts.prompt import PromptTemplate\n",
    "\n",
    "# Ejemplos de clasificación\n",
    "examples = [\n",
    "  {\n",
    "      \"number\": 6,\n",
    "      \"reasoning\": \"no divisible por 5 ni por 7\",\n",
    "      \"result\": \"Ninguno\"\n",
    "  },\n",
    "  {\n",
    "      \"number\": 15,\n",
    "      \"reasoning\": \"divisible por 5 pero no por 7\",\n",
    "      \"result\": \"Abra\"\n",
    "  },\n",
    "  {\n",
    "      \"number\": 12,\n",
    "      \"reasoning\": \"no divisible por 5 ni por 7\",\n",
    "      \"result\": \"Ninguno\"\n",
    "  },\n",
    "  {\n",
    "      \"number\": 21,\n",
    "      \"reasoning\": \"divisible por 7 pero no por 5\",\n",
    "      \"result\": \"Kadabra\"\n",
    "  },\n",
    "  {\n",
    "      \"number\": 70,\n",
    "      \"reasoning\": \"divisible por 5 y por 7\",\n",
    "      \"result\": \"Abra Kadabra\"\n",
    "  } \n",
    "]\n",
    "\n",
    "# Plantilla para los ejemplos\n",
    "example_prompt = PromptTemplate(input_variables=[\"number\", \"reasoning\", \"result\"], template=\"{number} \\\\ {reasoning} \\\\ {result}\")\n",
    "\n",
    "few_shot_prompt = FewShotPromptTemplate(\n",
    "    examples=examples,\n",
    "    example_prompt=example_prompt,\n",
    "    suffix=\"Clasifica los siguientes números como Abra, Kadabra o Abra Kadabra: {comma_delimited_input_numbers}\",\n",
    "    input_variables=[\"comma_delimited_input_numbers\"]\n",
    ")\n",
    "\n",
    "# Números para clasificar\n",
    "prompt_input = few_shot_prompt.format(comma_delimited_input_numbers=\"3, 4, 5, 7, 8, 10, 11, 13, 35.\")\n",
    "\n",
    "# Invocar el modelo\n",
    "response = llm.invoke(prompt_input)\n",
    "print(response.content)\n"
   ],
   "id": "b543a037da72ddca",
   "outputs": [
    {
     "name": "stdout",
     "output_type": "stream",
     "text": [
      "Vamos a clasificar los números según las reglas que proporcionaste:\n",
      "\n",
      "1. **Números no divisibles por 5 ni por 7**: Ninguno\n",
      "2. **Números divisibles por 5 pero no por 7**: Abra\n",
      "3. **Números divisibles por 7 pero no por 5**: Kadabra\n",
      "4. **Números divisibles por 5 y por 7**: Abra Kadabra\n",
      "\n",
      "Ahora, analicemos cada número de la lista: 3, 4, 5, 7, 8, 10, 11, 13, 35.\n",
      "\n",
      "- **3**: No es divisible por 5 ni por 7 → Ninguno\n",
      "- **4**: No es divisible por 5 ni por 7 → Ninguno\n",
      "- **5**: Divisible por 5 pero no por 7 → Abra\n",
      "- **7**: Divisible por 7 pero no por 5 → Kadabra\n",
      "- **8**: No es divisible por 5 ni por 7 → Ninguno\n",
      "- **10**: Divisible por 5 pero no por 7 → Abra\n",
      "- **11**: No es divisible por 5 ni por 7 → Ninguno\n",
      "- **13**: No es divisible por 5 ni por 7 → Ninguno\n",
      "- **35**: Divisible por 5 y por 7 → Abra Kadabra\n",
      "\n",
      "Clasificación final:\n",
      "\n",
      "- 3: Ninguno\n",
      "- 4: Ninguno\n",
      "- 5: Abra\n",
      "- 7: Kadabra\n",
      "- 8: Ninguno\n",
      "- 10: Abra\n",
      "- 11: Ninguno\n",
      "- 13: Ninguno\n",
      "- 35: Abra Kadabra\n"
     ]
    }
   ],
   "execution_count": 8
  },
  {
   "metadata": {},
   "cell_type": "markdown",
   "source": "### Cadena de pensamiento - Chain of Thought (CoT)",
   "id": "6913066d4e49c820"
  },
  {
   "metadata": {},
   "cell_type": "markdown",
   "source": [
    "Ahora retomemos el ejemplo de los palíndromos.\n",
    "\n",
    "Vamos a crear un prompt utilizando la técnica del **Chain of Thought**, como fue introducida por Wei et al (https://arxiv.org/abs/2201.11903). Este prompt incluirá:\n",
    "\n",
    "- Varias secuencias de ejemplo para el entrenamiento few-shot\n",
    "- Una explicación de los pasos lógicos necesarios para determinar si una secuencia es \"Extraña\" (proporcionando los pasos)"
   ],
   "id": "9e03abbb7f421d98"
  },
  {
   "metadata": {
    "ExecuteTime": {
     "end_time": "2024-11-25T17:57:19.587315Z",
     "start_time": "2024-11-25T17:57:17.039840Z"
    }
   },
   "cell_type": "code",
   "source": [
    "# Identificación y suma de palíndromos con CoT (Chain of Thought)\n",
    "\n",
    "messages = [\n",
    "    SystemMessage(\n",
    "        content=\"\"\"Eres un experto en sumar palíndromos. Utilizarás el siguiente enfoque paso a paso para identificar y sumar los palíndromos de una secuencia. Ejemplos:\n",
    "\n",
    "Ejemplo 1:\n",
    "33 es un palíndromo\n",
    "44 es un palíndromo\n",
    "\n",
    "Pasos para resolver:\n",
    "1) Identificar los palíndromos\n",
    "2) Sumarlos\n",
    "\n",
    "Ejemplo resuelto:\n",
    "\n",
    "Secuencia: 1331, 121, 99, 232, 7\n",
    "Paso 1: Identificar los palíndromos en la secuencia.\n",
    "Palíndromos identificados: 1331, 121, 99, 232, 7\n",
    "\n",
    "Paso 2: Sumar los palíndromos.\n",
    "Cálculo: 1331 + 121 + 99 + 232 + 7 = 1790\n",
    "\n",
    "Por lo tanto, la suma de los palíndromos es 1790.\n",
    "\"\"\"\n",
    "    ),\n",
    "    HumanMessage(\n",
    "        content=\"\"\"Suma los palíndromos en la siguiente secuencia: 24, 1331, 121, 89, 55, 32, 767, 2.\"\"\"\n",
    "    ),\n",
    "]\n",
    "\n",
    "response = llm.invoke(messages).content\n",
    "print(response)\n"
   ],
   "id": "ad0c937832e017b8",
   "outputs": [
    {
     "name": "stdout",
     "output_type": "stream",
     "text": [
      "Vamos a seguir los pasos para identificar y sumar los palíndromos en la secuencia dada.\n",
      "\n",
      "Secuencia: 24, 1331, 121, 89, 55, 32, 767, 2\n",
      "\n",
      "**Paso 1: Identificar los palíndromos en la secuencia.**\n",
      "- 24: no es un palíndromo\n",
      "- 1331: es un palíndromo\n",
      "- 121: es un palíndromo\n",
      "- 89: no es un palíndromo\n",
      "- 55: es un palíndromo\n",
      "- 32: no es un palíndromo\n",
      "- 767: es un palíndromo\n",
      "- 2: es un palíndromo\n",
      "\n",
      "**Palíndromos identificados:** 1331, 121, 55, 767, 2\n",
      "\n",
      "**Paso 2: Sumar los palíndromos.**\n",
      "Cálculo: 1331 + 121 + 55 + 767 + 2 = 2276\n",
      "\n",
      "Por lo tanto, la suma de los palíndromos es **2276**.\n"
     ]
    }
   ],
   "execution_count": 9
  },
  {
   "metadata": {},
   "cell_type": "markdown",
   "source": "### Buenas prácticas para la ingeniería de prompts",
   "id": "f99748c249f3dd00"
  },
  {
   "metadata": {},
   "cell_type": "markdown",
   "source": [
    "Con lo aprendido anteriormente, podemos combinar todos los elementos del prompt de las secciones previas para obtener la siguiente estructura general:\n",
    "\n",
    "**Persona**: Especifica el rol que deseas que el modelo de lenguaje (LLM) asuma. Ya sea un gerente de marketing experimentado, un autor galardonado de ciencia ficción o un editor de texto competente para una revista de informática, establece expectativas altas.\n",
    "\n",
    "**Contexto**: Proporciona información detallada para ayudar al LLM a comprender el contexto de tu solicitud. La precisión aumenta la probabilidad de que el resultado se alinee con tus expectativas.\n",
    "\n",
    "**Instrucción**: Define claramente la acción que deseas que el LLM realice con tu texto de entrada. Ya sea traducir, escribir, reescribir, mejorar, clasificar, ordenar o encontrar, sé explícito.\n",
    "\n",
    "**Entrada**: Se refiere a detalles específicos del contexto, que pueden ser un párrafo, una consulta o una lista de puntos clave. Puedes etiquetarlo como \"Texto\", \"Pregunta\", etc.\n",
    "\n",
    "**Pasos**: Describe los pasos de procesamiento que el LLM debe seguir para generar la salida.\n",
    "\n",
    "**Tono**: Especifica el tono deseado en la respuesta del LLM—formal, informal, ingenioso, entusiasta, sobrio, amigable, etc. Las combinaciones son posibles.\n",
    "\n",
    "**Formato de salida**: Opcionalmente, indica el formato de salida deseado. Si no se especifica, el LLM asumirá una respuesta en texto. Sin embargo, puedes solicitar formatos como una tabla, archivo CSV (con nombres de columnas), JSON (con nombres de atributos) u otros formatos estructurados.\n",
    "\n",
    "**Ejemplos**: En casos donde el LLM pueda carecer de suficiente entrenamiento para ciertas tareas, especialmente en clasificación de texto y razonamiento, proporciona entrenamiento en línea a través de ejemplos. Incluso unos pocos ejemplos mejoran significativamente la calidad de la respuesta."
   ],
   "id": "8ac0abdbd6e182fb"
  },
  {
   "metadata": {
    "ExecuteTime": {
     "end_time": "2024-11-25T17:57:19.598388Z",
     "start_time": "2024-11-25T17:57:19.595640Z"
    }
   },
   "cell_type": "code",
   "source": "",
   "id": "c03ded32cb61796c",
   "outputs": [],
   "execution_count": null
  },
  {
   "metadata": {
    "ExecuteTime": {
     "end_time": "2024-11-25T17:57:19.650940Z",
     "start_time": "2024-11-25T17:57:19.648950Z"
    }
   },
   "cell_type": "code",
   "source": "",
   "id": "f6758eef399eed96",
   "outputs": [],
   "execution_count": null
  }
 ],
 "metadata": {
  "kernelspec": {
   "display_name": "Python 3",
   "language": "python",
   "name": "python3"
  },
  "language_info": {
   "codemirror_mode": {
    "name": "ipython",
    "version": 2
   },
   "file_extension": ".py",
   "mimetype": "text/x-python",
   "name": "python",
   "nbconvert_exporter": "python",
   "pygments_lexer": "ipython2",
   "version": "2.7.6"
  }
 },
 "nbformat": 4,
 "nbformat_minor": 5
}

{
 "cells": [
  {
   "metadata": {},
   "cell_type": "markdown",
   "source": "# Plantillas de prompt programáticamente",
   "id": "cb74f29bc77cbd85"
  },
  {
   "metadata": {},
   "cell_type": "markdown",
   "source": [
    "## Instalación de paquetes\n",
    "Si estás corriendo este notebook en Google Colab, corre la siguiente celda para instalar los paquetes necesarios."
   ],
   "id": "590da4b6e9fe317c"
  },
  {
   "cell_type": "code",
   "id": "initial_id",
   "metadata": {
    "collapsed": true,
    "ExecuteTime": {
     "end_time": "2024-11-25T17:58:14.372711Z",
     "start_time": "2024-11-25T17:58:14.369377Z"
    }
   },
   "source": "# %pip install langchain langchain_community langchain_openai",
   "outputs": [],
   "execution_count": 1
  },
  {
   "metadata": {
    "ExecuteTime": {
     "end_time": "2024-11-25T17:58:14.393045Z",
     "start_time": "2024-11-25T17:58:14.379380Z"
    }
   },
   "cell_type": "code",
   "source": [
    "# Corre esta celda solo si tienes un archivo .env configurado\n",
    "from dotenv import load_dotenv\n",
    "load_dotenv()"
   ],
   "id": "c3f9a336959142bd",
   "outputs": [
    {
     "data": {
      "text/plain": [
       "True"
      ]
     },
     "execution_count": 2,
     "metadata": {},
     "output_type": "execute_result"
    }
   ],
   "execution_count": 2
  },
  {
   "metadata": {},
   "cell_type": "markdown",
   "source": "### Importemos las librerías necesarias",
   "id": "32b3b15e4e36cee"
  },
  {
   "metadata": {
    "ExecuteTime": {
     "end_time": "2024-11-25T17:58:15.008168Z",
     "start_time": "2024-11-25T17:58:14.541083Z"
    }
   },
   "cell_type": "code",
   "source": [
    "import os\n",
    "from openai import OpenAI"
   ],
   "id": "c451e35127dc8d67",
   "outputs": [],
   "execution_count": 3
  },
  {
   "metadata": {},
   "cell_type": "markdown",
   "source": "  Vamos a crear un prompt con la API de ChatCompletion (/chat/completions).",
   "id": "5e401501e2b07854"
  },
  {
   "metadata": {
    "ExecuteTime": {
     "end_time": "2024-11-25T17:58:15.061825Z",
     "start_time": "2024-11-25T17:58:15.016683Z"
    }
   },
   "cell_type": "code",
   "source": "client = OpenAI(api_key=os.getenv(\"LIA_API_KEY\"), base_url=os.getenv(\"LIA_BASE_URL\"))",
   "id": "1778638cb550644a",
   "outputs": [],
   "execution_count": 4
  },
  {
   "metadata": {
    "ExecuteTime": {
     "end_time": "2024-11-25T17:58:18.313267Z",
     "start_time": "2024-11-25T17:58:15.073954Z"
    }
   },
   "cell_type": "code",
   "source": [
    "prompt_input = \"\"\"Escribe un mensaje que te gustaría enviar a un amigo sobre un tema que te interese.\"\"\"\n",
    "response = client.chat.completions.create(\n",
    "  model=os.getenv(\"MODEL\"),\n",
    "  messages=[\n",
    "    {\"role\": \"system\", \"content\": \"Eres un asistente virtual respetuoso y amigable\"},\n",
    "    {\"role\": \"user\", \"content\": prompt_input}\n",
    "  ],\n",
    "  temperature= 0.7,\n",
    "  max_tokens= 100  \n",
    ")\n",
    " \n",
    "print(response.choices[0].message.content)"
   ],
   "id": "9dc5ab6f1fea79c6",
   "outputs": [
    {
     "name": "stdout",
     "output_type": "stream",
     "text": [
      "¡Hola [nombre de tu amigo]!\n",
      "\n",
      "Espero que estés bien. Quería hablarte sobre un tema que me ha estado interesando mucho últimamente: la sostenibilidad y el cambio climático. He estado leyendo sobre cómo pequeñas acciones pueden tener un gran impacto en nuestro planeta, como reducir el uso de plásticos, consumir menos carne y optar por energías renovables.\n",
      "\n",
      "Me encantaría saber tu opinión al respecto y si has estado haciendo algo en tu vida diaria para contribuir. Quizás podríamos\n"
     ]
    }
   ],
   "execution_count": 5
  },
  {
   "metadata": {},
   "cell_type": "markdown",
   "source": [
    "### Descripción de los parámetros\n",
    "\n",
    "- **model**: Se refiere al modelo de LLM que se va a utilizar, un servidor puede ofrecer varios modelos, cada uno con diferentes características y capacidades.\n",
    "  \n",
    "- **messages**: Un prompt se compone de una lista de mensajes, cada uno interpretado por un \"rol\" y con algún \"contenido\" con las instrucciones a seguir.\n",
    "\n",
    "- **temperature**: Este es un coeficiente de \"creatividad\" o \"entropía\", que varía de 0 (sin creatividad, lo que significa que el resultado será siempre el mismo dado el mismo prompt) a 1 (el resultado variará considerablemente en cada ejecución del mismo prompt).\n",
    "\n",
    "- **max_tokens**: Esto limita el número de tokens de salida, generalmente para reducir costos."
   ],
   "id": "2f933eb76e302de3"
  },
  {
   "metadata": {},
   "cell_type": "markdown",
   "source": "## Hagamos el prompt con el objeto de Langchain",
   "id": "4630ea8b57527094"
  },
  {
   "metadata": {
    "ExecuteTime": {
     "end_time": "2024-11-25T17:58:19.077977Z",
     "start_time": "2024-11-25T17:58:18.322384Z"
    }
   },
   "cell_type": "code",
   "source": [
    "from langchain_openai import ChatOpenAI \n",
    "\n",
    "llm = ChatOpenAI(\n",
    "    model=os.getenv(\"MODEL\"),\n",
    "    openai_api_key=os.getenv(\"LIA_API_KEY\"),\n",
    "    openai_api_base=os.getenv(\"LIA_API_BASE\"),\n",
    "    max_tokens=2000,\n",
    "    temperature=0.6,\n",
    ")"
   ],
   "id": "46f2130a00bac6f4",
   "outputs": [],
   "execution_count": 6
  },
  {
   "metadata": {
    "ExecuteTime": {
     "end_time": "2024-11-25T17:58:21.742453Z",
     "start_time": "2024-11-25T17:58:19.087858Z"
    }
   },
   "cell_type": "code",
   "source": [
    "prompt_input = \"\"\"Escribe un mensaje que te gustaría enviar a un amigo sobre un tema que te interese.\"\"\"\n",
    " \n",
    "response = llm.invoke(prompt_input)\n",
    "print(response.content)"
   ],
   "id": "f5378b47b77be9d2",
   "outputs": [
    {
     "name": "stdout",
     "output_type": "stream",
     "text": [
      "¡Hola [Nombre del amigo]!\n",
      "\n",
      "Espero que estés bien. Quería hablarte sobre algo que me ha estado fascinando últimamente: la exploración espacial. He estado leyendo sobre las nuevas misiones a Marte y cómo la tecnología ha avanzado tanto en los últimos años. Es increíble pensar en las posibilidades de encontrar vida en otros planetas y cómo eso podría cambiar nuestra comprensión del universo.\n",
      "\n",
      "Además, me emocionó mucho la noticia de que están planeando enviar humanos a Marte en la próxima década. Imaginar cómo sería vivir en otro planeta es algo que me deja sin aliento. Me encantaría saber tu opinión al respecto y si has leído algo interesante sobre el tema.\n",
      "\n",
      "¡Hablemos pronto! \n",
      "\n",
      "Un abrazo,  \n",
      "[Tu nombre]\n"
     ]
    }
   ],
   "execution_count": 7
  },
  {
   "metadata": {},
   "cell_type": "markdown",
   "source": "",
   "id": "34430569dbb0f50f"
  },
  {
   "metadata": {},
   "cell_type": "markdown",
   "source": "## Implementar una plantilla con una función",
   "id": "6067c8345a2c24e7"
  },
  {
   "metadata": {
    "ExecuteTime": {
     "end_time": "2024-11-25T17:58:21.755395Z",
     "start_time": "2024-11-25T17:58:21.751277Z"
    }
   },
   "cell_type": "code",
   "source": [
    "def generate_text_summary_prompt(text, num_words, tone):\n",
    "    return f'Eres un redactor experimentado. Escribe un resumen de {num_words} palabras del siguiente texto, usando un tono {tone}: {text}'"
   ],
   "id": "2a68c27883a2b164",
   "outputs": [],
   "execution_count": 8
  },
  {
   "metadata": {
    "ExecuteTime": {
     "end_time": "2024-11-25T17:58:21.776495Z",
     "start_time": "2024-11-25T17:58:21.772766Z"
    }
   },
   "cell_type": "code",
   "source": [
    "turing_text = \"\"\"Alan Turing (1912–1954) fue un matemático, lógico y criptógrafo británico, considerado uno de los padres de la informática moderna. Nació en Londres y desde una temprana edad mostró un talento excepcional para las matemáticas y las ciencias. Asistió a la Universidad de Cambridge, donde destacó en matemáticas puras, y más tarde obtuvo su doctorado en la Universidad de Princeton en Estados Unidos.\n",
    "\n",
    "Turing es más conocido por su trabajo durante la Segunda Guerra Mundial en Bletchley Park, donde jugó un papel crucial en la ruptura de los códigos de la máquina Enigma, utilizada por las fuerzas alemanas para cifrar sus comunicaciones. Su invención, la \"bomba de Turing\", fue un dispositivo mecánico diseñado para descifrar estos códigos, y se le atribuye haber acortado la guerra en varios años y haber salvado innumerables vidas.\n",
    "\n",
    "Además de su contribución a la criptografía, Turing hizo importantes avances en la teoría de la computación. En 1936, antes de la guerra, publicó su célebre artículo \"On Computable Numbers,\" donde introdujo el concepto de la \"máquina de Turing\", un modelo teórico que describe los principios de una computadora y que es fundamental para la informática teórica. Este trabajo sentó las bases para la creación de las primeras computadoras modernas.\n",
    "\n",
    "Turing también reflexionó sobre la inteligencia artificial, proponiendo en 1950 lo que hoy se conoce como el \"Test de Turing,\" un experimento mental para evaluar la capacidad de una máquina para exhibir comportamiento inteligente indistinguible del de un ser humano.\n",
    "\n",
    "A pesar de sus logros, la vida personal de Turing estuvo marcada por la tragedia. En 1952, fue procesado en Reino Unido por su homosexualidad, entonces considerada un delito. Como parte de su condena, fue sometido a una castración química, lo que afectó profundamente su salud mental. Dos años después, en 1954, Turing fue encontrado muerto en su casa, aparentemente por suicidio.\n",
    "\n",
    "Hoy, Alan Turing es reconocido como un pionero de la informática y un héroe de guerra. Su vida y trabajo han sido revalorizados, y en 2013 recibió un indulto póstumo por su condena. Su legado sigue vivo en el campo de la tecnología, y su impacto en la ciencia y la sociedad es incalculable.\"\"\""
   ],
   "id": "38d5fd624b4e91d6",
   "outputs": [],
   "execution_count": 9
  },
  {
   "metadata": {
    "ExecuteTime": {
     "end_time": "2024-11-25T17:58:22.737422Z",
     "start_time": "2024-11-25T17:58:21.781853Z"
    }
   },
   "cell_type": "code",
   "source": [
    "input_prompt = generate_text_summary_prompt(text=turing_text, num_words=20, tone=\"formal y académico\")\n",
    " \n",
    "response = llm.invoke(input_prompt)\n",
    "print(response.content)"
   ],
   "id": "e77ee379ec1a515e",
   "outputs": [
    {
     "name": "stdout",
     "output_type": "stream",
     "text": [
      "Alan Turing, matemático y criptógrafo británico, revolucionó la informática moderna y la criptografía, enfrentando trágicas adversidades personales.\n"
     ]
    }
   ],
   "execution_count": 10
  },
  {
   "metadata": {},
   "cell_type": "markdown",
   "source": "### Usando PromptTemplate",
   "id": "9dcbca8484ed32bf"
  },
  {
   "metadata": {
    "ExecuteTime": {
     "end_time": "2024-11-25T17:58:22.757984Z",
     "start_time": "2024-11-25T17:58:22.754975Z"
    }
   },
   "cell_type": "code",
   "source": [
    "from langchain_core.prompts import PromptTemplate\n",
    " \n",
    "prompt_template = PromptTemplate.from_template(\"Eres un redactor experimentado. Escribe un resumen de {num_words} palabras del siguiente texto, usando un tono {tone}: {text}\")"
   ],
   "id": "fa30446457ec03df",
   "outputs": [],
   "execution_count": 11
  },
  {
   "metadata": {
    "ExecuteTime": {
     "end_time": "2024-11-25T17:58:22.767243Z",
     "start_time": "2024-11-25T17:58:22.764102Z"
    }
   },
   "cell_type": "code",
   "source": "prompt = prompt_template.format(text=turing_text, num_words=20, tone=\"formal y académico\")",
   "id": "a784dffd273563af",
   "outputs": [],
   "execution_count": 12
  },
  {
   "metadata": {
    "ExecuteTime": {
     "end_time": "2024-11-25T17:58:23.668045Z",
     "start_time": "2024-11-25T17:58:22.777117Z"
    }
   },
   "cell_type": "code",
   "source": [
    "response = llm.invoke(prompt)\n",
    "print(response.content)"
   ],
   "id": "f0855724e1c5ab8e",
   "outputs": [
    {
     "name": "stdout",
     "output_type": "stream",
     "text": [
      "Alan Turing, matemático y criptógrafo británico, es reconocido por sus contribuciones a la informática moderna y la inteligencia artificial.\n"
     ]
    }
   ],
   "execution_count": 13
  },
  {
   "metadata": {},
   "cell_type": "markdown",
   "source": "### Ejecutando un Prompt con LCEL",
   "id": "3613521eb8d3871f"
  },
  {
   "metadata": {
    "ExecuteTime": {
     "end_time": "2024-11-25T17:58:24.707554Z",
     "start_time": "2024-11-25T17:58:23.677875Z"
    }
   },
   "cell_type": "code",
   "source": [
    "chain = prompt_template | llm\n",
    "\n",
    "response = chain.invoke({\"text\": turing_text, \n",
    "              \"num_words\": 20, \n",
    "              \"tone\": \"conocedor y motivador\"})\n",
    "\n",
    "print(response.content)"
   ],
   "id": "ae32b21709e13d3",
   "outputs": [
    {
     "name": "stdout",
     "output_type": "stream",
     "text": [
      "Alan Turing, pionero de la informática y héroe de guerra, transformó la tecnología y la criptografía, dejando un legado inspirador e invaluable.\n"
     ]
    }
   ],
   "execution_count": 14
  },
  {
   "metadata": {
    "ExecuteTime": {
     "end_time": "2024-11-25T17:58:24.720274Z",
     "start_time": "2024-11-25T17:58:24.717913Z"
    }
   },
   "cell_type": "code",
   "source": "",
   "id": "4f07214b3eb7171d",
   "outputs": [],
   "execution_count": null
  }
 ],
 "metadata": {
  "kernelspec": {
   "display_name": "Python 3",
   "language": "python",
   "name": "python3"
  },
  "language_info": {
   "codemirror_mode": {
    "name": "ipython",
    "version": 2
   },
   "file_extension": ".py",
   "mimetype": "text/x-python",
   "name": "python",
   "nbconvert_exporter": "python",
   "pygments_lexer": "ipython2",
   "version": "2.7.6"
  }
 },
 "nbformat": 4,
 "nbformat_minor": 5
}

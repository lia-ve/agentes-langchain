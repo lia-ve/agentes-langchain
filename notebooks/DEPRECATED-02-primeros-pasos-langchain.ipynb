{
 "cells": [
  {
   "metadata": {},
   "cell_type": "markdown",
   "source": "# Primeros pasos con LangChain",
   "id": "58fb0a6a200dd1a6"
  },
  {
   "metadata": {},
   "cell_type": "markdown",
   "source": [
    "## Instalación de paquetes\n",
    "Si estás corriendo este notebook en Google Colab, corre la siguiente celda para instalar los paquetes necesarios."
   ],
   "id": "3ac845834bfcbc14"
  },
  {
   "cell_type": "code",
   "id": "initial_id",
   "metadata": {
    "collapsed": true
   },
   "source": "# %pip install langchain langchain_community langchain_openai",
   "outputs": [],
   "execution_count": null
  },
  {
   "metadata": {
    "ExecuteTime": {
     "end_time": "2024-10-15T21:16:38.242550Z",
     "start_time": "2024-10-15T21:16:38.225635Z"
    }
   },
   "cell_type": "code",
   "source": [
    "# Corre esta celda solo si tienes un archivo .env configurado\n",
    "from dotenv import load_dotenv\n",
    "load_dotenv()"
   ],
   "id": "de4347f5717f8d66",
   "outputs": [
    {
     "data": {
      "text/plain": [
       "True"
      ]
     },
     "execution_count": 1,
     "metadata": {},
     "output_type": "execute_result"
    }
   ],
   "execution_count": 1
  },
  {
   "metadata": {
    "ExecuteTime": {
     "end_time": "2024-10-15T21:16:41.016560Z",
     "start_time": "2024-10-15T21:16:39.233682Z"
    }
   },
   "cell_type": "code",
   "source": [
    "import os\n",
    "from langchain_openai import ChatOpenAI "
   ],
   "id": "fada1c7d1da959d4",
   "outputs": [],
   "execution_count": 2
  },
  {
   "metadata": {
    "ExecuteTime": {
     "end_time": "2024-10-15T21:17:29.399272Z",
     "start_time": "2024-10-15T21:17:29.311623Z"
    }
   },
   "cell_type": "code",
   "source": [
    "llm = ChatOpenAI(\n",
    "    model=os.getenv(\"MODEL\"),\n",
    "    openai_api_key=os.getenv(\"LIA_API_KEY\"),\n",
    "    openai_api_base=os.getenv(\"LIA_API_BASE\"),\n",
    "    max_tokens=2000,\n",
    "    temperature=0.6,\n",
    ")"
   ],
   "id": "d8aa126d296fd46f",
   "outputs": [],
   "execution_count": 4
  },
  {
   "metadata": {},
   "cell_type": "markdown",
   "source": "## Prompt templates (plantillas de mensajes)",
   "id": "1c046d0416389bb7"
  },
  {
   "metadata": {
    "ExecuteTime": {
     "end_time": "2024-10-15T21:18:10.032331Z",
     "start_time": "2024-10-15T21:18:08.254211Z"
    }
   },
   "cell_type": "code",
   "source": [
    "prompt_input = \"\"\"Escribe un mensaje corto sobre los LLMs y cómo te pueden ayudar en tu día a día.\"\"\"\n",
    "response = llm.invoke(prompt_input)\n",
    " \n",
    "print(response.content)"
   ],
   "id": "b5f6be6e7dbfcbc9",
   "outputs": [
    {
     "name": "stdout",
     "output_type": "stream",
     "text": [
      "Los Modelos de Lenguaje de Gran Escala (LLMs, por sus siglas en inglés) son herramientas avanzadas de inteligencia artificial que pueden facilitar muchas tareas diarias. Pueden ayudarte a redactar correos electrónicos, resumir documentos extensos, generar ideas creativas para proyectos, responder preguntas complejas y aprender nuevos temas. Al integrarlos en tu rutina, puedes ahorrar tiempo y mejorar tu productividad al delegar tareas repetitivas o que requieren procesamiento de lenguaje.\n"
     ]
    }
   ],
   "execution_count": 5
  },
  {
   "metadata": {},
   "cell_type": "markdown",
   "source": "### Creando un prompt con PromptTemplate",
   "id": "91d5343eb81f7520"
  },
  {
   "metadata": {
    "ExecuteTime": {
     "end_time": "2024-10-15T21:21:25.100529Z",
     "start_time": "2024-10-15T21:21:24.018407Z"
    }
   },
   "cell_type": "code",
   "source": [
    "from langchain_core.prompts import PromptTemplate\n",
    " \n",
    "segovia_aqueduct_text = \"El Acueducto de Segovia (en español: Acueducto de Segovia) es un acueducto romano en Segovia, España. Fue construido alrededor del siglo I d.C. para canalizar agua desde manantiales en las montañas, a 17 kilómetros (11 millas) de distancia, hasta las fuentes de la ciudad, baños públicos y casas privadas, y estuvo en uso hasta 1973. Su sección elevada, con su arcada completa de 167 arcos, es uno de los puentes acueducto romanos mejor conservados y el principal símbolo de Segovia, como lo evidencia su presencia en el escudo de armas de la ciudad. La Ciudad Vieja de Segovia y el acueducto fueron declarados Patrimonio de la Humanidad por la UNESCO en 1985. Como el acueducto carece de una inscripción legible (aparentemente una inscripción se encontraba en el ático o parte superior de la estructura [cita necesaria]), no se puede determinar de manera definitiva la fecha de construcción. Durante mucho tiempo, la fecha general de la construcción del Acueducto fue un misterio, aunque se pensaba que fue durante el siglo I d.C., durante los reinados de los emperadores Domiciano, Nerva y Trajano. A finales del siglo XX, Géza Alföldy descifró el texto en la placa de dedicación estudiando los anclajes que mantenían en su lugar las ahora ausentes letras de bronce. Determinó que el emperador Domiciano (81-96 d.C.) ordenó su construcción [1] y se propuso el año 98 d.C. como la fecha más probable de su finalización [2]. Sin embargo, en 2016 se publicó evidencia arqueológica que apunta a una fecha ligeramente posterior, después del 112 d.C., durante el gobierno de Trajano o al comienzo del gobierno del emperador Adriano, a partir de 117 d.C.\"\n",
    " \n",
    "prompt_template = PromptTemplate.from_template(\"Eres un redactor experimentado. Escribe un resumen de {num_words} palabras del siguiente texto, utilizando un tono {tone}: {text}\")\n",
    " \n",
    "prompt_input = prompt_template.format(\n",
    "    text=segovia_aqueduct_text, \n",
    "    num_words=20, \n",
    "    tone=\"conocedor y motivador\")\n",
    "response = llm.invoke(prompt_input)\n",
    "print(response.content)\n"
   ],
   "id": "6cc71b7868e2c025",
   "outputs": [
    {
     "name": "stdout",
     "output_type": "stream",
     "text": [
      "El Acueducto de Segovia, símbolo romano y patrimonio UNESCO, destaca por su impresionante arquitectura y legado histórico, inspirando admiración perpetua.\n"
     ]
    }
   ],
   "execution_count": 6
  },
  {
   "metadata": {},
   "cell_type": "markdown",
   "source": "### Ejecutando un Prompt con LCEL",
   "id": "844dbaad10f52782"
  },
  {
   "metadata": {
    "ExecuteTime": {
     "end_time": "2024-10-15T21:23:45.928282Z",
     "start_time": "2024-10-15T21:23:44.813432Z"
    }
   },
   "cell_type": "code",
   "source": [
    "chain = prompt_template | llm\n",
    "\n",
    "response = chain.invoke({\"text\": segovia_aqueduct_text, \n",
    "              \"num_words\": 20, \n",
    "              \"tone\": \"conocedor y motivador\"})\n",
    "\n",
    "print(response.content)"
   ],
   "id": "44dae34710060cbb",
   "outputs": [
    {
     "name": "stdout",
     "output_type": "stream",
     "text": [
      "El Acueducto de Segovia, símbolo romano de ingeniería, canalizó agua durante siglos y es ahora Patrimonio de la Humanidad.\n"
     ]
    }
   ],
   "execution_count": 7
  },
  {
   "metadata": {},
   "cell_type": "code",
   "source": "",
   "id": "317fc59bb70fa343",
   "outputs": [],
   "execution_count": null
  }
 ],
 "metadata": {
  "kernelspec": {
   "display_name": "Python 3",
   "language": "python",
   "name": "python3"
  },
  "language_info": {
   "codemirror_mode": {
    "name": "ipython",
    "version": 2
   },
   "file_extension": ".py",
   "mimetype": "text/x-python",
   "name": "python",
   "nbconvert_exporter": "python",
   "pygments_lexer": "ipython2",
   "version": "2.7.6"
  }
 },
 "nbformat": 4,
 "nbformat_minor": 5
}

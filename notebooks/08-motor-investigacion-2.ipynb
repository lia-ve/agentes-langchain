{
 "cells": [
  {
   "metadata": {},
   "cell_type": "markdown",
   "source": "# Motor de Investigación con LCEL",
   "id": "77b0b8637115ae98"
  },
  {
   "metadata": {},
   "cell_type": "markdown",
   "source": [
    "## Instalación de paquetes\n",
    "Si estás corriendo este notebook en Google Colab, corre la siguiente celda para instalar los paquetes necesarios."
   ],
   "id": "6cdcaf764c04a08c"
  },
  {
   "metadata": {
    "ExecuteTime": {
     "end_time": "2024-10-23T23:48:33.669812Z",
     "start_time": "2024-10-23T23:48:33.666659Z"
    }
   },
   "cell_type": "code",
   "source": "# %pip install langchain langchain_community langchain_openai duckduckgo-search\n",
   "id": "4d3156a6498eb4e8",
   "outputs": [],
   "execution_count": 65
  },
  {
   "metadata": {
    "ExecuteTime": {
     "end_time": "2024-10-23T23:48:33.711025Z",
     "start_time": "2024-10-23T23:48:33.703973Z"
    }
   },
   "cell_type": "code",
   "source": [
    "# Corre esta celda solo si tienes un archivo .env configurado\n",
    "from dotenv import load_dotenv\n",
    "from duckduckgo_search.utils import json_loads\n",
    "\n",
    "load_dotenv()"
   ],
   "id": "3338aa94f794030a",
   "outputs": [
    {
     "data": {
      "text/plain": [
       "True"
      ]
     },
     "execution_count": 66,
     "metadata": {},
     "output_type": "execute_result"
    }
   ],
   "execution_count": 66
  },
  {
   "metadata": {},
   "cell_type": "markdown",
   "source": [
    "Para quienes desarrollan aplicaciones con LLM, el uso de LCEL es altamente recomendado. Este permite interactuar con los LLM y modelos de chat de manera eficiente mediante la creación y ejecución de cadenas, proporcionando varios beneficios:\n",
    "\n",
    "- **Fallback**: Permite agregar una acción de respaldo para el manejo de errores.\n",
    "- **Ejecución en paralelo**: Ejecuta componentes de las cadenas de forma independiente y simultánea para mejorar el rendimiento.\n",
    "- **Modos de ejecución**: Soporta el desarrollo en modo síncrono y luego permite cambiar a modos de ejecución por streaming, por lotes o asincrónicos, según sea necesario.\n",
    "- **Rastreo con LangSmith**: Registra automáticamente los pasos de ejecución al actualizar a LangSmith, facilitando la depuración y el monitoreo.\n",
    "\n",
    "Una cadena sigue el protocolo `Runnable`, lo que significa que requiere la implementación de métodos específicos como `invoke()`, `stream()`, y `batch()`, incluidas sus versiones asincrónicas. El framework de LangChain asegura que sus componentes, como `PromptTemplate` y `JsonOutputFunctionsParser`, cumplan con estos estándares.\n",
    "\n",
    "Para obtener información detallada y ejemplos, te recomiendo visitar la documentación oficial de LCEL, especialmente las secciones de \"How To\" y \"Cookbook\": https://python.langchain.com/docs/expression_language/"
   ],
   "id": "a83c8155bccd2438"
  },
  {
   "metadata": {},
   "cell_type": "markdown",
   "source": [
    "## Arquitectura del motor de investigación con LCEL\n",
    "\n",
    "Básicamente, vamos reimplementar cada paso del motor de investigación como una minicadena usando LCEL. Luego estas minicadenas se ensamblarán en una gran cadena. <br /><br />\n",
    "\n",
    "Las minicadenas serán las siguientes:<br /><br />\n",
    "\n",
    "1. Cadena de Instrucciones de Asistente\n",
    "2. Cadena de Búsqueda en la Web\n",
    "3. Cadena de Búsqueda y Resumen\n",
    "4. Cadena de Reporte Final de Investigación\n",
    "<br /><br />\n",
    "Las 4 minicadenas componen la **Cadena de Investigación Web**."
   ],
   "id": "9927a34f15c58aa2"
  },
  {
   "cell_type": "code",
   "id": "initial_id",
   "metadata": {
    "collapsed": true,
    "ExecuteTime": {
     "end_time": "2024-10-23T23:48:33.758883Z",
     "start_time": "2024-10-23T23:48:33.753442Z"
    }
   },
   "source": [
    "# Reutilizamos la plantilla de instrucciones de asistente\n",
    "\n",
    "from langchain.prompts import PromptTemplate\n",
    "\n",
    "instrucciones_asistente_seleccion = \"\"\"\n",
    "Eres experto en asignar una pregunta de investigación al asistente de investigación correcto.\n",
    "Hay varios asistentes de investigación disponibles, cada uno especializado en un área de experiencia.\n",
    "Cada asistente está identificado por un tipo específico y tiene instrucciones específicas para llevar a cabo la investigación.\n",
    "\n",
    "Cómo seleccionar el asistente correcto: debes seleccionar el asistente relevante dependiendo del tema de la pregunta, que debe coincidir con el área de experiencia del asistente.\n",
    "\n",
    "------\n",
    "Aquí tienes algunos ejemplos de cómo devolver la información correcta del asistente, según la pregunta realizada.\n",
    "\n",
    "Ejemplos:\n",
    "Pregunta: \"¿Debería invertir en títulos de cobertura?\"\n",
    "Respuesta: \n",
    "{{\n",
    "    \"tipo_asistente\": \"Asistente analista financiero\",\n",
    "    \"instrucciones_asistente\": \"Eres un asistente de inteligencia artificial experto en análisis financiero. Tu objetivo principal es elaborar informes financieros completos, perspicaces, imparciales y organizados metódicamente basados en los datos y tendencias proporcionados.\",\n",
    "    \"pregunta_usuario\": {pregunta_usuario}\n",
    "}}\n",
    "Pregunta: \"¿Cuáles son los sitios más interesantes en Río de Janeiro?\"\n",
    "Respuesta: \n",
    "{{\n",
    "    \"tipo_asistente\": \"Asistente de guía turístico\",\n",
    "    \"instrucciones_asistente\": \"Eres un asistente de guía turístico con experiencia global. Tu propósito principal es redactar informes de viaje atractivos, perspicaces, imparciales y bien estructurados sobre ubicaciones específicas, incluyendo historia, atracciones y conocimientos culturales.\",\n",
    "    \"pregunta_usuario\": \"{pregunta_usuario}\"\n",
    "}}\n",
    "\n",
    "Pregunta: \"¿Es Messi un buen jugador de fútbol?\"\n",
    "Respuesta: \n",
    "{{\n",
    "    \"tipo_asistente\": \"Asistente experto en deportes\",\n",
    "    \"instrucciones_asistente\": \"Eres un asistente de inteligencia artificial especializado en deportes. Tu propósito principal es redactar informes deportivos atractivos, perspicaces, imparciales y bien estructurados sobre personalidades deportivas o eventos deportivos, incluyendo detalles factuales, estadísticas y análisis.\",\n",
    "    \"pregunta_usuario\": \"{pregunta_usuario}\"\n",
    "}}\n",
    "\n",
    "------\n",
    "Ahora que has entendido todo lo anterior, selecciona el asistente de investigación correcto para la siguiente pregunta.\n",
    "Pregunta: {pregunta_usuario}\n",
    "Respuesta:\n",
    "\n",
    "\"\"\" \n",
    "\n",
    "plantilla_asistente_seleccion = PromptTemplate.from_template(\n",
    "    template=instrucciones_asistente_seleccion\n",
    ")"
   ],
   "outputs": [],
   "execution_count": 67
  },
  {
   "metadata": {
    "ExecuteTime": {
     "end_time": "2024-10-23T23:48:33.911612Z",
     "start_time": "2024-10-23T23:48:33.796703Z"
    }
   },
   "cell_type": "code",
   "source": [
    "# Instanciamos el LLM\n",
    "import os\n",
    "from langchain_openai import ChatOpenAI\n",
    "\n",
    "llm = ChatOpenAI(\n",
    "    model=os.getenv(\"MODEL\"),\n",
    "    openai_api_key=os.getenv(\"LIA_API_KEY\"),\n",
    "    openai_api_base=os.getenv(\"LIA_API_BASE\"),\n",
    "    temperature=0.6,\n",
    ")"
   ],
   "id": "95814345b7975577",
   "outputs": [],
   "execution_count": 68
  },
  {
   "metadata": {},
   "cell_type": "markdown",
   "source": "### 1. Cadena de Instrucciones de Asistente",
   "id": "6e7fe801202a24cb"
  },
  {
   "metadata": {
    "ExecuteTime": {
     "end_time": "2024-10-23T23:48:33.952772Z",
     "start_time": "2024-10-23T23:48:33.948898Z"
    }
   },
   "cell_type": "code",
   "source": [
    "# Ahora construimos la cadena de instrucciones de asistente\n",
    "from langchain.schema.output_parser import StrOutputParser\n",
    "import json\n",
    " \n",
    "cadena_instrucciones_asistente = (\n",
    "    plantilla_asistente_seleccion |  llm | StrOutputParser()\n",
    ")"
   ],
   "id": "3b454aa756394bad",
   "outputs": [],
   "execution_count": 69
  },
  {
   "metadata": {
    "ExecuteTime": {
     "end_time": "2024-10-23T23:48:35.665655Z",
     "start_time": "2024-10-23T23:48:33.989141Z"
    }
   },
   "cell_type": "code",
   "source": [
    "# Hacemos una prueba rápida\n",
    "respuesta_llm = cadena_instrucciones_asistente.invoke(\"Qué puedo hacer en la Isla de Margarita?\")\n",
    "\n",
    "respuesta_llm"
   ],
   "id": "e655bb849fc4b19",
   "outputs": [
    {
     "data": {
      "text/plain": [
       "'{\\n    \"tipo_asistente\": \"Asistente de guía turístico\",\\n    \"instrucciones_asistente\": \"Eres un asistente de guía turístico con experiencia global. Tu propósito principal es redactar informes de viaje atractivos, perspicaces, imparciales y bien estructurados sobre ubicaciones específicas, incluyendo historia, atracciones y conocimientos culturales.\",\\n    \"pregunta_usuario\": \"Qué puedo hacer en la Isla de Margarita?\"\\n}'"
      ]
     },
     "execution_count": 70,
     "metadata": {},
     "output_type": "execute_result"
    }
   ],
   "execution_count": 70
  },
  {
   "metadata": {
    "ExecuteTime": {
     "end_time": "2024-10-23T23:48:35.757985Z",
     "start_time": "2024-10-23T23:48:35.753770Z"
    }
   },
   "cell_type": "code",
   "source": [
    "# Cadena mejorada\n",
    "\n",
    "from langchain.schema.runnable import RunnablePassthrough\n",
    "from langchain.schema.runnable import RunnableLambda\n",
    "\n",
    "\n",
    "cadena_instrucciones_asistente = (\n",
    "    {'pregunta_usuario': RunnablePassthrough()} |\n",
    "    plantilla_asistente_seleccion |  llm | StrOutputParser() | RunnableLambda(json.loads)\n",
    ")"
   ],
   "id": "58ad6ec756814d8f",
   "outputs": [],
   "execution_count": 71
  },
  {
   "metadata": {
    "ExecuteTime": {
     "end_time": "2024-10-23T23:48:37.168602Z",
     "start_time": "2024-10-23T23:48:35.795304Z"
    }
   },
   "cell_type": "code",
   "source": [
    "respuesta_llm = cadena_instrucciones_asistente.invoke(\"Qué puedo hacer en la Isla de Margarita?\")\n",
    "\n",
    "respuesta_llm"
   ],
   "id": "258939dd582d103b",
   "outputs": [
    {
     "data": {
      "text/plain": [
       "{'tipo_asistente': 'Asistente de guía turístico',\n",
       " 'instrucciones_asistente': 'Eres un asistente de guía turístico con experiencia global. Tu propósito principal es redactar informes de viaje atractivos, perspicaces, imparciales y bien estructurados sobre ubicaciones específicas, incluyendo historia, atracciones y conocimientos culturales.',\n",
       " 'pregunta_usuario': 'Qué puedo hacer en la Isla de Margarita?'}"
      ]
     },
     "execution_count": 72,
     "metadata": {},
     "output_type": "execute_result"
    }
   ],
   "execution_count": 72
  },
  {
   "metadata": {
    "ExecuteTime": {
     "end_time": "2024-10-23T23:48:37.251522Z",
     "start_time": "2024-10-23T23:48:37.247938Z"
    }
   },
   "cell_type": "code",
   "source": [
    "# Verifiquemos si respuesta_llm es un diccionario\n",
    "print(type(respuesta_llm))"
   ],
   "id": "e433195ea9be4f19",
   "outputs": [
    {
     "name": "stdout",
     "output_type": "stream",
     "text": [
      "<class 'dict'>\n"
     ]
    }
   ],
   "execution_count": 73
  },
  {
   "metadata": {},
   "cell_type": "markdown",
   "source": "### 2. Cadena de Búsqueda en la Web",
   "id": "81d1fa5c9d7cdab1"
  },
  {
   "metadata": {
    "ExecuteTime": {
     "end_time": "2024-10-23T23:48:37.413148Z",
     "start_time": "2024-10-23T23:48:37.408049Z"
    }
   },
   "cell_type": "code",
   "source": [
    "instrucciones_busqueda_web = \"\"\"\n",
    "{instrucciones_asistente}\n",
    "\n",
    "Escribe {num_consultas_busqueda} consultas de búsqueda web para recopilar la mayor cantidad de información posible \n",
    "sobre la siguiente pregunta: {pregunta_usuario}. Tu objetivo es escribir un informe basado en la información que encuentres.\n",
    "Debes responder con una lista de consultas como consulta1, consulta2, consulta3 en el siguiente formato: \n",
    "[\n",
    "    {{\"consulta_busqueda\": \"consulta1\", \"pregunta_usuario\": \"{pregunta_usuario}\" }},\n",
    "    {{\"consulta_busqueda\": \"consulta2\", \"pregunta_usuario\": \"{pregunta_usuario}\" }},\n",
    "    {{\"consulta_busqueda\": \"consulta3\", \"pregunta_usuario\": \"{pregunta_usuario}\" }}\n",
    "]\n",
    "\"\"\"\n",
    "\n",
    "plantilla_busqueda_web = PromptTemplate.from_template(\n",
    "    template=instrucciones_busqueda_web\n",
    ")"
   ],
   "id": "3c7aed934cbc635e",
   "outputs": [],
   "execution_count": 74
  },
  {
   "metadata": {
    "ExecuteTime": {
     "end_time": "2024-10-23T23:48:37.498550Z",
     "start_time": "2024-10-23T23:48:37.493999Z"
    }
   },
   "cell_type": "code",
   "source": [
    "from langchain.schema.output_parser import StrOutputParser\n",
    "from langchain.schema.runnable import RunnableLambda\n",
    " \n",
    "NUMERO_CONSULTAS_BUSQUEDA = 2\n",
    " \n",
    "cadena_busqueda_web = (\n",
    "    RunnableLambda(lambda x:\n",
    "        {\n",
    "            'instrucciones_asistente': x['instrucciones_asistente'],\n",
    "            'num_consultas_busqueda': NUMERO_CONSULTAS_BUSQUEDA,\n",
    "            'pregunta_usuario': x['pregunta_usuario']\n",
    "        }\n",
    "    )\n",
    "    | plantilla_busqueda_web | llm | StrOutputParser() | RunnableLambda(json.loads)\n",
    ")"
   ],
   "id": "474361bf73db8ff4",
   "outputs": [],
   "execution_count": 75
  },
  {
   "metadata": {
    "ExecuteTime": {
     "end_time": "2024-10-23T23:48:39.290423Z",
     "start_time": "2024-10-23T23:48:37.518329Z"
    }
   },
   "cell_type": "code",
   "source": [
    "# Hagamos una prueba de la nueva cadena\n",
    "\n",
    "string_instruccion_asistente = '{\\n    \"tipo_asistente\": \"Asistente de guía turístico\",\\n    \"instrucciones_asistente\": \"Eres un asistente de guía turístico con experiencia global. Tu propósito principal es redactar informes de viaje atractivos, perspicaces, imparciales y bien estructurados sobre ubicaciones específicas, incluyendo historia, atracciones y conocimientos culturales.\",\\n    \"pregunta_usuario\": \"Qué puedo hacer en la Isla de Margarita?\"\\n}'\n",
    "\n",
    "dict_instruccion_asistente = json.loads(string_instruccion_asistente)\n",
    "lista_busquedas_web = cadena_busqueda_web.invoke(dict_instruccion_asistente)\n",
    " \n",
    "lista_busquedas_web\n"
   ],
   "id": "ecd69dc1c1adecfa",
   "outputs": [
    {
     "data": {
      "text/plain": [
       "[{'consulta_busqueda': 'actividades turísticas Isla de Margarita',\n",
       "  'pregunta_usuario': 'Qué puedo hacer en la Isla de Margarita?'},\n",
       " {'consulta_busqueda': 'atracciones y cosas que hacer en Isla de Margarita',\n",
       "  'pregunta_usuario': 'Qué puedo hacer en la Isla de Margarita?'},\n",
       " {'consulta_busqueda': 'guía de viaje Isla de Margarita',\n",
       "  'pregunta_usuario': 'Qué puedo hacer en la Isla de Margarita?'}]"
      ]
     },
     "execution_count": 76,
     "metadata": {},
     "output_type": "execute_result"
    }
   ],
   "execution_count": 76
  },
  {
   "metadata": {},
   "cell_type": "markdown",
   "source": [
    "### 3. Cadena de Búsqueda y Resumen\n",
    "<br /> <br />\n",
    "Como es más complicadas, la vamos a dividir en subcadenas más pequeñas:\n",
    "<br /> <br />\n",
    "- Subcadena de URLs de resultados de búsqueda\n",
    "- Subcadena de Texto y Resumen de los resultados de búsqueda\n",
    "- Subcadena de Búsqueda y Resumen\n"
   ],
   "id": "73f0772afae2e734"
  },
  {
   "metadata": {
    "ExecuteTime": {
     "end_time": "2024-10-23T23:48:39.393367Z",
     "start_time": "2024-10-23T23:48:39.388927Z"
    }
   },
   "cell_type": "code",
   "source": [
    "# Función de búsqueda en la web\n",
    "from langchain_community.utilities import DuckDuckGoSearchAPIWrapper\n",
    "from typing import List\n",
    " \n",
    "def web_search(web_query: str, num_results: int) -> List[str]:\n",
    "    return [r[\"link\"] for r in DuckDuckGoSearchAPIWrapper().results(web_query, num_results)]"
   ],
   "id": "a456e1c5ee32d220",
   "outputs": [],
   "execution_count": 77
  },
  {
   "metadata": {},
   "cell_type": "markdown",
   "source": "***3.1 Subcadena de URLs de resultados de búsqueda***",
   "id": "319148946160bed2"
  },
  {
   "metadata": {
    "ExecuteTime": {
     "end_time": "2024-10-23T23:48:39.439704Z",
     "start_time": "2024-10-23T23:48:39.435005Z"
    }
   },
   "cell_type": "code",
   "source": [
    "from langchain.schema.runnable import RunnableLambda\n",
    " \n",
    "NUM_RESULTADOS_POR_CONSULTA = 3\n",
    " \n",
    "cadena_urls_resultados_busquedas = (\n",
    "    RunnableLambda(lambda x: \n",
    "        [\n",
    "            {\n",
    "                'url_resultado': url, \n",
    "                'consulta_busqueda': x['consulta_busqueda'],\n",
    "                'pregunta_usuario': x['pregunta_usuario']\n",
    "            }\n",
    "            for url in web_search(web_query=x['consulta_busqueda'], \n",
    "                                  num_results=NUM_RESULTADOS_POR_CONSULTA)\n",
    "        ]\n",
    "    )\n",
    ")"
   ],
   "id": "b70d4be456cec585",
   "outputs": [],
   "execution_count": 78
  },
  {
   "metadata": {
    "ExecuteTime": {
     "end_time": "2024-10-23T23:48:41.096778Z",
     "start_time": "2024-10-23T23:48:39.481903Z"
    }
   },
   "cell_type": "code",
   "source": [
    "# Vamos a probar la cadena de URLs de resultados de búsqueda\n",
    "str_busqueda_web = '{\"consulta_busqueda\": \"historias y cultura de la Isla de Margarita atracciones recomendadas\", \"pregunta_usuario\": \"Qué puedo hacer en la Isla de Margarita?\"}'\n",
    "\n",
    "dict_busqueda_web = json.loads(str_busqueda_web)\n",
    "\n",
    "lista_urls_resultados_busquedas = cadena_urls_resultados_busquedas.invoke(dict_busqueda_web)\n",
    "\n",
    "lista_urls_resultados_busquedas"
   ],
   "id": "2e593a86ed256bad",
   "outputs": [
    {
     "data": {
      "text/plain": [
       "[{'url_resultado': 'https://oistevos.com/isla-margarita/',\n",
       "  'consulta_busqueda': 'historias y cultura de la Isla de Margarita atracciones recomendadas',\n",
       "  'pregunta_usuario': 'Qué puedo hacer en la Isla de Margarita?'},\n",
       " {'url_resultado': 'https://www.01centralamerica.com/america_central/turismo/isla-margarita-venezuela/',\n",
       "  'consulta_busqueda': 'historias y cultura de la Isla de Margarita atracciones recomendadas',\n",
       "  'pregunta_usuario': 'Qué puedo hacer en la Isla de Margarita?'},\n",
       " {'url_resultado': 'https://itinerariosai.com/itinerary/itinerario-en-isla-de-margarita-5-días',\n",
       "  'consulta_busqueda': 'historias y cultura de la Isla de Margarita atracciones recomendadas',\n",
       "  'pregunta_usuario': 'Qué puedo hacer en la Isla de Margarita?'}]"
      ]
     },
     "execution_count": 79,
     "metadata": {},
     "output_type": "execute_result"
    }
   ],
   "execution_count": 79
  },
  {
   "metadata": {},
   "cell_type": "markdown",
   "source": "***3.2 Subcadena de Texto y Resumen de los resultados de búsqueda***",
   "id": "afe3e7c35fb78c0c"
  },
  {
   "metadata": {
    "ExecuteTime": {
     "end_time": "2024-10-23T23:48:41.140296Z",
     "start_time": "2024-10-23T23:48:41.135049Z"
    }
   },
   "cell_type": "code",
   "source": [
    "# Herramienta de web scraping\n",
    "\n",
    "import requests\n",
    "from bs4 import BeautifulSoup\n",
    " \n",
    "def web_scrape(url: str) -> str:\n",
    "    try:\n",
    "        response = requests.get(url)\n",
    " \n",
    "        if response.status_code == 200:\n",
    "            soup = BeautifulSoup(response.text, \"html.parser\")\n",
    "            page_text = soup.get_text(separator=\" \", strip=True)\n",
    " \n",
    "            return page_text\n",
    "        else:\n",
    "            return f\"No se pudo recuperar la página web: Código {response.status_code}\"\n",
    "    except Exception as e:\n",
    "        print(e)\n",
    "        return f\"No se pudo recuperar la página web: {e}\""
   ],
   "id": "b018da930c876fc4",
   "outputs": [],
   "execution_count": 80
  },
  {
   "metadata": {
    "ExecuteTime": {
     "end_time": "2024-10-23T23:48:41.181026Z",
     "start_time": "2024-10-23T23:48:41.177158Z"
    }
   },
   "cell_type": "code",
   "source": [
    "instrucciones_resumen = \"\"\"\n",
    "Lee el siguiente texto:\n",
    "Texto: {texto_resultado_busqueda}\n",
    "\n",
    "-----------\n",
    "\n",
    "Usando el texto anterior, responde brevemente la siguiente pregunta.\n",
    "Pregunta: {consulta_busqueda}\n",
    "\n",
    "Si no puedes responder la pregunta anterior usando el texto proporcionado, simplemente resume el texto.\n",
    "\n",
    "Incluye toda la información factual, números, estadísticas, etc., si están disponibles.\n",
    "\"\"\"\n",
    "\n",
    "plantilla_resumen = PromptTemplate.from_template(\n",
    "    template=instrucciones_resumen\n",
    ")"
   ],
   "id": "8b664c9f9086fa7c",
   "outputs": [],
   "execution_count": 81
  },
  {
   "metadata": {
    "ExecuteTime": {
     "end_time": "2024-10-23T23:48:41.225417Z",
     "start_time": "2024-10-23T23:48:41.219584Z"
    }
   },
   "cell_type": "code",
   "source": [
    "from langchain.schema.output_parser import StrOutputParser\n",
    "from langchain.schema.runnable import RunnableLambda, RunnableParallel\n",
    "\n",
    " \n",
    "MAXIMO_CARACTERES_TEXTO_RESULTADO = 10000\n",
    " \n",
    "cadena_resumen_busqueda = (\n",
    "    RunnableLambda(lambda x:\n",
    "        {\n",
    "            'texto_resultado_busqueda': web_scrape(url=x['url_resultado'])[:MAXIMO_CARACTERES_TEXTO_RESULTADO],\n",
    "            'url_resultado': x['url_resultado'], \n",
    "            'consulta_busqueda': x['consulta_busqueda'],\n",
    "            'pregunta_usuario': x['pregunta_usuario']\n",
    "        }\n",
    "    )\n",
    "    | RunnableParallel (\n",
    "        {\n",
    "            'resumen_texto': plantilla_resumen | llm | StrOutputParser(),\n",
    "            'url_resultado': lambda x: x['url_resultado'],\n",
    "            'pregunta_usuario': lambda x: x['pregunta_usuario']            \n",
    "        }\n",
    "    )\n",
    "    | RunnableLambda(lambda x: \n",
    "        {\n",
    "            'resumen': f\"Fuente Url: {x['url_resultado']}\\nResumen: {x['resumen_texto']}\",\n",
    "            'pregunta_usuario': x['pregunta_usuario']\n",
    "        }\n",
    "    ) \n",
    ")"
   ],
   "id": "eaf1f2cff341f8ed",
   "outputs": [],
   "execution_count": 82
  },
  {
   "metadata": {
    "ExecuteTime": {
     "end_time": "2024-10-23T23:48:44.181556Z",
     "start_time": "2024-10-23T23:48:41.265926Z"
    }
   },
   "cell_type": "code",
   "source": [
    "# Vamos a probar la cadena de texto y resumen de los resultados de búsqueda\n",
    "\n",
    "dict_url_resultado = lista_urls_resultados_busquedas[0]\n",
    "\n",
    "resumen_resultado_busqueda = cadena_resumen_busqueda.invoke(dict_url_resultado)\n",
    "\n",
    "resumen_resultado_busqueda"
   ],
   "id": "ff4d8fb158748f47",
   "outputs": [
    {
     "data": {
      "text/plain": [
       "{'resumen': 'Fuente Url: https://oistevos.com/isla-margarita/\\nResumen: La Isla Margarita, conocida como la Perla del Caribe, tiene una rica historia que se remonta a la época precolombina, habitada por los indígenas guaiqueríes. Su importancia aumentó con la llegada de Cristóbal Colón en 1498, convirtiéndose en un centro de comercio y defensa. Durante la época colonial, la isla fue escenario de enfrentamientos entre españoles y piratas, lo que ha dejado una profunda influencia en su cultura, visible en su arquitectura, tradiciones y festividades. Pueblos como La Asunción y Juan Griego son recomendados para quienes desean explorar esta herencia histórica.\\n\\nEn cuanto a las atracciones, Isla Margarita es famosa por sus playas, como Playa El Agua, Playa Parguito y Playa Manzanillo. Además, cuenta con parques nacionales como el Parque Nacional Laguna de La Restinga y el Cerro El Copey, ideales para actividades al aire libre. Para quienes buscan aventura, se ofrecen deportes acuáticos como buceo y snorkel en lugares como el Parque Nacional Los Frailes. La isla también es conocida por su gastronomía, con platos tradicionales como el cazón y el pastel de chucho, y es un paraíso para las compras debido a su estatus de zona libre de impuestos.',\n",
       " 'pregunta_usuario': 'Qué puedo hacer en la Isla de Margarita?'}"
      ]
     },
     "execution_count": 83,
     "metadata": {},
     "output_type": "execute_result"
    }
   ],
   "execution_count": 83
  },
  {
   "metadata": {
    "ExecuteTime": {
     "end_time": "2024-10-23T23:48:44.277632Z",
     "start_time": "2024-10-23T23:48:44.273120Z"
    }
   },
   "cell_type": "code",
   "source": [
    "from langchain.schema.output_parser import StrOutputParser\n",
    "from langchain.schema.runnable import RunnableLambda\n",
    " \n",
    "cadena_busqueda_resumen = (\n",
    "    cadena_urls_resultados_busquedas \n",
    "    | cadena_resumen_busqueda.map() # parallelize for each url\n",
    "    | RunnableLambda(lambda x: \n",
    "        {\n",
    "            'resumen': '\\n'.join([i['resumen'] for i in x]), \n",
    "            'pregunta_usuario': x[0]['pregunta_usuario'] if len(x) > 0 else ''\n",
    "        })\n",
    ")"
   ],
   "id": "68f4f6b25cfa154b",
   "outputs": [],
   "execution_count": 84
  },
  {
   "metadata": {
    "ExecuteTime": {
     "end_time": "2024-10-23T23:48:50.155Z",
     "start_time": "2024-10-23T23:48:44.333146Z"
    }
   },
   "cell_type": "code",
   "source": [
    "# Vamos a probar la cadena de búsqueda y resumen\n",
    "cadena_busqueda_resumen.invoke(dict_busqueda_web)"
   ],
   "id": "72b764d1ce7c0d16",
   "outputs": [
    {
     "data": {
      "text/plain": [
       "{'resumen': 'Fuente Url: https://oistevos.com/isla-margarita/\\nResumen: La Isla Margarita, conocida como la Perla del Caribe, tiene una rica historia que se remonta a la época precolombina, habitada por los indígenas guaiqueríes. Con la llegada de Cristóbal Colón en 1498, se convirtió en un centro de comercio y defensa. Durante la época colonial, la isla fue escenario de enfrentamientos entre españoles y piratas, lo que ha dejado una profunda influencia en su cultura, reflejada en su arquitectura, tradiciones y festividades. Pueblos como La Asunción y Juan Griego son destacados para explorar esta herencia histórica.\\n\\nEn cuanto a las atracciones recomendadas, Isla Margarita ofrece playas espectaculares como Playa El Agua, Playa Parguito y Playa Manzanillo, cada una con su propio encanto. También cuenta con parques nacionales y reservas naturales, como el Parque Nacional Laguna de La Restinga y el Cerro El Copey, ideales para explorar la biodiversidad y realizar senderismo. \\n\\nPara actividades, se destacan los deportes acuáticos como buceo y snorkel, especialmente en el Parque Nacional Los Frailes. Isla Margarita es un destino versátil, adecuado tanto para familias como para parejas, con opciones de alojamiento que varían desde resorts de lujo hasta hostales acogedores.\\nFuente Url: https://itinerariosai.com/itinerary/itinerario-en-isla-de-margarita-5-días\\nResumen: El texto no proporciona información específica sobre las historias y cultura de la Isla de Margarita ni sobre atracciones recomendadas. Solo menciona que se trata de un itinerario de 5 días en la isla. \\n\\nSi necesitas más información sobre la Isla de Margarita, puedo ayudarte a buscar detalles sobre su cultura y atracciones.\\nFuente Url: https://www.01centralamerica.com/america_central/turismo/isla-margarita-venezuela/\\nResumen: La Isla Margarita, ubicada al noreste de Venezuela en el Mar Caribe, es conocida por su clima cálido, playas de arena blanca y una rica mezcla cultural que incluye influencias española, africana y aborigen. Su historia se remonta a 1498, cuando fue descubierta por Cristóbal Colón. \\n\\nEntre las atracciones recomendadas se incluyen:\\n\\n1. **Playa El Agua**: Famosa por su arena dorada y deportes acuáticos.\\n2. **Parque Nacional Laguna de La Restinga**: Con una biodiversidad notable y posibilidades de exploración en bote.\\n3. **El Valle del Espíritu Santo**: Hogar de la Basílica de Nuestra Señora del Valle, un importante centro de peregrinación.\\n4. **Castillo de San Carlos de Borromeo**: Fortificación del siglo XVII en Pampatar, con vistas panorámicas y un museo de historia.\\n5. **Pueblos coloniales**: Pampatar, La Asunción y Juan Griego, donde se pueden experimentar la cultura local y comprar artesanías.\\n\\nLa isla ofrece una superficie de aproximadamente 1.020 km² y es un destino accesible para viajeros de todo el mundo, combinando historia, cultura y actividades recreativas como golf, windsurf y buceo.',\n",
       " 'pregunta_usuario': 'Qué puedo hacer en la Isla de Margarita?'}"
      ]
     },
     "execution_count": 85,
     "metadata": {},
     "output_type": "execute_result"
    }
   ],
   "execution_count": 85
  },
  {
   "metadata": {},
   "cell_type": "markdown",
   "source": "### 4. Cadena de Reporte Final de Investigación",
   "id": "54d62c6445a6d9c"
  },
  {
   "metadata": {
    "ExecuteTime": {
     "end_time": "2024-10-23T23:48:50.243874Z",
     "start_time": "2024-10-23T23:48:50.239663Z"
    }
   },
   "cell_type": "code",
   "source": [
    " #Prompt de informe de investigación adaptado de https://github.com/assafelovic/gpt-researcher/blob/master/gpt_researcher/master/prompts.py\n",
    "\n",
    "instrucciones_informe_investigacion = \"\"\"\n",
    "Eres un asistente de investigación de pensamiento crítico impulsado por IA. Tu único propósito es escribir informes bien redactados, aclamados críticamente, objetivos y estructurados sobre el texto proporcionado.\n",
    "\n",
    "Información: \n",
    "--------\n",
    "{resumen_investigacion}\n",
    "--------\n",
    "\n",
    "Usando la información anterior, responde la siguiente pregunta o tema: \"{pregunta_usuario}\" en un informe detallado -- \\\n",
    "El informe debe centrarse en la respuesta a la pregunta, estar bien estructurado, ser informativo, \\\n",
    "profundo, con hechos y cifras si están disponibles, y tener un mínimo de 1,200 palabras.\n",
    "\n",
    "Debes esforzarte por escribir el informe lo más extenso posible utilizando toda la información relevante y necesaria proporcionada.\n",
    "Debes escribir el informe con sintaxis de markdown.\n",
    "DEBES determinar tu propia opinión concreta y válida basada en la información proporcionada. NO infieras conclusiones generales y sin sentido.\n",
    "Escribe todas las URLs de las fuentes utilizadas al final del informe y asegúrate de no agregar fuentes duplicadas, solo una referencia por cada una.\n",
    "Debes escribir el informe en formato APA.\"\"\"\n",
    " \n",
    "plantilla_informe_investigacion = PromptTemplate.from_template(\n",
    "    template=instrucciones_informe_investigacion\n",
    ")"
   ],
   "id": "9ca5e1162850aae1",
   "outputs": [],
   "execution_count": 86
  },
  {
   "metadata": {
    "ExecuteTime": {
     "end_time": "2024-10-23T23:48:50.289063Z",
     "start_time": "2024-10-23T23:48:50.284134Z"
    }
   },
   "cell_type": "code",
   "source": [
    "cadena_investigacion_web = (\n",
    "    cadena_instrucciones_asistente \n",
    "    | cadena_busqueda_web \n",
    "    | cadena_busqueda_resumen.map() # corre cada consulta en paralelo\n",
    "    | RunnableLambda(lambda x:\n",
    "       {\n",
    "           'resumen_investigacion': '\\n\\n'.join([i['resumen'] for i in x]),\n",
    "           'pregunta_usuario': x[0]['pregunta_usuario'] if len(x) > 0 else ''\n",
    "        })\n",
    "    | plantilla_informe_investigacion | llm | StrOutputParser()\n",
    ")"
   ],
   "id": "6cbc4927eb3dc620",
   "outputs": [],
   "execution_count": 87
  },
  {
   "metadata": {
    "ExecuteTime": {
     "end_time": "2024-10-23T23:49:28.496790Z",
     "start_time": "2024-10-23T23:48:50.331300Z"
    }
   },
   "cell_type": "code",
   "source": [
    "# Vamos a probar la cadena final\n",
    "\n",
    "reporte_investigacion = cadena_investigacion_web.invoke(\"Qué puedo hacer en la Isla de Margarita?\")\n",
    "\n",
    "reporte_investigacion"
   ],
   "id": "4643a613044a73ec",
   "outputs": [
    {
     "data": {
      "text/plain": [
       "'# Qué Puedo Hacer en la Isla de Margarita: Un Informe Detallado\\n\\nLa Isla de Margarita, conocida como la \"Perla del Caribe\", es un destino turístico que combina belleza natural, historia rica y cultura vibrante. Su ubicación en el mar Caribe la convierte en un lugar ideal para disfrutar de una amplia variedad de actividades, desde relajarse en sus playas de arena blanca hasta explorar sus parques nacionales y disfrutar de su gastronomía local. Este informe detalla las diversas actividades que los visitantes pueden realizar en la Isla de Margarita en 2023, basándose en varias fuentes de información.\\n\\n## 1. Disfrutar de las Playas\\n\\n### Playa El Agua\\n\\nPlaya El Agua es una de las playas más emblemáticas de la isla, con aproximadamente 4 kilómetros de arena dorada y aguas turquesas. Este lugar es ideal para quienes buscan relajarse, tomar el sol o practicar deportes acuáticos como el windsurf y el kitesurf. A lo largo de la playa, se pueden encontrar numerosos bares y restaurantes que ofrecen comidas y bebidas refrescantes.\\n\\n### Playa Parguito\\n\\nConocida por sus excelentes condiciones para el surf, Playa Parguito es un lugar de encuentro para surfistas de todos los niveles. Sus olas son perfectas para practicar este deporte, y la atmósfera es animada y amigable. Además, la playa ofrece un entorno natural impresionante, lo que la convierte en un destino atractivo para los amantes del mar.\\n\\n### Playa Manzanillo\\n\\nPara aquellos que buscan un ambiente más tranquilo, Playa Manzanillo es la opción perfecta. Esta playa menos concurrida es ideal para relajarse y disfrutar de la belleza natural sin el bullicio de las playas más populares. Es un lugar ideal para familias y parejas que desean un espacio más privado.\\n\\n## 2. Actividades de Deportes Acuáticos\\n\\nLa Isla de Margarita es un paraíso para los amantes de los deportes acuáticos. Las aguas cristalinas y la rica vida marina hacen de este destino un lugar ideal para practicar diversas actividades acuáticas.\\n\\n### Snorkel y Buceo\\n\\nLas excursiones de snorkel y buceo son muy populares en la isla, especialmente en áreas como el Parque Nacional Los Frailes y el Parque Nacional Laguna de La Restinga. Aquí, los visitantes pueden explorar los arrecifes de coral y observar una variedad de especies marinas, incluyendo peces tropicales, tortugas y otras criaturas del océano.\\n\\n### Paseos en Catamarán y Kayak\\n\\nLos paseos en catamarán son una forma emocionante de explorar las aguas que rodean la isla. Muchos operadores turísticos ofrecen excursiones que incluyen paradas en playas privadas y lugares de snorkel. Además, el kayak es una actividad popular en las tranquilas aguas de La Restinga, donde los visitantes pueden navegar por los canales de manglares y disfrutar de la biodiversidad del parque.\\n\\n## 3. Exploración de Parques Nacionales\\n\\n### Parque Nacional Laguna de La Restinga\\n\\nEste parque nacional es famoso por su biodiversidad y su impresionante paisaje de manglares. Los visitantes pueden realizar excursiones en bote guiadas a través de los canales, donde pueden observar aves exóticas y aprender sobre la flora y fauna local. La laguna es un ecosistema vital que alberga una variedad de especies y es un lugar imperdible para los amantes de la naturaleza.\\n\\n### Cerro El Copey\\n\\nPara los entusiastas del senderismo, el Cerro El Copey ofrece rutas que brindan vistas panorámicas de la isla y sus alrededores. Este parque nacional es un excelente lugar para observar la flora nativa y disfrutar de un contacto más cercano con la naturaleza.\\n\\n## 4. Atracciones Históricas y Culturales\\n\\nLa Isla de Margarita no solo se destaca por sus playas y actividades acuáticas, sino también por su rica historia y cultura.\\n\\n### Castillo de San Carlos de Borromeo\\n\\nEsta fortificación del siglo XVII, ubicada en Pampatar, es un símbolo histórico de la isla. Ofrece vistas impresionantes del Mar Caribe y alberga un museo donde los visitantes pueden aprender sobre la historia de la isla y su importancia estratégica en el pasado.\\n\\n### Basílica de Nuestra Señora del Valle\\n\\nSituada en El Valle del Espíritu Santo, esta basílica es un importante centro de peregrinación y un hermoso ejemplo de arquitectura religiosa. Los visitantes pueden explorar la iglesia y aprender sobre su historia y su significado para la comunidad local.\\n\\n### Pueblos Coloniales\\n\\nLa Isla de Margarita cuenta con varios pueblos coloniales, como Pampatar, La Asunción y Juan Griego. Estos lugares ofrecen un vistazo a la historia colonial de la isla, con calles adoquinadas, arquitectura tradicional y mercados de artesanía donde los visitantes pueden adquirir recuerdos únicos.\\n\\n## 5. Gastronomía Local\\n\\nLa cocina de la Isla de Margarita es un reflejo de su cultura y tradiciones. Los visitantes no deben perderse la oportunidad de probar platos típicos que destacan la riqueza de los ingredientes locales.\\n\\n### Platos Típicos\\n\\nEntre los platos que se deben probar se encuentran el pabellón criollo, arepas margariteñas, empanadas margariteñas, y dulces de coco. Estos platos son una parte esencial de la experiencia gastronómica en la isla y se pueden encontrar en numerosos restaurantes y puestos de comida local.\\n\\n### Mercados Locales\\n\\nVisitar los mercados locales es una excelente manera de experimentar la cultura de la isla. Aquí, los visitantes pueden degustar productos frescos, comprar artesanías y disfrutar de la hospitalidad de los residentes locales.\\n\\n## 6. Compras\\n\\nLa Isla de Margarita es conocida por ser una zona libre de impuestos, lo que la convierte en un destino atractivo para las compras. Los visitantes pueden encontrar una amplia variedad de productos, desde ropa y electrónica hasta artesanías y souvenirs.\\n\\n### Centros Comerciales\\n\\nEl Centro Comercial Sambil Margarita y otros centros comerciales en Porlamar ofrecen una experiencia de compras completa, con tiendas que van desde marcas internacionales hasta boutiques locales. Esto permite a los turistas adquirir productos a precios competitivos.\\n\\n## 7. Vida Nocturna\\n\\nLa vida nocturna en la Isla de Margarita es vibrante y diversa. Pampatar es el centro de la diversión nocturna, con una amplia gama de restaurantes, bares y discotecas.\\n\\n### Restaurantes y Bares\\n\\nLos visitantes pueden disfrutar de una cena en uno de los muchos restaurantes que ofrecen cocina local e internacional, seguidos de una noche de baile en una de las discotecas de la isla. La atmósfera es animada y acogedora, lo que la convierte en una gran opción para quienes buscan disfrutar de la vida nocturna.\\n\\n## Conclusiones\\n\\nLa Isla de Margarita es un destino turístico versátil que ofrece una amplia gama de actividades para todos los gustos. Desde sus impresionantes playas y deportes acuáticos hasta su rica historia y cultura, hay algo para cada tipo de viajero. La gastronomía local, las oportunidades de compras y la vibrante vida nocturna complementan la experiencia, haciendo de la Isla de Margarita un lugar ideal para unas vacaciones inolvidables.\\n\\nLos visitantes que planeen viajar a la Isla de Margarita en 2023 encontrarán un destino repleto de actividades emocionantes y lugares por explorar, todo en un entorno natural impresionante y acogedor. La mejor época para visitar la isla es de diciembre a abril, cuando el clima es más favorable y las condiciones son ideales para disfrutar de todas las actividades que la isla tiene para ofrecer.\\n\\n### Referencias\\n\\n- https://hostalcc.es/guia-para-disfrutar-al-maximo-de-margarita-en-2023/\\n- https://www.dviaje.com.ve/margarita/\\n- https://oistevos.com/isla-margarita/\\n- https://www.01centralamerica.com/america_central/turismo/isla-margarita-venezuela/\\n- https://www.ldhoteles.com/guia-de-viaje-para-la-isla-de-margarita\\n- https://itinerariosai.com/itinerary/itinerario-en-isla-de-margarita-5-días'"
      ]
     },
     "execution_count": 88,
     "metadata": {},
     "output_type": "execute_result"
    }
   ],
   "execution_count": 88
  },
  {
   "metadata": {
    "ExecuteTime": {
     "end_time": "2024-10-23T23:49:28.566400Z",
     "start_time": "2024-10-23T23:49:28.564529Z"
    }
   },
   "cell_type": "code",
   "source": "",
   "id": "14661b0a691b91b2",
   "outputs": [],
   "execution_count": null
  }
 ],
 "metadata": {
  "kernelspec": {
   "display_name": "Python 3",
   "language": "python",
   "name": "python3"
  },
  "language_info": {
   "codemirror_mode": {
    "name": "ipython",
    "version": 2
   },
   "file_extension": ".py",
   "mimetype": "text/x-python",
   "name": "python",
   "nbconvert_exporter": "python",
   "pygments_lexer": "ipython2",
   "version": "2.7.6"
  }
 },
 "nbformat": 4,
 "nbformat_minor": 5
}

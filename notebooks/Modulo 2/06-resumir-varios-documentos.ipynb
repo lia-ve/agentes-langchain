{
 "cells": [
  {
   "metadata": {},
   "cell_type": "markdown",
   "source": "# Resumir varios documentos",
   "id": "b1c002f8f6415280"
  },
  {
   "metadata": {},
   "cell_type": "markdown",
   "source": [
    "## Instalación de paquetes\n",
    "Si estás corriendo este notebook en Google Colab, corre la siguiente celda para instalar los paquetes necesarios."
   ],
   "id": "68a95f6410e1cee8"
  },
  {
   "cell_type": "code",
   "id": "initial_id",
   "metadata": {
    "collapsed": true,
    "ExecuteTime": {
     "end_time": "2024-11-24T14:11:44.143514Z",
     "start_time": "2024-11-24T14:11:44.139675Z"
    }
   },
   "source": "# %pip install langchain langchain_community langchain_openai",
   "outputs": [],
   "execution_count": 1
  },
  {
   "metadata": {
    "ExecuteTime": {
     "end_time": "2024-11-24T14:11:44.170614Z",
     "start_time": "2024-11-24T14:11:44.154099Z"
    }
   },
   "cell_type": "code",
   "source": [
    "# Corre esta celda solo si tienes un archivo .env configurado\n",
    "from dotenv import load_dotenv\n",
    "load_dotenv()"
   ],
   "id": "d48a36892b082650",
   "outputs": [
    {
     "data": {
      "text/plain": [
       "True"
      ]
     },
     "execution_count": 2,
     "metadata": {},
     "output_type": "execute_result"
    }
   ],
   "execution_count": 2
  },
  {
   "metadata": {},
   "cell_type": "markdown",
   "source": [
    "Puedes resumir fácilmente información de varias fuentes de datos, como Wikipedia o archivos locales en formatos de Microsoft Word, PDF y texto. Para generar un solo resumen de diversos documentos utilizaremos la técnica ***Refine***, que consiste en construir el resumen final refinándolo gradualmente con cada fragmento del documento, similar al enfoque map-reduce que vimos en el laboratorio pasado.\n",
    " <br /> <br /> <br /> \n",
    "El proceso de Refine se lleva a cabo de la siguiente manera:<br /> <br /> \n",
    "\n",
    "1. Dividir los documentos en fragmentos pequeños (por ejemplo, de 3,000 tokens).<br /> <br /> \n",
    "2. Inicializar un resumen vacío o un borrador inicial del resumen final.<br /> <br /> \n",
    "3. Iterar sobre cada fragmento de documento:<br /> <br /> \n",
    "    1. Enviar el fragmento actual y el resumen existente al modelo de lenguaje (LLM).\n",
    "    2. El LLM genera un nuevo resumen que integra y mejora el anterior, incorporando la información del fragmento actual.\n",
    "    3. Actualizar el resumen final con este nuevo resumen refinado.<br /> <br /> \n",
    "4. Repetir el paso 3 hasta procesar todos los fragmentos.<br /> <br /> \n",
    "5. Obtener un resumen final que captura la información esencial de todos los documentos."
   ],
   "id": "88a77dc827b68898"
  },
  {
   "metadata": {},
   "cell_type": "markdown",
   "source": "## Carga de documentos",
   "id": "7b45dd9205dfa8e7"
  },
  {
   "metadata": {
    "ExecuteTime": {
     "end_time": "2024-11-24T14:11:45.909462Z",
     "start_time": "2024-11-24T14:11:45.906466Z"
    }
   },
   "cell_type": "code",
   "source": [
    "# Instala los paquetes necesarios para los Loaders\n",
    "# %pip install wikipedia docx2txt pypdf"
   ],
   "id": "1a3dc6c36573ad6",
   "outputs": [],
   "execution_count": 3
  },
  {
   "metadata": {
    "ExecuteTime": {
     "end_time": "2024-11-24T14:11:50.505549Z",
     "start_time": "2024-11-24T14:11:46.285863Z"
    }
   },
   "cell_type": "code",
   "source": [
    "from langchain.document_loaders import WikipediaLoader\n",
    " \n",
    "wikipedia_loader = WikipediaLoader(query=\"Pueblo Añú\", load_max_docs=2)\n",
    "wikipedia_docs = wikipedia_loader.load()"
   ],
   "id": "8588e4a2a287a644",
   "outputs": [],
   "execution_count": 4
  },
  {
   "metadata": {
    "ExecuteTime": {
     "end_time": "2024-11-24T14:11:51.057119Z",
     "start_time": "2024-11-24T14:11:50.511692Z"
    }
   },
   "cell_type": "code",
   "source": [
    "from langchain.document_loaders import Docx2txtLoader\n",
    "from langchain.document_loaders import PyPDFLoader\n",
    "from langchain.document_loaders import TextLoader\n",
    "from langchain_core.output_parsers import StrOutputParser\n",
    " \n",
    "word_loader = Docx2txtLoader(\"../../datasets/anu/pueblo_anu.docx\")\n",
    "word_docs = word_loader.load()\n",
    " \n",
    "pdf_loader = PyPDFLoader(\"../../datasets/anu/pautas-crianza-pueblo-anu-venezuela_reducido.pdf\")\n",
    "pdf_docs = pdf_loader.load()\n",
    " \n",
    "txt_loader = TextLoader(\"../../datasets/anu/pueblo_anu.txt\")\n",
    "txt_docs = txt_loader.load()"
   ],
   "id": "e6a83778c79f3812",
   "outputs": [],
   "execution_count": 5
  },
  {
   "metadata": {
    "ExecuteTime": {
     "end_time": "2024-11-24T14:11:52.044948Z",
     "start_time": "2024-11-24T14:11:52.040159Z"
    }
   },
   "cell_type": "code",
   "source": "len(wikipedia_docs), len(word_docs), len(pdf_docs), len(txt_docs)",
   "id": "926c9dd1168bda3e",
   "outputs": [
    {
     "data": {
      "text/plain": [
       "(2, 1, 5, 1)"
      ]
     },
     "execution_count": 6,
     "metadata": {},
     "output_type": "execute_result"
    }
   ],
   "execution_count": 6
  },
  {
   "metadata": {},
   "cell_type": "markdown",
   "source": [
    "El framework de LangChain ofrece numerosos Loaders (cargadores) para recuperar contenido de diversas fuentes de datos. Te animo a explorar la lista y a experimentar con otros Loaders:\n",
    "\n",
    "https://python.langchain.com/docs/integrations/document_loaders"
   ],
   "id": "b6da55ae62850aea"
  },
  {
   "metadata": {
    "ExecuteTime": {
     "end_time": "2024-11-24T14:11:53.137673Z",
     "start_time": "2024-11-24T14:11:53.134598Z"
    }
   },
   "cell_type": "code",
   "source": [
    "# Ahora con los documentos cargados, podemos consolidarla en una sola\n",
    "all_docs = wikipedia_docs + word_docs + pdf_docs + txt_docs"
   ],
   "id": "e5a16d0d239be1c5",
   "outputs": [],
   "execution_count": 7
  },
  {
   "metadata": {},
   "cell_type": "markdown",
   "source": "## Implementación de Refine",
   "id": "b7d48e7a5682cc6e"
  },
  {
   "metadata": {
    "ExecuteTime": {
     "end_time": "2024-11-24T14:11:54.670155Z",
     "start_time": "2024-11-24T14:11:54.181587Z"
    }
   },
   "cell_type": "code",
   "source": [
    "import os\n",
    "from langchain_openai import ChatOpenAI\n",
    "from langchain_core.prompts import PromptTemplate"
   ],
   "id": "e10e253a5f638102",
   "outputs": [],
   "execution_count": 8
  },
  {
   "metadata": {
    "ExecuteTime": {
     "end_time": "2024-11-24T14:11:54.748271Z",
     "start_time": "2024-11-24T14:11:54.675168Z"
    }
   },
   "cell_type": "code",
   "source": [
    "llm = ChatOpenAI(\n",
    "    model=os.getenv(\"MODEL\"),\n",
    "    openai_api_key=os.getenv(\"LIA_API_KEY\"),\n",
    "    openai_api_base=os.getenv(\"LIA_API_BASE\"),\n",
    "    temperature=0.6,\n",
    ")"
   ],
   "id": "6f87145264c107f3",
   "outputs": [],
   "execution_count": 9
  },
  {
   "metadata": {
    "ExecuteTime": {
     "end_time": "2024-11-24T14:11:54.939377Z",
     "start_time": "2024-11-24T14:11:54.935842Z"
    }
   },
   "cell_type": "code",
   "source": [
    "# Ahora, define la cadena, con el prompt correspondiente, para resumir documentos individuales\n",
    "plantilla_resumen_doc = \"\"\"Escribe un resumen conciso del siguiente texto:\n",
    "{texto}\n",
    "RESUMEN DEL TEXTO:\"\"\"\n",
    "prompt_resumen_doc = PromptTemplate.from_template(plantilla_resumen_doc)\n",
    " \n",
    "cadena_resumen_doc = prompt_resumen_doc | llm"
   ],
   "id": "14f3f1e1d879f797",
   "outputs": [],
   "execution_count": 10
  },
  {
   "metadata": {
    "ExecuteTime": {
     "end_time": "2024-11-24T14:11:55.410177Z",
     "start_time": "2024-11-24T14:11:55.406675Z"
    }
   },
   "cell_type": "code",
   "source": [
    "plantilla_resumen_refinado = \"\"\"\n",
    "Debes producir un resumen final a partir del resumen refinado actual \n",
    "que se ha generado hasta ahora y a partir del contenido de un documento adicional.\n",
    "Este es el resumen refinado actual generado hasta ahora: {resumen_refinado_actual}\n",
    "Este es el contenido del documento adicional: {texto}\n",
    "Utiliza solo el contenido del documento adicional si es útil, \n",
    "de lo contrario, devuelve el resumen completo actual tal como está.\"\"\"\n",
    " \n",
    "prompt_resumen_refinado = PromptTemplate.from_template(plantilla_resumen_refinado)\n",
    " \n",
    "cadena_refinado = prompt_resumen_refinado | llm | StrOutputParser()"
   ],
   "id": "b71d8683a96b477f",
   "outputs": [],
   "execution_count": 11
  },
  {
   "metadata": {},
   "cell_type": "markdown",
   "source": "Finalmente, define una función que recorra cada documento, lo resuma usando el `doc_summary_chain`, y refine el resumen general utilizando el `refine_chain`:",
   "id": "23756c67b066f223"
  },
  {
   "metadata": {
    "ExecuteTime": {
     "end_time": "2024-11-24T14:11:56.526247Z",
     "start_time": "2024-11-24T14:11:56.522929Z"
    }
   },
   "cell_type": "code",
   "source": [
    "def refinar_resumen(docs):\n",
    " \n",
    "    pasos_intermedios = []\n",
    "    resumen_refinado_actual = ''\n",
    "    for doc in docs:\n",
    "        intermediate_step = \\\n",
    "           {\"resumen_refinado_actual\": resumen_refinado_actual, \n",
    "            \"texto\": doc.page_content}\n",
    "        pasos_intermedios.append(intermediate_step)\n",
    "        \n",
    "        resumen_refinado_actual = cadena_refinado.invoke(intermediate_step)\n",
    "        \n",
    "    return {\"resumen_final\": resumen_refinado_actual,\n",
    "            \"pasos_intermedios\": pasos_intermedios}"
   ],
   "id": "84e692c48e6d7590",
   "outputs": [],
   "execution_count": 12
  },
  {
   "metadata": {
    "ExecuteTime": {
     "end_time": "2024-11-24T14:14:06.178269Z",
     "start_time": "2024-11-24T14:11:56.892320Z"
    }
   },
   "cell_type": "code",
   "source": [
    "# Ahora, ejecuta la función para obtener el resumen final\n",
    "resumen_final = refinar_resumen(all_docs)"
   ],
   "id": "2dc423070ac85d21",
   "outputs": [],
   "execution_count": 13
  },
  {
   "metadata": {
    "ExecuteTime": {
     "end_time": "2024-11-24T14:14:06.236524Z",
     "start_time": "2024-11-24T14:14:06.232663Z"
    }
   },
   "cell_type": "code",
   "source": "resumen_final[\"resumen_final\"]",
   "id": "c96f3a2a02552598",
   "outputs": [
    {
     "data": {
      "text/plain": [
       "'**Resumen final:**\\n\\nLa clasificación de grupos étnicos ha sido objeto de constante debate, ya que su membresía se asocia a menudo con la ascendencia compartida, la historia, el territorio, el idioma y la herencia cultural. Esta herencia cultural incluye aspectos como la religión, la mitología, los rituales, la gastronomía y el estilo de vestimenta. Los grupos étnicos suelen dividirse en subgrupos, y su identificación como grupos étnicos independientes puede variar según la fuente consultada.\\n\\nSe presentan diversas listas de grupos étnicos contemporáneos que incluyen: pueblos indígenas, diásporas y naciones sin estado, así como listas regionales que abarcan grupos en Asia, África, Europa y otros lugares. Estas listas destacan la diversidad y la complejidad de las identidades étnicas a nivel global, reflejando la riqueza cultural y social de las distintas comunidades.\\n\\nLa respuesta indígena al colonialismo ha variado según el grupo, el periodo histórico, el territorio y los estados coloniales involucrados. Los pueblos indígenas han ejercido su agencia ante el colonialismo mediante resistencia armada, diplomacia y procedimientos legales, aunque muchos se han visto forzados a desplazarse a reservas o a asimilarse culturalmente en sociedades coloniales. A pesar de los atroces crímenes y genocidios sufridos, los pueblos indígenas han logrado sobrevivir y, en algunos casos, prosperar, representando una población de 476 millones en 90 países y hablando más de 5000 idiomas.\\n\\nEn las últimas décadas, la historiografía no indígena ha comenzado a prestar más atención a la agencia indígena, reconociendo su papel activo en la historia en lugar de verlos como objetos pasivos de políticas coloniales. Sin embargo, la lucha por la autodeterminación y el reconocimiento de sus derechos continúa, enfrentándose a la discriminación y a condiciones de pobreza en muchos de los países donde residen.\\n\\nUn ejemplo de un grupo indígena específico es el pueblo Añú, una de las poblaciones indígenas de Venezuela, que forma parte de los cinco pueblos aborígenes del Estado Zulia. Su nombre significa \"Gente de agua\" o \"Gente del mar\", y se encuentran principalmente en varios municipios del Estado Zulia, como Guajira y Mara. Aunque el término \"Paraujano\" ha prevalecido en el uso, en años recientes se ha promovido el uso de \"Añú\" como parte de un esfuerzo por reafirmar su identidad cultural. Según el censo de 2001, se censaron 11,205 individuos que se reconocen como Añú, aunque se estima que su población real podría ser de al menos 15,000.\\n\\nEl medio ambiente lacustre, caracterizado por ciénagas y mangles, influye en su vivencia social y cultural, destacándose por sus viviendas palafíticas y su estilo de vida acuático, que incluye el uso de canoas para desplazarse. Las actividades económicas de los indígenas Añú se centran principalmente en la pesca, que es la base de su alimentación y puede ser comercializada o conservada. La construcción de sus viviendas palafíticas, realizadas con mangle, refleja su adaptación al entorno lacustre.\\n\\nEl universo simbólico Añú está fuertemente relacionado con el agua y la laguna de Sinamaica, donde se atribuyen tanto el bienestar como el malestar. Las enfermedades son vistas a menudo como resultado de la ruptura de reglas relacionadas con el medio ambiente o el contacto con los muertos. La curación tradicional implica la ingestión de hierbas y rituales realizados por especialistas chamánicos.\\n\\nLa crianza y educación de los niños y niñas en la comunidad Añú es una labor fundamental que involucra a todos los integrantes de la sociedad. Este proceso se basa en pautas de crianza desarrolladas a lo largo de su historia y varía según el género y las etapas del crecimiento. La maternidad es valorada y las mujeres añú muestran su fuerza a través de ella, ya que tener hijos es fundamental para cumplir con el rol que la sociedad les asigna.\\n\\nLos Añú enfrentan múltiples amenazas a su existencia, como la fragilidad de su ecosistema, la pérdida progresiva de su lengua y cultura, y las precarias condiciones de vida. La contaminación del Lago de Maracaibo, resultado de la explotación petrolera, ha afectado su salud y sus prácticas económicas, especialmente la pesca. La lucha por la continuidad de sus modos de vida y prácticas culturales es esencial para su supervivencia.\\n\\nLa cultura Añú también se manifiesta en la cestería y en la construcción de viviendas palafíticas, que son consideradas patrimonio venezolano. Estos palafitos, construidos con madera de mangle y esteras de enea, reflejan un equilibrio con el ecosistema. La mitología Añú, rica en relatos sobre la creación y la muerte, resalta su conexión con el agua y el entorno natural, cimentando su identidad cultural.'"
      ]
     },
     "execution_count": 14,
     "metadata": {},
     "output_type": "execute_result"
    }
   ],
   "execution_count": 14
  },
  {
   "metadata": {},
   "cell_type": "code",
   "outputs": [],
   "execution_count": null,
   "source": "",
   "id": "47c57ec91381638"
  }
 ],
 "metadata": {
  "kernelspec": {
   "display_name": "Python 3",
   "language": "python",
   "name": "python3"
  },
  "language_info": {
   "codemirror_mode": {
    "name": "ipython",
    "version": 2
   },
   "file_extension": ".py",
   "mimetype": "text/x-python",
   "name": "python",
   "nbconvert_exporter": "python",
   "pygments_lexer": "ipython2",
   "version": "2.7.6"
  }
 },
 "nbformat": 4,
 "nbformat_minor": 5
}

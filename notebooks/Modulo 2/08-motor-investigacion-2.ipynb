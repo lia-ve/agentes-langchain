{
 "cells": [
  {
   "metadata": {},
   "cell_type": "markdown",
   "source": "# Motor de Investigación con LCEL",
   "id": "77b0b8637115ae98"
  },
  {
   "metadata": {},
   "cell_type": "markdown",
   "source": [
    "## Instalación de paquetes\n",
    "Si estás corriendo este notebook en Google Colab, corre la siguiente celda para instalar los paquetes necesarios."
   ],
   "id": "6cdcaf764c04a08c"
  },
  {
   "metadata": {
    "ExecuteTime": {
     "end_time": "2024-11-24T16:43:39.419616Z",
     "start_time": "2024-11-24T16:43:39.416288Z"
    }
   },
   "cell_type": "code",
   "source": "# %pip install langchain langchain_community langchain_openai duckduckgo-search\n",
   "id": "4d3156a6498eb4e8",
   "outputs": [],
   "execution_count": 1
  },
  {
   "metadata": {
    "ExecuteTime": {
     "end_time": "2024-11-24T16:43:39.469804Z",
     "start_time": "2024-11-24T16:43:39.427212Z"
    }
   },
   "cell_type": "code",
   "source": [
    "# Corre esta celda solo si tienes un archivo .env configurado\n",
    "from dotenv import load_dotenv\n",
    "from duckduckgo_search.utils import json_loads\n",
    "\n",
    "load_dotenv()"
   ],
   "id": "3338aa94f794030a",
   "outputs": [
    {
     "data": {
      "text/plain": [
       "True"
      ]
     },
     "execution_count": 2,
     "metadata": {},
     "output_type": "execute_result"
    }
   ],
   "execution_count": 2
  },
  {
   "metadata": {},
   "cell_type": "markdown",
   "source": [
    "Para quienes desarrollan aplicaciones con LLM, el uso de LCEL es altamente recomendado. Este permite interactuar con los LLM y modelos de chat de manera eficiente mediante la creación y ejecución de cadenas, proporcionando varios beneficios:\n",
    "\n",
    "- **Fallback**: Permite agregar una acción de respaldo para el manejo de errores.\n",
    "- **Ejecución en paralelo**: Ejecuta componentes de las cadenas de forma independiente y simultánea para mejorar el rendimiento.\n",
    "- **Modos de ejecución**: Soporta el desarrollo en modo síncrono y luego permite cambiar a modos de ejecución por streaming, por lotes o asincrónicos, según sea necesario.\n",
    "- **Rastreo con LangSmith**: Registra automáticamente los pasos de ejecución al actualizar a LangSmith, facilitando la depuración y el monitoreo.\n",
    "\n",
    "Una cadena sigue el protocolo `Runnable`, lo que significa que requiere la implementación de métodos específicos como `invoke()`, `stream()`, y `batch()`, incluidas sus versiones asincrónicas. El framework de LangChain asegura que sus componentes, como `PromptTemplate` y `JsonOutputFunctionsParser`, cumplan con estos estándares.\n",
    "\n",
    "Para obtener información detallada y ejemplos, te recomiendo visitar la documentación oficial de LCEL, especialmente las secciones de \"How To\" y \"Cookbook\": https://python.langchain.com/docs/expression_language/"
   ],
   "id": "a83c8155bccd2438"
  },
  {
   "metadata": {},
   "cell_type": "markdown",
   "source": [
    "## Arquitectura del motor de investigación con LCEL\n",
    "\n",
    "Básicamente, vamos reimplementar cada paso del motor de investigación como una minicadena usando LCEL. Luego estas minicadenas se ensamblarán en una gran cadena. <br /><br />\n",
    "\n",
    "Las minicadenas serán las siguientes:<br /><br />\n",
    "\n",
    "1. Cadena de Instrucciones de Asistente\n",
    "2. Cadena de Búsqueda en la Web\n",
    "3. Cadena de Búsqueda y Resumen\n",
    "4. Cadena de Reporte Final de Investigación\n",
    "<br /><br />\n",
    "Las 4 minicadenas componen la **Cadena de Investigación Web**."
   ],
   "id": "9927a34f15c58aa2"
  },
  {
   "cell_type": "code",
   "id": "initial_id",
   "metadata": {
    "collapsed": true,
    "ExecuteTime": {
     "end_time": "2024-11-24T16:43:40.733498Z",
     "start_time": "2024-11-24T16:43:39.679814Z"
    }
   },
   "source": [
    "# Reutilizamos la plantilla de instrucciones de asistente\n",
    "\n",
    "from langchain.prompts import PromptTemplate\n",
    "\n",
    "instrucciones_asistente_seleccion = \"\"\"\n",
    "Eres experto en asignar una pregunta de investigación al asistente de investigación correcto.\n",
    "Hay varios asistentes de investigación disponibles, cada uno especializado en un área de experiencia.\n",
    "Cada asistente está identificado por un tipo específico y tiene instrucciones específicas para llevar a cabo la investigación.\n",
    "\n",
    "Cómo seleccionar el asistente correcto: debes seleccionar el asistente relevante dependiendo del tema de la pregunta, que debe coincidir con el área de experiencia del asistente.\n",
    "\n",
    "------\n",
    "Aquí tienes algunos ejemplos de cómo devolver la información correcta del asistente, según la pregunta realizada.\n",
    "\n",
    "Ejemplos:\n",
    "Pregunta: \"¿Debería invertir en títulos de cobertura?\"\n",
    "Respuesta: \n",
    "{{\n",
    "    \"tipo_asistente\": \"Asistente analista financiero\",\n",
    "    \"instrucciones_asistente\": \"Eres un asistente de inteligencia artificial experto en análisis financiero. Tu objetivo principal es elaborar informes financieros completos, perspicaces, imparciales y organizados metódicamente basados en los datos y tendencias proporcionados.\",\n",
    "    \"pregunta_usuario\": {pregunta_usuario}\n",
    "}}\n",
    "Pregunta: \"¿Cuáles son los sitios más interesantes en Río de Janeiro?\"\n",
    "Respuesta: \n",
    "{{\n",
    "    \"tipo_asistente\": \"Asistente de guía turístico\",\n",
    "    \"instrucciones_asistente\": \"Eres un asistente de guía turístico con experiencia global. Tu propósito principal es redactar informes de viaje atractivos, perspicaces, imparciales y bien estructurados sobre ubicaciones específicas, incluyendo historia, atracciones y conocimientos culturales.\",\n",
    "    \"pregunta_usuario\": \"{pregunta_usuario}\"\n",
    "}}\n",
    "\n",
    "Pregunta: \"¿Es Messi un buen jugador de fútbol?\"\n",
    "Respuesta: \n",
    "{{\n",
    "    \"tipo_asistente\": \"Asistente experto en deportes\",\n",
    "    \"instrucciones_asistente\": \"Eres un asistente de inteligencia artificial especializado en deportes. Tu propósito principal es redactar informes deportivos atractivos, perspicaces, imparciales y bien estructurados sobre personalidades deportivas o eventos deportivos, incluyendo detalles factuales, estadísticas y análisis.\",\n",
    "    \"pregunta_usuario\": \"{pregunta_usuario}\"\n",
    "}}\n",
    "\n",
    "------\n",
    "Ahora que has entendido todo lo anterior, selecciona el asistente de investigación correcto para la siguiente pregunta.\n",
    "Pregunta: {pregunta_usuario}\n",
    "Respuesta:\n",
    "\n",
    "\"\"\" \n",
    "\n",
    "plantilla_asistente_seleccion = PromptTemplate.from_template(\n",
    "    template=instrucciones_asistente_seleccion\n",
    ")"
   ],
   "outputs": [],
   "execution_count": 3
  },
  {
   "metadata": {
    "ExecuteTime": {
     "end_time": "2024-11-24T16:43:41.328928Z",
     "start_time": "2024-11-24T16:43:40.746259Z"
    }
   },
   "cell_type": "code",
   "source": [
    "# Instanciamos el LLM\n",
    "import os\n",
    "from langchain_openai import ChatOpenAI\n",
    "\n",
    "llm = ChatOpenAI(\n",
    "    model=os.getenv(\"MODEL\"),\n",
    "    openai_api_key=os.getenv(\"LIA_API_KEY\"),\n",
    "    openai_api_base=os.getenv(\"LIA_API_BASE\"),\n",
    "    temperature=0.6,\n",
    ")"
   ],
   "id": "95814345b7975577",
   "outputs": [],
   "execution_count": 4
  },
  {
   "metadata": {},
   "cell_type": "markdown",
   "source": "### 1. Cadena de Instrucciones de Asistente",
   "id": "6e7fe801202a24cb"
  },
  {
   "metadata": {
    "ExecuteTime": {
     "end_time": "2024-11-24T16:43:41.343705Z",
     "start_time": "2024-11-24T16:43:41.336255Z"
    }
   },
   "cell_type": "code",
   "source": [
    "# Ahora construimos la cadena de instrucciones de asistente\n",
    "from langchain.schema.output_parser import StrOutputParser\n",
    "import json\n",
    " \n",
    "cadena_instrucciones_asistente = (\n",
    "    plantilla_asistente_seleccion |  llm | StrOutputParser()\n",
    ")"
   ],
   "id": "3b454aa756394bad",
   "outputs": [],
   "execution_count": 5
  },
  {
   "metadata": {
    "ExecuteTime": {
     "end_time": "2024-11-24T16:43:42.825284Z",
     "start_time": "2024-11-24T16:43:41.358576Z"
    }
   },
   "cell_type": "code",
   "source": [
    "# Hacemos una prueba rápida\n",
    "respuesta_llm = cadena_instrucciones_asistente.invoke(\"Qué puedo hacer en la Isla de Margarita?\")\n",
    "\n",
    "respuesta_llm"
   ],
   "id": "e655bb849fc4b19",
   "outputs": [
    {
     "data": {
      "text/plain": [
       "'{\\n    \"tipo_asistente\": \"Asistente de guía turístico\",\\n    \"instrucciones_asistente\": \"Eres un asistente de guía turístico con experiencia global. Tu propósito principal es redactar informes de viaje atractivos, perspicaces, imparciales y bien estructurados sobre ubicaciones específicas, incluyendo historia, atracciones y conocimientos culturales.\",\\n    \"pregunta_usuario\": \"Qué puedo hacer en la Isla de Margarita?\"\\n}'"
      ]
     },
     "execution_count": 6,
     "metadata": {},
     "output_type": "execute_result"
    }
   ],
   "execution_count": 6
  },
  {
   "metadata": {
    "ExecuteTime": {
     "end_time": "2024-11-24T16:43:42.840139Z",
     "start_time": "2024-11-24T16:43:42.835807Z"
    }
   },
   "cell_type": "code",
   "source": [
    "# Cadena mejorada\n",
    "\n",
    "from langchain.schema.runnable import RunnablePassthrough\n",
    "from langchain.schema.runnable import RunnableLambda\n",
    "\n",
    "\n",
    "cadena_instrucciones_asistente = (\n",
    "    {'pregunta_usuario': RunnablePassthrough()} |\n",
    "    plantilla_asistente_seleccion |  llm | StrOutputParser() | RunnableLambda(json.loads)\n",
    ")"
   ],
   "id": "58ad6ec756814d8f",
   "outputs": [],
   "execution_count": 7
  },
  {
   "metadata": {
    "ExecuteTime": {
     "end_time": "2024-11-24T16:43:44.051503Z",
     "start_time": "2024-11-24T16:43:42.868999Z"
    }
   },
   "cell_type": "code",
   "source": [
    "respuesta_llm = cadena_instrucciones_asistente.invoke(\"Qué puedo hacer en la Isla de Margarita?\")\n",
    "\n",
    "respuesta_llm"
   ],
   "id": "258939dd582d103b",
   "outputs": [
    {
     "data": {
      "text/plain": [
       "{'tipo_asistente': 'Asistente de guía turístico',\n",
       " 'instrucciones_asistente': 'Eres un asistente de guía turístico con experiencia global. Tu propósito principal es redactar informes de viaje atractivos, perspicaces, imparciales y bien estructurados sobre ubicaciones específicas, incluyendo historia, atracciones y conocimientos culturales.',\n",
       " 'pregunta_usuario': 'Qué puedo hacer en la Isla de Margarita?'}"
      ]
     },
     "execution_count": 8,
     "metadata": {},
     "output_type": "execute_result"
    }
   ],
   "execution_count": 8
  },
  {
   "metadata": {
    "ExecuteTime": {
     "end_time": "2024-11-24T16:43:44.061170Z",
     "start_time": "2024-11-24T16:43:44.058086Z"
    }
   },
   "cell_type": "code",
   "source": [
    "# Verifiquemos si respuesta_llm es un diccionario\n",
    "print(type(respuesta_llm))"
   ],
   "id": "e433195ea9be4f19",
   "outputs": [
    {
     "name": "stdout",
     "output_type": "stream",
     "text": [
      "<class 'dict'>\n"
     ]
    }
   ],
   "execution_count": 9
  },
  {
   "metadata": {},
   "cell_type": "markdown",
   "source": "### 2. Cadena de Búsqueda en la Web",
   "id": "81d1fa5c9d7cdab1"
  },
  {
   "metadata": {
    "ExecuteTime": {
     "end_time": "2024-11-24T16:43:44.104824Z",
     "start_time": "2024-11-24T16:43:44.101933Z"
    }
   },
   "cell_type": "code",
   "source": [
    "instrucciones_busqueda_web = \"\"\"\n",
    "{instrucciones_asistente}\n",
    "\n",
    "Escribe {num_consultas_busqueda} consultas de búsqueda web para recopilar la mayor cantidad de información posible \n",
    "sobre la siguiente pregunta: {pregunta_usuario}. Tu objetivo es escribir un informe basado en la información que encuentres.\n",
    "Debes responder con una lista de consultas como consulta1, consulta2, consulta3 en el siguiente formato: \n",
    "[\n",
    "    {{\"consulta_busqueda\": \"consulta1\", \"pregunta_usuario\": \"{pregunta_usuario}\" }},\n",
    "    {{\"consulta_busqueda\": \"consulta2\", \"pregunta_usuario\": \"{pregunta_usuario}\" }},\n",
    "    {{\"consulta_busqueda\": \"consulta3\", \"pregunta_usuario\": \"{pregunta_usuario}\" }}\n",
    "]\n",
    "\"\"\"\n",
    "\n",
    "plantilla_busqueda_web = PromptTemplate.from_template(\n",
    "    template=instrucciones_busqueda_web\n",
    ")"
   ],
   "id": "3c7aed934cbc635e",
   "outputs": [],
   "execution_count": 10
  },
  {
   "metadata": {
    "ExecuteTime": {
     "end_time": "2024-11-24T16:43:44.117678Z",
     "start_time": "2024-11-24T16:43:44.114488Z"
    }
   },
   "cell_type": "code",
   "source": [
    "from langchain.schema.output_parser import StrOutputParser\n",
    "from langchain.schema.runnable import RunnableLambda\n",
    " \n",
    "NUMERO_CONSULTAS_BUSQUEDA = 3\n",
    " \n",
    "cadena_busqueda_web = (\n",
    "    RunnableLambda(lambda x:\n",
    "        {\n",
    "            'instrucciones_asistente': x['instrucciones_asistente'],\n",
    "            'num_consultas_busqueda': NUMERO_CONSULTAS_BUSQUEDA,\n",
    "            'pregunta_usuario': x['pregunta_usuario']\n",
    "        }\n",
    "    )\n",
    "    | plantilla_busqueda_web | llm | StrOutputParser() | RunnableLambda(json.loads)\n",
    ")"
   ],
   "id": "474361bf73db8ff4",
   "outputs": [],
   "execution_count": 11
  },
  {
   "metadata": {
    "ExecuteTime": {
     "end_time": "2024-11-24T16:43:46.249595Z",
     "start_time": "2024-11-24T16:43:44.129631Z"
    }
   },
   "cell_type": "code",
   "source": [
    "# Hagamos una prueba de la nueva cadena\n",
    "\n",
    "string_instruccion_asistente = '{\\n    \"tipo_asistente\": \"Asistente de guía turístico\",\\n    \"instrucciones_asistente\": \"Eres un asistente de guía turístico con experiencia global. Tu propósito principal es redactar informes de viaje atractivos, perspicaces, imparciales y bien estructurados sobre ubicaciones específicas, incluyendo historia, atracciones y conocimientos culturales.\",\\n    \"pregunta_usuario\": \"Qué puedo hacer en la Isla de Margarita?\"\\n}'\n",
    "\n",
    "dict_instruccion_asistente = json.loads(string_instruccion_asistente)\n",
    "lista_busquedas_web = cadena_busqueda_web.invoke(dict_instruccion_asistente)\n",
    " \n",
    "lista_busquedas_web\n"
   ],
   "id": "ecd69dc1c1adecfa",
   "outputs": [
    {
     "data": {
      "text/plain": [
       "[{'consulta_busqueda': 'actividades turísticas Isla de Margarita',\n",
       "  'pregunta_usuario': 'Qué puedo hacer en la Isla de Margarita?'},\n",
       " {'consulta_busqueda': 'atracciones y lugares de interés Isla de Margarita',\n",
       "  'pregunta_usuario': 'Qué puedo hacer en la Isla de Margarita?'},\n",
       " {'consulta_busqueda': 'cultura y costumbres Isla de Margarita',\n",
       "  'pregunta_usuario': 'Qué puedo hacer en la Isla de Margarita?'}]"
      ]
     },
     "execution_count": 12,
     "metadata": {},
     "output_type": "execute_result"
    }
   ],
   "execution_count": 12
  },
  {
   "metadata": {},
   "cell_type": "markdown",
   "source": [
    "### 3. Cadena de Búsqueda y Resumen\n",
    "<br /> <br />\n",
    "Como es más complicadas, la vamos a dividir en subcadenas más pequeñas:\n",
    "<br /> <br />\n",
    "- Subcadena de URLs de resultados de búsqueda\n",
    "- Subcadena de Texto y Resumen de los resultados de búsqueda\n",
    "- Subcadena de Búsqueda y Resumen\n"
   ],
   "id": "73f0772afae2e734"
  },
  {
   "metadata": {
    "ExecuteTime": {
     "end_time": "2024-11-24T16:43:46.269951Z",
     "start_time": "2024-11-24T16:43:46.261933Z"
    }
   },
   "cell_type": "code",
   "source": [
    "# Función de búsqueda en la web\n",
    "from langchain_community.utilities import DuckDuckGoSearchAPIWrapper\n",
    "from typing import List\n",
    " \n",
    "def web_search(web_query: str, num_results: int) -> List[str]:\n",
    "    return [r[\"link\"] for r in DuckDuckGoSearchAPIWrapper().results(web_query, num_results)]"
   ],
   "id": "a456e1c5ee32d220",
   "outputs": [],
   "execution_count": 13
  },
  {
   "metadata": {},
   "cell_type": "markdown",
   "source": "***3.1 Subcadena de URLs de resultados de búsqueda***",
   "id": "319148946160bed2"
  },
  {
   "metadata": {
    "ExecuteTime": {
     "end_time": "2024-11-24T16:43:46.298747Z",
     "start_time": "2024-11-24T16:43:46.295165Z"
    }
   },
   "cell_type": "code",
   "source": [
    "from langchain.schema.runnable import RunnableLambda\n",
    " \n",
    "NUM_RESULTADOS_POR_CONSULTA = 3\n",
    " \n",
    "cadena_urls_resultados_busquedas = (\n",
    "    RunnableLambda(lambda x: \n",
    "        [\n",
    "            {\n",
    "                'url_resultado': url, \n",
    "                'consulta_busqueda': x['consulta_busqueda'],\n",
    "                'pregunta_usuario': x['pregunta_usuario']\n",
    "            }\n",
    "            for url in web_search(web_query=x['consulta_busqueda'], \n",
    "                                  num_results=NUM_RESULTADOS_POR_CONSULTA)\n",
    "        ]\n",
    "    )\n",
    ")"
   ],
   "id": "b70d4be456cec585",
   "outputs": [],
   "execution_count": 14
  },
  {
   "metadata": {
    "ExecuteTime": {
     "end_time": "2024-11-24T16:43:47.690193Z",
     "start_time": "2024-11-24T16:43:46.307225Z"
    }
   },
   "cell_type": "code",
   "source": [
    "# Vamos a probar la cadena de URLs de resultados de búsqueda\n",
    "str_busqueda_web = '{\"consulta_busqueda\": \"historias y cultura de la Isla de Margarita atracciones recomendadas\", \"pregunta_usuario\": \"Qué puedo hacer en la Isla de Margarita?\"}'\n",
    "\n",
    "dict_busqueda_web = json.loads(str_busqueda_web)\n",
    "\n",
    "lista_urls_resultados_busquedas = cadena_urls_resultados_busquedas.invoke(dict_busqueda_web)\n",
    "\n",
    "lista_urls_resultados_busquedas"
   ],
   "id": "2e593a86ed256bad",
   "outputs": [
    {
     "data": {
      "text/plain": [
       "[{'url_resultado': 'https://oistevos.com/isla-margarita/',\n",
       "  'consulta_busqueda': 'historias y cultura de la Isla de Margarita atracciones recomendadas',\n",
       "  'pregunta_usuario': 'Qué puedo hacer en la Isla de Margarita?'},\n",
       " {'url_resultado': 'https://www.01centralamerica.com/america_central/turismo/isla-margarita-venezuela/',\n",
       "  'consulta_busqueda': 'historias y cultura de la Isla de Margarita atracciones recomendadas',\n",
       "  'pregunta_usuario': 'Qué puedo hacer en la Isla de Margarita?'},\n",
       " {'url_resultado': 'https://www.lugaresturisticos.org/atractivos-turisticos-de-la-isla-de-margarita/',\n",
       "  'consulta_busqueda': 'historias y cultura de la Isla de Margarita atracciones recomendadas',\n",
       "  'pregunta_usuario': 'Qué puedo hacer en la Isla de Margarita?'}]"
      ]
     },
     "execution_count": 15,
     "metadata": {},
     "output_type": "execute_result"
    }
   ],
   "execution_count": 15
  },
  {
   "metadata": {},
   "cell_type": "markdown",
   "source": "***3.2 Subcadena de Texto y Resumen de los resultados de búsqueda***",
   "id": "afe3e7c35fb78c0c"
  },
  {
   "metadata": {
    "ExecuteTime": {
     "end_time": "2024-11-24T16:43:47.786845Z",
     "start_time": "2024-11-24T16:43:47.706676Z"
    }
   },
   "cell_type": "code",
   "source": [
    "# Herramienta de web scraping\n",
    "\n",
    "import requests\n",
    "from bs4 import BeautifulSoup\n",
    " \n",
    "def web_scrape(url: str) -> str:\n",
    "    try:\n",
    "        response = requests.get(url)\n",
    " \n",
    "        if response.status_code == 200:\n",
    "            soup = BeautifulSoup(response.text, \"html.parser\")\n",
    "            page_text = soup.get_text(separator=\" \", strip=True)\n",
    " \n",
    "            return page_text\n",
    "        else:\n",
    "            return f\"No se pudo recuperar la página web: Código {response.status_code}\"\n",
    "    except Exception as e:\n",
    "        print(e)\n",
    "        return f\"No se pudo recuperar la página web: {e}\""
   ],
   "id": "b018da930c876fc4",
   "outputs": [],
   "execution_count": 16
  },
  {
   "metadata": {
    "ExecuteTime": {
     "end_time": "2024-11-24T16:43:47.803031Z",
     "start_time": "2024-11-24T16:43:47.800566Z"
    }
   },
   "cell_type": "code",
   "source": [
    "instrucciones_resumen = \"\"\"\n",
    "Lee el siguiente texto:\n",
    "Texto: {texto_resultado_busqueda}\n",
    "\n",
    "-----------\n",
    "\n",
    "Usando el texto anterior, responde brevemente la siguiente pregunta.\n",
    "Pregunta: {consulta_busqueda}\n",
    "\n",
    "Si no puedes responder la pregunta anterior usando el texto proporcionado, simplemente resume el texto.\n",
    "\n",
    "Incluye toda la información factual, números, estadísticas, etc., si están disponibles.\n",
    "\"\"\"\n",
    "\n",
    "plantilla_resumen = PromptTemplate.from_template(\n",
    "    template=instrucciones_resumen\n",
    ")"
   ],
   "id": "8b664c9f9086fa7c",
   "outputs": [],
   "execution_count": 17
  },
  {
   "metadata": {
    "ExecuteTime": {
     "end_time": "2024-11-24T16:43:47.819936Z",
     "start_time": "2024-11-24T16:43:47.815986Z"
    }
   },
   "cell_type": "code",
   "source": [
    "from langchain.schema.output_parser import StrOutputParser\n",
    "from langchain.schema.runnable import RunnableLambda, RunnableParallel\n",
    "\n",
    " \n",
    "MAXIMO_CARACTERES_TEXTO_RESULTADO = 10000\n",
    " \n",
    "cadena_resumen_busqueda = (\n",
    "    RunnableLambda(lambda x:\n",
    "        {\n",
    "            'texto_resultado_busqueda': web_scrape(url=x['url_resultado'])[:MAXIMO_CARACTERES_TEXTO_RESULTADO],\n",
    "            'url_resultado': x['url_resultado'], \n",
    "            'consulta_busqueda': x['consulta_busqueda'],\n",
    "            'pregunta_usuario': x['pregunta_usuario']\n",
    "        }\n",
    "    )\n",
    "    | RunnableParallel (\n",
    "        {\n",
    "            'resumen_texto': plantilla_resumen | llm | StrOutputParser(),\n",
    "            'url_resultado': lambda x: x['url_resultado'],\n",
    "            'pregunta_usuario': lambda x: x['pregunta_usuario']            \n",
    "        }\n",
    "    )\n",
    "    | RunnableLambda(lambda x: \n",
    "        {\n",
    "            'resumen': f\"Fuente Url: {x['url_resultado']}\\nResumen: {x['resumen_texto']}\",\n",
    "            'pregunta_usuario': x['pregunta_usuario']\n",
    "        }\n",
    "    ) \n",
    ")"
   ],
   "id": "eaf1f2cff341f8ed",
   "outputs": [],
   "execution_count": 18
  },
  {
   "metadata": {
    "ExecuteTime": {
     "end_time": "2024-11-24T16:43:51.462334Z",
     "start_time": "2024-11-24T16:43:47.833648Z"
    }
   },
   "cell_type": "code",
   "source": [
    "# Vamos a probar la cadena de texto y resumen de los resultados de búsqueda\n",
    "\n",
    "dict_url_resultado = lista_urls_resultados_busquedas[0]\n",
    "\n",
    "resumen_resultado_busqueda = cadena_resumen_busqueda.invoke(dict_url_resultado)\n",
    "\n",
    "resumen_resultado_busqueda"
   ],
   "id": "ff4d8fb158748f47",
   "outputs": [
    {
     "data": {
      "text/plain": [
       "{'resumen': 'Fuente Url: https://oistevos.com/isla-margarita/\\nResumen: La Isla Margarita, conocida como la Perla del Caribe, tiene una rica historia que se remonta a la época precolombina, habitada por los indígenas guaiqueríes. Con la llegada de Cristóbal Colón en 1498, la isla se convirtió en un centro de comercio y defensa. Durante la época colonial, la isla fue escenario de enfrentamientos entre españoles y piratas, lo que ha dejado un legado cultural que se refleja en su arquitectura y tradiciones.\\n\\nEntre las atracciones recomendadas para explorar su historia y cultura se encuentran los pueblos de La Asunción y Juan Griego, que son destinos imperdibles para sumergirse en la historia colonial de la isla. Además, Isla Margarita ofrece una variedad de actividades, como excursiones y deportes acuáticos en lugares como el Parque Nacional Los Frailes. Para quienes buscan un ambiente más relajado, hay opciones de playas tranquilas como Playa Manzanillo.\\n\\nIsla Margarita es un destino versátil que se adapta a todo tipo de viajeros, con actividades para familias y parejas, y una amplia gama de opciones de alojamiento.',\n",
       " 'pregunta_usuario': 'Qué puedo hacer en la Isla de Margarita?'}"
      ]
     },
     "execution_count": 19,
     "metadata": {},
     "output_type": "execute_result"
    }
   ],
   "execution_count": 19
  },
  {
   "metadata": {
    "ExecuteTime": {
     "end_time": "2024-11-24T16:43:51.483622Z",
     "start_time": "2024-11-24T16:43:51.479172Z"
    }
   },
   "cell_type": "code",
   "source": [
    "from langchain.schema.output_parser import StrOutputParser\n",
    "from langchain.schema.runnable import RunnableLambda\n",
    " \n",
    "cadena_busqueda_resumen = (\n",
    "    cadena_urls_resultados_busquedas \n",
    "    | cadena_resumen_busqueda.map() # parallelize for each url\n",
    "    | RunnableLambda(lambda x: \n",
    "        {\n",
    "            'resumen': '\\n'.join([i['resumen'] for i in x]), \n",
    "            'pregunta_usuario': x[0]['pregunta_usuario'] if len(x) > 0 else ''\n",
    "        })\n",
    ")"
   ],
   "id": "68f4f6b25cfa154b",
   "outputs": [],
   "execution_count": 20
  },
  {
   "metadata": {
    "ExecuteTime": {
     "end_time": "2024-11-24T16:44:00.073432Z",
     "start_time": "2024-11-24T16:43:51.503577Z"
    }
   },
   "cell_type": "code",
   "source": [
    "# Vamos a probar la cadena de búsqueda y resumen\n",
    "cadena_busqueda_resumen.invoke(dict_busqueda_web)"
   ],
   "id": "72b764d1ce7c0d16",
   "outputs": [
    {
     "data": {
      "text/plain": [
       "{'resumen': 'Fuente Url: https://hospedamargarita.com/descubre-la-isla-de-margarita-historia-cultura-y-recreacion-en-el-caribe-venezolano/\\nResumen: No se puede responder a la pregunta sobre las historias, cultura y atracciones recomendadas de la Isla de Margarita utilizando el texto proporcionado, ya que este solo informa sobre un error de acceso a una página web (Código 403). \\n\\nResumen del texto: No se pudo recuperar la página web debido a un error de acceso, indicado por el Código 403.\\nFuente Url: https://www.01centralamerica.com/america_central/turismo/isla-margarita-venezuela/\\nResumen: La Isla Margarita, ubicada al noreste de Venezuela, fue descubierta en 1498 por Cristóbal Colón y ha sido influenciada por diversas culturas, incluyendo la española, africana y aborigen. Esta mezcla cultural se refleja en su arquitectura colonial, tradiciones y gastronomía. \\n\\nEntre las atracciones recomendadas se encuentran:\\n\\n1. **Playa El Agua**: Con aproximadamente 4 kilómetros de arena dorada, es ideal para relajarse y practicar deportes acuáticos.\\n2. **Parque Nacional Laguna de La Restinga**: Destacado por su biodiversidad y manglares, donde los visitantes pueden explorar en bote.\\n3. **El Valle del Espíritu Santo**: Alberga la Basílica de Nuestra Señora del Valle, un importante centro de peregrinación.\\n4. **Castillo de San Carlos de Borromeo**: Una fortificación del siglo XVII que ofrece vistas panorámicas y alberga un museo.\\n5. **Pueblos coloniales**: Pampatar, La Asunción y Juan Griego, donde los visitantes pueden disfrutar de la cultura local y mercados de artesanía.\\n\\nIsla Margarita ofrece una diversidad geográfica y una amplia gama de actividades recreativas, como golf y deportes acuáticos, lo que la convierte en un destino turístico atractivo.\\nFuente Url: https://www.lugaresturisticos.org/atractivos-turisticos-de-la-isla-de-margarita/\\nResumen: La Isla de Margarita, en el estado de Nueva Esparta, Venezuela, es un destino turístico que combina historia, cultura y belleza natural. Entre las atracciones recomendadas se encuentran:\\n\\n1. **Castillo de San Carlos de Borromeo**: Un sitio histórico del siglo XVII que ofrece vistas de la costa y cuenta la historia de la isla.\\n   \\n2. **Basílica de Nuestra Señora del Valle**: Un importante lugar religioso de estilo gótico, dedicado a la Virgen del Valle, que invita a la reflexión.\\n\\n3. **La Asunción y su Castillo de Santa Rosa**: La capital del estado, con casas coloniales y un castillo que protege la historia de la isla.\\n\\n4. **Juan Griego**: Conocido por sus espectaculares atardeceres y un ambiente tranquilo, ideal para disfrutar de la cultura local.\\n\\n5. **Parque Nacional Cerro El Copey**: Un espacio natural que ofrece senderismo y vistas panorámicas, representando el ecosistema diverso de la isla.\\n\\nLa isla también es conocida por su rica gastronomía, como las empanadas de cazón, y su compromiso con la conservación del entorno.',\n",
       " 'pregunta_usuario': 'Qué puedo hacer en la Isla de Margarita?'}"
      ]
     },
     "execution_count": 21,
     "metadata": {},
     "output_type": "execute_result"
    }
   ],
   "execution_count": 21
  },
  {
   "metadata": {},
   "cell_type": "markdown",
   "source": "### 4. Cadena de Reporte Final de Investigación",
   "id": "54d62c6445a6d9c"
  },
  {
   "metadata": {
    "ExecuteTime": {
     "end_time": "2024-11-24T16:44:00.093597Z",
     "start_time": "2024-11-24T16:44:00.089831Z"
    }
   },
   "cell_type": "code",
   "source": [
    " #Prompt de informe de investigación adaptado de https://github.com/assafelovic/gpt-researcher/blob/master/gpt_researcher/master/prompts.py\n",
    "\n",
    "instrucciones_informe_investigacion = \"\"\"\n",
    "Eres un asistente de investigación de pensamiento crítico impulsado por IA. Tu único propósito es escribir informes bien redactados, aclamados críticamente, objetivos y estructurados sobre el texto proporcionado.\n",
    "\n",
    "Información: \n",
    "--------\n",
    "{resumen_investigacion}\n",
    "--------\n",
    "\n",
    "Usando la información anterior, responde la siguiente pregunta o tema: \"{pregunta_usuario}\" en un informe detallado -- \\\n",
    "El informe debe centrarse en la respuesta a la pregunta, estar bien estructurado, ser informativo, \\\n",
    "profundo, con hechos y cifras si están disponibles, y tener un mínimo de 1,200 palabras.\n",
    "\n",
    "Debes esforzarte por escribir el informe lo más extenso posible utilizando toda la información relevante y necesaria proporcionada.\n",
    "Debes escribir el informe con sintaxis de markdown.\n",
    "DEBES determinar tu propia opinión concreta y válida basada en la información proporcionada. NO infieras conclusiones generales y sin sentido.\n",
    "Escribe todas las URLs de las fuentes utilizadas al final del informe y asegúrate de no agregar fuentes duplicadas, solo una referencia por cada una.\n",
    "Debes escribir el informe en formato APA.\"\"\"\n",
    " \n",
    "plantilla_informe_investigacion = PromptTemplate.from_template(\n",
    "    template=instrucciones_informe_investigacion\n",
    ")"
   ],
   "id": "9ca5e1162850aae1",
   "outputs": [],
   "execution_count": 22
  },
  {
   "metadata": {
    "ExecuteTime": {
     "end_time": "2024-11-24T16:44:00.130216Z",
     "start_time": "2024-11-24T16:44:00.126186Z"
    }
   },
   "cell_type": "code",
   "source": [
    "cadena_investigacion_web = (\n",
    "    cadena_instrucciones_asistente \n",
    "    | cadena_busqueda_web \n",
    "    | cadena_busqueda_resumen.map() # corre cada consulta en paralelo\n",
    "    | RunnableLambda(lambda x:\n",
    "       {\n",
    "           'resumen_investigacion': '\\n\\n'.join([i['resumen'] for i in x]),\n",
    "           'pregunta_usuario': x[0]['pregunta_usuario'] if len(x) > 0 else ''\n",
    "        })\n",
    "    | plantilla_informe_investigacion | llm | StrOutputParser()\n",
    ")"
   ],
   "id": "6cbc4927eb3dc620",
   "outputs": [],
   "execution_count": 23
  },
  {
   "metadata": {
    "ExecuteTime": {
     "end_time": "2024-11-24T16:44:56.699839Z",
     "start_time": "2024-11-24T16:44:00.162162Z"
    }
   },
   "cell_type": "code",
   "source": [
    "# Vamos a probar la cadena final\n",
    "\n",
    "reporte_investigacion = cadena_investigacion_web.invoke(\"Qué puedo hacer en la Isla de Margarita?\")\n",
    "\n",
    "reporte_investigacion"
   ],
   "id": "4643a613044a73ec",
   "outputs": [
    {
     "data": {
      "text/plain": [
       "'# Qué puedo hacer en la Isla de Margarita\\n\\nLa Isla Margarita, ubicada en el estado de Nueva Esparta, Venezuela, es un destino turístico conocido por su belleza natural, rica historia y vibrante cultura. Con una superficie aproximada de 1,020 km² y un clima cálido durante todo el año, la isla ofrece una amplia variedad de actividades y atracciones para todos los gustos. A continuación, se presenta un informe detallado sobre las diversas actividades que los visitantes pueden disfrutar en este paraíso caribeño.\\n\\n## 1. Disfrutar de las Playas\\n\\nLas playas de Isla Margarita son uno de sus principales atractivos. Con más de 50 playas a lo largo de su costa, cada una ofrece una experiencia única:\\n\\n### 1.1 Playa El Agua\\n\\nPlaya El Agua es quizás la más famosa de la isla, extendiéndose por 4 kilómetros de arena blanca y aguas cristalinas. Es un lugar ideal para relajarse, tomar el sol o practicar deportes acuáticos como el windsurf y el kitesurf. A lo largo de la playa, los visitantes encontrarán numerosos restaurantes y bares, lo que la convierte en un lugar perfecto para pasar un día completo (Lugares Turísticos, n.d.).\\n\\n### 1.2 Playa Parguito\\n\\nConocida por sus olas, Playa Parguito es un destino popular entre los surfistas. Su ambiente juvenil y vibrante hace que sea un lugar perfecto para aquellos que buscan una experiencia más activa. A solo 20 minutos en auto desde Porlamar, es fácilmente accesible para los visitantes (01 Central America, n.d.).\\n\\n### 1.3 Playa Punta Arenas\\n\\nSituada en el extremo oeste de la isla, Punta Arenas es una playa más tranquila, ideal para aquellos que buscan un lugar para descansar y disfrutar de las impresionantes puestas de sol. A aproximadamente 1.5 horas en auto desde Porlamar, esta playa es perfecta para una escapada relajante (Lugares Turísticos, n.d.).\\n\\n### 1.4 Playa Manzanillo\\n\\nMás tranquila que otras playas, Manzanillo es ideal para familias y aquellos que prefieren un ambiente más sereno. Su belleza natural y la posibilidad de practicar snorkeling hacen de esta playa un destino atractivo para los amantes del mar.\\n\\n## 2. Exploración de Parques Nacionales\\n\\nLa Isla Margarita también cuenta con varios parques nacionales que ofrecen una rica biodiversidad y oportunidades para actividades al aire libre.\\n\\n### 2.1 Parque Nacional Laguna de La Restinga\\n\\nEste parque es un ecosistema de manglares que permite a los visitantes explorar la fauna y flora local. Se pueden realizar paseos en bote para observar aves exóticas y disfrutar de la tranquilidad de la naturaleza. Se encuentra a aproximadamente 40 minutos en auto desde Porlamar (Lugares Turísticos, n.d.).\\n\\n### 2.2 Parque Nacional Cerro El Copey\\n\\nIdeal para los amantes del senderismo, este parque ofrece rutas que llevan a los visitantes a disfrutar de vistas panorámicas de la isla. Con una vegetación variada y un clima fresco, Cerro El Copey es una excelente opción para quienes buscan escapar del calor del mar (01 Central America, n.d.).\\n\\n## 3. Atractivos Históricos y Culturales\\n\\nLa historia de la Isla Margarita está marcada por su descubrimiento por Cristóbal Colón en 1498 y su influencia de diversas culturas. Para aquellos interesados en la historia y la cultura, la isla ofrece varios sitios de interés:\\n\\n### 3.1 Castillo de San Carlos de Borromeo\\n\\nConstruido en el siglo XVII, este castillo se encuentra en Pampatar y ofrece una impresionante vista de la costa. Además de su valor histórico, alberga un museo que presenta artefactos de la época colonial. Se puede llegar en solo 15 minutos desde Porlamar (Lugares Turísticos, n.d.).\\n\\n### 3.2 Basílica de Nuestra Señora del Valle\\n\\nUbicada en El Valle del Espíritu Santo, esta basílica de estilo gótico es un importante centro de peregrinación. La arquitectura de la iglesia y su entorno tranquilo la convierten en un lugar ideal para la reflexión y la espiritualidad (01 Central America, n.d.).\\n\\n### 3.3 La Asunción y su Castillo de Santa Rosa\\n\\nComo capital del estado de Nueva Esparta, La Asunción ofrece un recorrido por su arquitectura colonial y su castillo histórico. A menos de 20 minutos de Porlamar, es un lugar perfecto para conocer más sobre la historia de la isla y disfrutar de su cultura (Lugares Turísticos, n.d.).\\n\\n## 4. Actividades Recreativas\\n\\nLa Isla Margarita no solo se limita a sus playas y su historia; también ofrece una variedad de actividades recreativas:\\n\\n### 4.1 Deportes Acuáticos\\n\\nLa isla es un paraíso para los amantes de los deportes acuáticos. Se pueden practicar actividades como el buceo, snorkeling, windsurf y kitesurf, aprovechando la rica vida marina y los arrecifes de coral que rodean la isla. Las excursiones en catamarán también son populares, ofreciendo a los visitantes la oportunidad de explorar las aguas cristalinas del Caribe (01 Central America, n.d.).\\n\\n### 4.2 Golf\\n\\nLos entusiastas del golf encontrarán varios campos en la isla que ofrecen vistas espectaculares y un ambiente tropical. Es una excelente manera de disfrutar del clima y la belleza natural mientras se practica este deporte (Lugares Turísticos, n.d.).\\n\\n### 4.3 Compras en Zonas Libres\\n\\nIsla Margarita es conocida por sus zonas libres de impuestos, lo que la convierte en un lugar ideal para comprar artesanías, productos internacionales y souvenirs. Los mercados locales en Pampatar y La Asunción son perfectos para disfrutar de la cultura local mientras se realizan compras (01 Central America, n.d.).\\n\\n## 5. Gastronomía Local\\n\\nLa gastronomía de la Isla Margarita es una mezcla de sabores caribeños y venezolanos. Probar la comida local es una parte esencial de la experiencia turística:\\n\\n### 5.1 Platos Típicos\\n\\nLos visitantes deben probar platos como el cazón (un tipo de tiburón) y el pastel de chucho (hecho con pescado). Estos platos reflejan la rica tradición culinaria de la isla y son una delicia para el paladar (01 Central America, n.d.).\\n\\n### 5.2 Restaurantes y Bares\\n\\nA lo largo de las playas y en los pueblos, hay una gran variedad de restaurantes y bares que ofrecen desde comida local hasta opciones internacionales. Disfrutar de una comida con vista al mar es una experiencia inolvidable en la isla.\\n\\n## 6. Consejos para los Visitantes\\n\\nPara disfrutar al máximo de la Isla Margarita, se recomienda:\\n\\n- **Explorar con calma**: La isla tiene mucho que ofrecer, así que tómese su tiempo para disfrutar de cada lugar.\\n- **Alquilar un auto**: Para mayor libertad y comodidad, alquilar un vehículo es una excelente opción para recorrer la isla.\\n- **Protegerse del sol**: Dada la intensidad del sol caribeño, es importante usar protector solar y mantenerse hidratado.\\n- **Respetar el entorno**: La biodiversidad de la isla es valiosa, así que es fundamental cuidar de la naturaleza y seguir las indicaciones en los parques (Lugares Turísticos, n.d.).\\n\\n## Conclusiones\\n\\nLa Isla Margarita es un destino turístico que combina naturaleza, historia, cultura y diversión. Con sus impresionantes playas, parques nacionales, sitios históricos y una rica oferta gastronómica, la isla se adapta a todo tipo de viajeros, desde familias hasta parejas en busca de una escapada romántica. Al planificar su visita, es recomendable considerar las diversas actividades y atracciones que la isla tiene para ofrecer, asegurando así una experiencia memorable en este hermoso rincón del Caribe.\\n\\n### Fuentes\\n\\n- Lugares Turísticos. (n.d.). Atractivos turísticos de la Isla de Margarita. Recuperado de [https://www.lugaresturisticos.org/atractivos-turisticos-de-la-isla-de-margarita/](https://www.lugaresturisticos.org/atractivos-turisticos-de-la-isla-de-margarita/)\\n- 01 Central America. (n.d.). Isla Margarita, Venezuela. Recuperado de [https://www.01centralamerica.com/america_central/turismo/isla-margarita-venezuela/](https://www.01centralamerica.com/america_central/turismo/isla-margarita-venezuela/)\\n- LD Hoteles. (n.d.). Guía de viaje para la Isla de Margarita. Recuperado de [https://www.ldhoteles.com/guia-de-viaje-para-la-isla-de-margarita](https://www.ldhoteles.com/guia-de-viaje-para-la-isla-de-margarita)\\n- Oiste Vos. (n.d.). Isla Margarita. Recuperado de [https://oistevos.com/isla-margarita/](https://oistevos.com/isla-margarita/)\\n- Hospeda Margarita. (n.d.). Descubre la Isla de Margarita: historia, cultura y recreación en el Caribe venezolano. Recuperado de [https://hospedamargarita.com/descubre-la-isla-de-margarita-historia-cultura-y-recreacion-en-el-caribe-venezolano/](https://hospedamargarita.com/descubre-la-isla-de-margarita-historia-cultura-y-recreacion-en-el-caribe-venezolano/)'"
      ]
     },
     "execution_count": 24,
     "metadata": {},
     "output_type": "execute_result"
    }
   ],
   "execution_count": 24
  },
  {
   "metadata": {
    "ExecuteTime": {
     "end_time": "2024-11-24T16:44:56.732832Z",
     "start_time": "2024-11-24T16:44:56.730911Z"
    }
   },
   "cell_type": "code",
   "source": "",
   "id": "14661b0a691b91b2",
   "outputs": [],
   "execution_count": null
  }
 ],
 "metadata": {
  "kernelspec": {
   "display_name": "Python 3",
   "language": "python",
   "name": "python3"
  },
  "language_info": {
   "codemirror_mode": {
    "name": "ipython",
    "version": 2
   },
   "file_extension": ".py",
   "mimetype": "text/x-python",
   "name": "python",
   "nbconvert_exporter": "python",
   "pygments_lexer": "ipython2",
   "version": "2.7.6"
  }
 },
 "nbformat": 4,
 "nbformat_minor": 5
}

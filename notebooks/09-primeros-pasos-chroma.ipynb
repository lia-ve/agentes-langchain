{
 "cells": [
  {
   "metadata": {},
   "cell_type": "markdown",
   "source": "# Primeros Pasos con Chroma DB",
   "id": "20987fb8ba9a2b36"
  },
  {
   "metadata": {},
   "cell_type": "markdown",
   "source": [
    "## Instalación de paquetes\n",
    "Si estás corriendo este notebook en Google Colab, corre la siguiente celda para instalar los paquetes necesarios."
   ],
   "id": "ceb4c7493f68e98"
  },
  {
   "cell_type": "code",
   "id": "initial_id",
   "metadata": {
    "collapsed": true
   },
   "source": "# %pip install langchain langchain_community langchain_openai chromadb",
   "outputs": [],
   "execution_count": null
  },
  {
   "metadata": {},
   "cell_type": "code",
   "source": [
    "# Importa el paquete chromadb y crea un cliente para la base de datos de vectores\n",
    "\n",
    "import chromadb\n",
    "chroma_client = chromadb.Client()"
   ],
   "id": "3695e713da9e288f",
   "outputs": [],
   "execution_count": null
  },
  {
   "metadata": {},
   "cell_type": "code",
   "source": [
    "# A continuación, crea una colección para almacenar el contenido sobre la Ley de Armonización Tributaria de Venezuela. Una colección es como un \"contenedor\" donde almacenas documentos y sus embeddings relacionados.\n",
    "\n",
    "lat_collection = chroma_client.create_collection(name=\"lat_collection\")\n"
   ],
   "id": "daff36ed20aabf96",
   "outputs": [],
   "execution_count": null
  },
  {
   "metadata": {},
   "cell_type": "code",
   "source": [
    "# Vamos a insertar los \"documentos\" en la colección manualmente. Un \"documento\" es un texto que queremos almacenar en la base de datos de vectores.\n",
    "lat_collection.add(\n",
    "    documents=[\n",
    "        \"\"\"Artículo 31. La alícuota del impuesto municipal a la actividad económica de\n",
    "industria, comercio, servicios o de índole similar no podrá ser superior al tres por\n",
    "ciento (3%) de los ingresos brutos obtenidos. El mínimo tributable anual para este\n",
    "impuesto no podrá ser superior al equivalente en bolívares de doscientas cuarenta\n",
    "veces el tipo de cambio de la moneda de mayor valor publicado por el Banco Central\n",
    "de Venezuela.\n",
    "Excepcionalmente, la alícuota del impuesto municipal a la actividad económica de\n",
    "industria, comercio, servicios o de índole similar será de hasta seis coma cinco por\n",
    "ciento (6,5%) de los ingresos brutos obtenidos, en los siguientes ramos:\n",
    "\n",
    "1. Explotación de minas y canteras.\n",
    "2. Servicios y construcción de industria petrolera.\n",
    "3. Servicios de publicidad.\n",
    "4. Venta al detal y/o mayor de bebidas alcohólicas.\n",
    "5. Expendio de alimentos, bebidas y esparcimiento.\n",
    "6. Bancos comerciales, instituciones financieras, seguros, administradoras y\n",
    "actividades de índole similar.\n",
    "\n",
    "7. Venta de joyas, relojes y piedras preciosas.\n",
    "8. Fabricación de licores, tabacos, cigarrillos y derivados.\"\"\", \n",
    "        \"\"\"Artículo 33. Las licencias o autorizaciones para el ejercicio de actividades\n",
    "económicas, industriales, comerciales, de servicios y de índole similar sujetas a esta\n",
    "Ley, tendrán una vigencia mínima de tres (3) años calendarios, contados a partir de\n",
    "la fecha de su emisión por parte de la autoridad correspondiente, sin perjuicio del\n",
    "pago de la tasa correspondiente por su mantenimiento anual.\n",
    "La renovación de las licencias o autorizaciones a que se refiere este artículo\n",
    "procederá de manera automática, bajo declaración jurada del solicitante sobre el\n",
    "efectivo cumplimiento de todos los requisitos y trámites establecidos, previo pago\n",
    "de los tributos que correspondan. Queda a salvo la facultad de las autoridades\n",
    "competentes de revisar, en cualquier momento, la veracidad de la declaración\n",
    "realizada por la persona solicitante.\"\"\",\n",
    "        \"\"\"Impuesto sobre instrumentos crediticios\n",
    "Artículo 40. El impuesto estadal por el otorgamiento de instrumentos crediticios a\n",
    "favor de personas naturales o jurídicas por parte de los bancos y demás instituciones\n",
    "financieras, cuyas sucursales o agencias se encuentren ubicadas en la jurisdicción\n",
    "de cada estado y del Distrito Capital, no podrá exceder de un bolívar por cada mil\n",
    "bolívares (1x1000).\n",
    "A tales efectos, se entenderá por instrumentos crediticios, aquellos mediante los\n",
    "cuales los bancos y demás instituciones financieras otorguen de manera directa \n",
    "cantidades dinerarias, en calidad de préstamos y bajo las condiciones por ellos\n",
    "estipuladas con excepción de las tarjetas de crédito y líneas de crédito.\n",
    "El impuesto establecido en este artículo se causará al momento de la emisión del\n",
    "instrumento crediticio.\"\"\"\n",
    "    ],\n",
    "    metadatas=[\n",
    "        {\"source\": \"https://assets.kpmg.com/content/dam/kpmg/ve/pdf/2023/08/Gaceta-Oficial-6.755.pdf\"}, \n",
    "        {\"source\": \"https://assets.kpmg.com/content/dam/kpmg/ve/pdf/2023/08/Gaceta-Oficial-6.755.pdf\"}, \n",
    "        {\"source\": \"https://assets.kpmg.com/content/dam/kpmg/ve/pdf/2023/08/Gaceta-Oficial-6.755.pdf\"}, \n",
    "    ],\n",
    "    ids=[\"lat-01\", \"lat-02\", \"lat-03\"]\n",
    ")"
   ],
   "id": "39c26c53083e389e",
   "outputs": [],
   "execution_count": null
  },
  {
   "metadata": {},
   "cell_type": "markdown",
   "source": "## Realizar una búsqueda semántica",
   "id": "4a31f68cfe105748"
  },
  {
   "metadata": {},
   "cell_type": "code",
   "source": [
    "results = lat_collection.query(\n",
    "    query_texts=[\"Cuál es la alícuota máxima del impuesto de actividades económicas en Venezuela?\"],\n",
    "    n_results=1\n",
    ")\n",
    "print(results)"
   ],
   "id": "af3836a80d6a58fa",
   "outputs": [],
   "execution_count": null
  },
  {
   "metadata": {},
   "cell_type": "code",
   "outputs": [],
   "execution_count": null,
   "source": [
    "results = lat_collection.query(\n",
    "    query_texts=[\"Cuál es la alícuota máxima del impuesto de actividades económicas en Venezuela?\"],\n",
    "    n_results=3\n",
    ")\n",
    "print(results)"
   ],
   "id": "6979f04a09ed32ba"
  },
  {
   "metadata": {},
   "cell_type": "markdown",
   "source": "Para más información sobre cómo usar Chroma DB, visita la documentación oficial: https://docs.trychroma.com/",
   "id": "4062d4d30755bb3b"
  },
  {
   "metadata": {},
   "cell_type": "markdown",
   "source": "",
   "id": "77bb9be5cb7da1ec"
  }
 ],
 "metadata": {
  "kernelspec": {
   "display_name": "Python 3",
   "language": "python",
   "name": "python3"
  },
  "language_info": {
   "codemirror_mode": {
    "name": "ipython",
    "version": 2
   },
   "file_extension": ".py",
   "mimetype": "text/x-python",
   "name": "python",
   "nbconvert_exporter": "python",
   "pygments_lexer": "ipython2",
   "version": "2.7.6"
  }
 },
 "nbformat": 4,
 "nbformat_minor": 5
}
